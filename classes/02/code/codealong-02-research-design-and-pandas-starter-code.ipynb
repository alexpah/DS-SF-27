{
 "cells": [
  {
   "cell_type": "markdown",
   "metadata": {},
   "source": [
    "# DS-SF-27 | Codealong 02 | Research Design and `pandas`"
   ]
  },
  {
   "cell_type": "markdown",
   "metadata": {},
   "source": [
    "## Part A - Introduction to `pandas` with the SF Housing dataset"
   ]
  },
  {
   "cell_type": "markdown",
   "metadata": {},
   "source": [
    "> ### Set up the environment"
   ]
  },
  {
   "cell_type": "code",
   "execution_count": 3,
   "metadata": {
    "collapsed": false
   },
   "outputs": [],
   "source": [
    "import os\n",
    "\n",
    "import pandas as pd\n",
    "pd.set_option('display.max_rows', 6)\n",
    "pd.set_option('display.notebook_repr_html', True)\n",
    "pd.set_option('display.max_columns', 10)"
   ]
  },
  {
   "cell_type": "markdown",
   "metadata": {},
   "source": [
    "> ### Load data from files and the Web"
   ]
  },
  {
   "cell_type": "markdown",
   "metadata": {},
   "source": [
    "`pandas` provides powerful facilities for easy retrieval of data from a variety of data sources.  In particular, it provides built-in support for loading data in `.csv` format, a common means of storing structured data in text files."
   ]
  },
  {
   "cell_type": "code",
   "execution_count": 4,
   "metadata": {
    "collapsed": false
   },
   "outputs": [],
   "source": [
    "df = pd.read_csv(os.path.join('..', 'datasets', 'zillow-02-starter.csv'))"
   ]
  },
  {
   "cell_type": "markdown",
   "metadata": {},
   "source": [
    "> Let's verify the type of `df`:"
   ]
  },
  {
   "cell_type": "code",
   "execution_count": 5,
   "metadata": {
    "collapsed": false
   },
   "outputs": [
    {
     "data": {
      "text/plain": [
       "pandas.core.frame.DataFrame"
      ]
     },
     "execution_count": 5,
     "metadata": {},
     "output_type": "execute_result"
    }
   ],
   "source": [
    "# TODO\n",
    "\n",
    "type(df)"
   ]
  },
  {
   "cell_type": "markdown",
   "metadata": {},
   "source": [
    "The result is a `DataFrame`.  A `DataFrame` stores tabular data:"
   ]
  },
  {
   "cell_type": "code",
   "execution_count": 6,
   "metadata": {
    "collapsed": false
   },
   "outputs": [
    {
     "data": {
      "text/html": [
       "<div>\n",
       "<table border=\"1\" class=\"dataframe\">\n",
       "  <thead>\n",
       "    <tr style=\"text-align: right;\">\n",
       "      <th></th>\n",
       "      <th>ID</th>\n",
       "      <th>Address</th>\n",
       "      <th>Latitude</th>\n",
       "      <th>Longitude</th>\n",
       "      <th>DateOfSale</th>\n",
       "      <th>...</th>\n",
       "      <th>Size</th>\n",
       "      <th>SizeUnit</th>\n",
       "      <th>LotSize</th>\n",
       "      <th>LotSizeUnit</th>\n",
       "      <th>BuiltInYear</th>\n",
       "    </tr>\n",
       "  </thead>\n",
       "  <tbody>\n",
       "    <tr>\n",
       "      <th>0</th>\n",
       "      <td>15063471</td>\n",
       "      <td>55 Vandewater St APT 9, San Francisco, CA</td>\n",
       "      <td>37805103</td>\n",
       "      <td>-122412856</td>\n",
       "      <td>12/4/15</td>\n",
       "      <td>...</td>\n",
       "      <td>550.0</td>\n",
       "      <td>sqft</td>\n",
       "      <td>NaN</td>\n",
       "      <td>NaN</td>\n",
       "      <td>1980.0</td>\n",
       "    </tr>\n",
       "    <tr>\n",
       "      <th>1</th>\n",
       "      <td>15063505</td>\n",
       "      <td>740 Francisco St, San Francisco, CA</td>\n",
       "      <td>37804420</td>\n",
       "      <td>-122417389</td>\n",
       "      <td>11/30/15</td>\n",
       "      <td>...</td>\n",
       "      <td>1430.0</td>\n",
       "      <td>sqft</td>\n",
       "      <td>2435.0</td>\n",
       "      <td>sqft</td>\n",
       "      <td>1948.0</td>\n",
       "    </tr>\n",
       "    <tr>\n",
       "      <th>2</th>\n",
       "      <td>15063609</td>\n",
       "      <td>819 Francisco St, San Francisco, CA</td>\n",
       "      <td>37803728</td>\n",
       "      <td>-122419055</td>\n",
       "      <td>11/12/15</td>\n",
       "      <td>...</td>\n",
       "      <td>2040.0</td>\n",
       "      <td>sqft</td>\n",
       "      <td>3920.0</td>\n",
       "      <td>sqft</td>\n",
       "      <td>1976.0</td>\n",
       "    </tr>\n",
       "    <tr>\n",
       "      <th>...</th>\n",
       "      <td>...</td>\n",
       "      <td>...</td>\n",
       "      <td>...</td>\n",
       "      <td>...</td>\n",
       "      <td>...</td>\n",
       "      <td>...</td>\n",
       "      <td>...</td>\n",
       "      <td>...</td>\n",
       "      <td>...</td>\n",
       "      <td>...</td>\n",
       "      <td>...</td>\n",
       "    </tr>\n",
       "    <tr>\n",
       "      <th>997</th>\n",
       "      <td>2128308939</td>\n",
       "      <td>33 Santa Cruz Ave, San Francisco, CA</td>\n",
       "      <td>37709136</td>\n",
       "      <td>-122465332</td>\n",
       "      <td>12/10/15</td>\n",
       "      <td>...</td>\n",
       "      <td>1738.0</td>\n",
       "      <td>sqft</td>\n",
       "      <td>2299.0</td>\n",
       "      <td>sqft</td>\n",
       "      <td>1976.0</td>\n",
       "    </tr>\n",
       "    <tr>\n",
       "      <th>998</th>\n",
       "      <td>2131957929</td>\n",
       "      <td>1821 Grant Ave, San Francisco, CA</td>\n",
       "      <td>37803760</td>\n",
       "      <td>-122408531</td>\n",
       "      <td>12/15/15</td>\n",
       "      <td>...</td>\n",
       "      <td>1048.0</td>\n",
       "      <td>sqft</td>\n",
       "      <td>NaN</td>\n",
       "      <td>NaN</td>\n",
       "      <td>1975.0</td>\n",
       "    </tr>\n",
       "    <tr>\n",
       "      <th>999</th>\n",
       "      <td>2136213970</td>\n",
       "      <td>1200 Gough St, San Francisco, CA</td>\n",
       "      <td>37784770</td>\n",
       "      <td>-122424100</td>\n",
       "      <td>1/10/16</td>\n",
       "      <td>...</td>\n",
       "      <td>900.0</td>\n",
       "      <td>sqft</td>\n",
       "      <td>NaN</td>\n",
       "      <td>NaN</td>\n",
       "      <td>1966.0</td>\n",
       "    </tr>\n",
       "  </tbody>\n",
       "</table>\n",
       "<p>1000 rows × 15 columns</p>\n",
       "</div>"
      ],
      "text/plain": [
       "             ID                                    Address  Latitude  \\\n",
       "0      15063471  55 Vandewater St APT 9, San Francisco, CA  37805103   \n",
       "1      15063505        740 Francisco St, San Francisco, CA  37804420   \n",
       "2      15063609        819 Francisco St, San Francisco, CA  37803728   \n",
       "..          ...                                        ...       ...   \n",
       "997  2128308939       33 Santa Cruz Ave, San Francisco, CA  37709136   \n",
       "998  2131957929          1821 Grant Ave, San Francisco, CA  37803760   \n",
       "999  2136213970           1200 Gough St, San Francisco, CA  37784770   \n",
       "\n",
       "     Longitude DateOfSale     ...         Size SizeUnit LotSize  LotSizeUnit  \\\n",
       "0   -122412856    12/4/15     ...        550.0     sqft     NaN          NaN   \n",
       "1   -122417389   11/30/15     ...       1430.0     sqft  2435.0         sqft   \n",
       "2   -122419055   11/12/15     ...       2040.0     sqft  3920.0         sqft   \n",
       "..         ...        ...     ...          ...      ...     ...          ...   \n",
       "997 -122465332   12/10/15     ...       1738.0     sqft  2299.0         sqft   \n",
       "998 -122408531   12/15/15     ...       1048.0     sqft     NaN          NaN   \n",
       "999 -122424100    1/10/16     ...        900.0     sqft     NaN          NaN   \n",
       "\n",
       "     BuiltInYear  \n",
       "0         1980.0  \n",
       "1         1948.0  \n",
       "2         1976.0  \n",
       "..           ...  \n",
       "997       1976.0  \n",
       "998       1975.0  \n",
       "999       1966.0  \n",
       "\n",
       "[1000 rows x 15 columns]"
      ]
     },
     "execution_count": 6,
     "metadata": {},
     "output_type": "execute_result"
    }
   ],
   "source": [
    "df"
   ]
  },
  {
   "cell_type": "markdown",
   "metadata": {},
   "source": [
    "> ### Shape of the `DataFrame`: number of rows and columns"
   ]
  },
  {
   "cell_type": "code",
   "execution_count": null,
   "metadata": {
    "collapsed": false
   },
   "outputs": [],
   "source": [
    "df.shape"
   ]
  },
  {
   "cell_type": "markdown",
   "metadata": {},
   "source": [
    "The first value is the number of rows, the second the number of columns."
   ]
  },
  {
   "cell_type": "code",
   "execution_count": null,
   "metadata": {
    "collapsed": false
   },
   "outputs": [],
   "source": [
    "df.shape[0]"
   ]
  },
  {
   "cell_type": "code",
   "execution_count": null,
   "metadata": {
    "collapsed": false
   },
   "outputs": [],
   "source": [
    "df.shape[1]"
   ]
  },
  {
   "cell_type": "markdown",
   "metadata": {},
   "source": [
    "(you can also use the idiomatic `len` to get the number of rows)"
   ]
  },
  {
   "cell_type": "code",
   "execution_count": null,
   "metadata": {
    "collapsed": false
   },
   "outputs": [],
   "source": [
    "len(df)"
   ]
  },
  {
   "cell_type": "markdown",
   "metadata": {},
   "source": [
    "> We can get the \"names\" of the rows of the `DataFrame` with the `index` property."
   ]
  },
  {
   "cell_type": "code",
   "execution_count": null,
   "metadata": {
    "collapsed": false
   },
   "outputs": [],
   "source": [
    "df.index"
   ]
  },
  {
   "cell_type": "markdown",
   "metadata": {},
   "source": [
    "Here, rows are just numbered from 0 to 1,000 (excluded)."
   ]
  },
  {
   "cell_type": "markdown",
   "metadata": {},
   "source": [
    "> We can also get the names of the different columns of the `DataFrame` with the `column` property."
   ]
  },
  {
   "cell_type": "code",
   "execution_count": null,
   "metadata": {
    "collapsed": false
   },
   "outputs": [],
   "source": [
    "df.columns"
   ]
  },
  {
   "cell_type": "markdown",
   "metadata": {},
   "source": [
    "> ### Subsetting on columns of a `DataFrame`"
   ]
  },
  {
   "cell_type": "markdown",
   "metadata": {},
   "source": [
    "Selecting data in specific columns of a `DataFrame` is performed by using the `[]` operator.\n",
    "\n",
    "Passing a single integer, or a list of integers, to `[]` will perform a location based lookup of the columns."
   ]
  },
  {
   "cell_type": "markdown",
   "metadata": {},
   "source": [
    "> E.g., columns #5 and #6:"
   ]
  },
  {
   "cell_type": "code",
   "execution_count": null,
   "metadata": {
    "collapsed": false
   },
   "outputs": [],
   "source": [
    "# TODO"
   ]
  },
  {
   "cell_type": "markdown",
   "metadata": {},
   "source": [
    "> Let's check that the column subsetting returns a `DataFrame`:"
   ]
  },
  {
   "cell_type": "code",
   "execution_count": null,
   "metadata": {
    "collapsed": false
   },
   "outputs": [],
   "source": [
    "# TODO"
   ]
  },
  {
   "cell_type": "markdown",
   "metadata": {},
   "source": [
    "A `DataFrame` can be made of a single column."
   ]
  },
  {
   "cell_type": "markdown",
   "metadata": {},
   "source": [
    "> E.g., column #7 only:"
   ]
  },
  {
   "cell_type": "code",
   "execution_count": null,
   "metadata": {
    "collapsed": false
   },
   "outputs": [],
   "source": [
    "# TODO"
   ]
  },
  {
   "cell_type": "markdown",
   "metadata": {},
   "source": [
    "If the values passed to `[]` are non-integers, the `DataFrame` will attempt to match them to those in the `columns` property."
   ]
  },
  {
   "cell_type": "markdown",
   "metadata": {},
   "source": [
    "> Let's subset the `DataFrame` on columns `SalePrice` and `SalePriceUnit`:"
   ]
  },
  {
   "cell_type": "code",
   "execution_count": null,
   "metadata": {
    "collapsed": false
   },
   "outputs": [],
   "source": [
    "# TODO"
   ]
  },
  {
   "cell_type": "markdown",
   "metadata": {},
   "source": [
    "However, you cannot mix integers and non-integers.  E.g.,"
   ]
  },
  {
   "cell_type": "code",
   "execution_count": null,
   "metadata": {
    "collapsed": false
   },
   "outputs": [],
   "source": [
    "# \"df[ ['SalePrice', 6] ]\" errors out...  Try it!"
   ]
  },
  {
   "cell_type": "markdown",
   "metadata": {
    "collapsed": true
   },
   "source": [
    "Not passing a list always results in a value based lookup of the column:"
   ]
  },
  {
   "cell_type": "code",
   "execution_count": null,
   "metadata": {
    "collapsed": false
   },
   "outputs": [],
   "source": [
    "df['Address']"
   ]
  },
  {
   "cell_type": "markdown",
   "metadata": {},
   "source": [
    "> Let's double check that result is a `Series`:"
   ]
  },
  {
   "cell_type": "code",
   "execution_count": null,
   "metadata": {
    "collapsed": false
   },
   "outputs": [],
   "source": [
    "# TODO"
   ]
  },
  {
   "cell_type": "markdown",
   "metadata": {},
   "source": [
    "Columns can also be retrieved using \"attribute access\" as `DataFrame`s add a property for each column with the names of the properties as the names of the columns.  However, this won't work for columns that have spaces or dots in their name."
   ]
  },
  {
   "cell_type": "markdown",
   "metadata": {},
   "source": [
    "> Let's check the value of `df`'s `Address` property:"
   ]
  },
  {
   "cell_type": "code",
   "execution_count": null,
   "metadata": {
    "collapsed": false
   },
   "outputs": [],
   "source": [
    "# TODO"
   ]
  },
  {
   "cell_type": "markdown",
   "metadata": {},
   "source": [
    "> Use the `name` property (not `columns`, that's for a `DataFrame`) to get the name of the variable stored inside it."
   ]
  },
  {
   "cell_type": "code",
   "execution_count": null,
   "metadata": {
    "collapsed": false
   },
   "outputs": [],
   "source": [
    "# TODO"
   ]
  },
  {
   "cell_type": "markdown",
   "metadata": {},
   "source": [
    "To find the zero-based location of a column, use the `.get_loc()` method of the `columns` property.  E.g.,"
   ]
  },
  {
   "cell_type": "code",
   "execution_count": null,
   "metadata": {
    "collapsed": false
   },
   "outputs": [],
   "source": [
    "df.columns.get_loc('BedCount')"
   ]
  },
  {
   "cell_type": "code",
   "execution_count": null,
   "metadata": {
    "collapsed": false
   },
   "outputs": [],
   "source": [
    "df[ [df.columns.get_loc('BedCount')] ]"
   ]
  },
  {
   "cell_type": "markdown",
   "metadata": {},
   "source": [
    "> We should get the same output as subsetting a `DataFrame` on `BedCount`:"
   ]
  },
  {
   "cell_type": "code",
   "execution_count": null,
   "metadata": {
    "collapsed": false
   },
   "outputs": [],
   "source": [
    "# TODO"
   ]
  },
  {
   "cell_type": "markdown",
   "metadata": {
    "collapsed": true
   },
   "source": [
    "> ### Subsetting on rows of a `DataFrame`; and values of a `DataFrame` using the index"
   ]
  },
  {
   "cell_type": "markdown",
   "metadata": {
    "collapsed": true
   },
   "source": [
    "#### Slice using the `[]` operator"
   ]
  },
  {
   "cell_type": "markdown",
   "metadata": {},
   "source": [
    "> E.g., the first five rows:"
   ]
  },
  {
   "cell_type": "code",
   "execution_count": null,
   "metadata": {
    "collapsed": false
   },
   "outputs": [],
   "source": [
    "# TODO"
   ]
  },
  {
   "cell_type": "markdown",
   "metadata": {
    "collapsed": true
   },
   "source": [
    "> ### Select rows by index label and location: `.loc[]` and `.iloc[]`"
   ]
  },
  {
   "cell_type": "markdown",
   "metadata": {},
   "source": [
    "Until now, the index of the `DataFrame` is a numerical starting from 0 but you can specify which column(s) should be in the index.  E.g., `ID`:"
   ]
  },
  {
   "cell_type": "code",
   "execution_count": null,
   "metadata": {
    "collapsed": false
   },
   "outputs": [],
   "source": [
    "df = df.set_index('ID')"
   ]
  },
  {
   "cell_type": "code",
   "execution_count": null,
   "metadata": {
    "collapsed": false
   },
   "outputs": [],
   "source": [
    "df.index"
   ]
  },
  {
   "cell_type": "code",
   "execution_count": null,
   "metadata": {
    "collapsed": false
   },
   "outputs": [],
   "source": [
    "df"
   ]
  },
  {
   "cell_type": "markdown",
   "metadata": {},
   "source": [
    "> E.g., row with index 15063505:"
   ]
  },
  {
   "cell_type": "code",
   "execution_count": null,
   "metadata": {
    "collapsed": false
   },
   "outputs": [],
   "source": [
    "# TODO\n",
    "\n"
   ]
  },
  {
   "cell_type": "markdown",
   "metadata": {},
   "source": [
    "Its name is its value in the index."
   ]
  },
  {
   "cell_type": "markdown",
   "metadata": {},
   "source": [
    "> E.g., rows with indices 15063505 and 15064044:"
   ]
  },
  {
   "cell_type": "code",
   "execution_count": null,
   "metadata": {
    "collapsed": false
   },
   "outputs": [],
   "source": [
    "# TODO"
   ]
  },
  {
   "cell_type": "markdown",
   "metadata": {
    "collapsed": true
   },
   "source": [
    "> E.g., rows #1 and #3:"
   ]
  },
  {
   "cell_type": "code",
   "execution_count": null,
   "metadata": {
    "collapsed": false
   },
   "outputs": [],
   "source": [
    "# TODO"
   ]
  },
  {
   "cell_type": "markdown",
   "metadata": {
    "collapsed": true
   },
   "source": [
    "> ### Scalar lookup by label or location using `.at[]` and `.iat[]`"
   ]
  },
  {
   "cell_type": "markdown",
   "metadata": {
    "collapsed": true
   },
   "source": [
    "Scalar values can be looked up by label using .at, by passing both the row label and then the column name/value."
   ]
  },
  {
   "cell_type": "markdown",
   "metadata": {},
   "source": [
    "> E.g., row with index 15064044 and column `DateOfSale`."
   ]
  },
  {
   "cell_type": "code",
   "execution_count": null,
   "metadata": {
    "collapsed": false
   },
   "outputs": [],
   "source": [
    "# TODO\n",
    "\n",
    "df.at(15064044, 'DateOfSale')"
   ]
  },
  {
   "cell_type": "markdown",
   "metadata": {
    "collapsed": true
   },
   "source": [
    "Scalar values can also be looked up by location using .iat by passing both the row location and then the column location."
   ]
  },
  {
   "cell_type": "markdown",
   "metadata": {},
   "source": [
    "> E.g., row #3 and column #3:"
   ]
  },
  {
   "cell_type": "code",
   "execution_count": null,
   "metadata": {
    "collapsed": false
   },
   "outputs": [],
   "source": [
    "# TODO\n",
    "\n"
   ]
  },
  {
   "cell_type": "markdown",
   "metadata": {},
   "source": [
    "> ### Select rows of a `DataFrame` by Boolean selection"
   ]
  },
  {
   "cell_type": "markdown",
   "metadata": {},
   "source": [
    "Rows can also be selected by using Boolean selection, using an array calculated from the result of applying a logical condition on the values in any of the columns.  This allows us to build more complicated selections than those based simply upon index labels or positions."
   ]
  },
  {
   "cell_type": "markdown",
   "metadata": {},
   "source": [
    "> E.g., what homes have been built before 1900?"
   ]
  },
  {
   "cell_type": "code",
   "execution_count": 2,
   "metadata": {
    "collapsed": false
   },
   "outputs": [
    {
     "ename": "NameError",
     "evalue": "name 'df' is not defined",
     "output_type": "error",
     "traceback": [
      "\u001b[0;31m---------------------------------------------------------------------------\u001b[0m",
      "\u001b[0;31mNameError\u001b[0m                                 Traceback (most recent call last)",
      "\u001b[0;32m<ipython-input-2-fca267317ce3>\u001b[0m in \u001b[0;36m<module>\u001b[0;34m()\u001b[0m\n\u001b[1;32m      1\u001b[0m \u001b[0;31m# TODO\u001b[0m\u001b[0;34m\u001b[0m\u001b[0;34m\u001b[0m\u001b[0m\n\u001b[1;32m      2\u001b[0m \u001b[0;34m\u001b[0m\u001b[0m\n\u001b[0;32m----> 3\u001b[0;31m \u001b[0mdf\u001b[0m\u001b[0;34m.\u001b[0m\u001b[0mBuiltInYear\u001b[0m\u001b[0;34m\u001b[0m\u001b[0m\n\u001b[0m",
      "\u001b[0;31mNameError\u001b[0m: name 'df' is not defined"
     ]
    }
   ],
   "source": [
    "# TODO\n",
    "\n",
    "df.BuiltInYear <1930"
   ]
  },
  {
   "cell_type": "markdown",
   "metadata": {},
   "source": [
    "This results in a `Series` that can be used to subset on the rows which values are `True`."
   ]
  },
  {
   "cell_type": "markdown",
   "metadata": {},
   "source": [
    "> Let's subset on that `Series`:"
   ]
  },
  {
   "cell_type": "code",
   "execution_count": 7,
   "metadata": {
    "collapsed": false
   },
   "outputs": [
    {
     "data": {
      "text/html": [
       "<div>\n",
       "<table border=\"1\" class=\"dataframe\">\n",
       "  <thead>\n",
       "    <tr style=\"text-align: right;\">\n",
       "      <th></th>\n",
       "      <th>Address</th>\n",
       "    </tr>\n",
       "  </thead>\n",
       "  <tbody>\n",
       "    <tr>\n",
       "      <th>7</th>\n",
       "      <td>2300 Leavenworth St, San Francisco, CA</td>\n",
       "    </tr>\n",
       "    <tr>\n",
       "      <th>11</th>\n",
       "      <td>1407 Montgomery St APT 2, San Francisco, CA</td>\n",
       "    </tr>\n",
       "    <tr>\n",
       "      <th>13</th>\n",
       "      <td>1327-1329 Kearny St, San Francisco, CA</td>\n",
       "    </tr>\n",
       "    <tr>\n",
       "      <th>...</th>\n",
       "      <td>...</td>\n",
       "    </tr>\n",
       "    <tr>\n",
       "      <th>991</th>\n",
       "      <td>201 Sansome St UNIT 501, San Francisco, CA</td>\n",
       "    </tr>\n",
       "    <tr>\n",
       "      <th>992</th>\n",
       "      <td>925 Larkin St, San Francisco, CA</td>\n",
       "    </tr>\n",
       "    <tr>\n",
       "      <th>994</th>\n",
       "      <td>129 Octavia St, San Francisco, CA</td>\n",
       "    </tr>\n",
       "  </tbody>\n",
       "</table>\n",
       "<p>407 rows × 1 columns</p>\n",
       "</div>"
      ],
      "text/plain": [
       "                                         Address\n",
       "7         2300 Leavenworth St, San Francisco, CA\n",
       "11   1407 Montgomery St APT 2, San Francisco, CA\n",
       "13        1327-1329 Kearny St, San Francisco, CA\n",
       "..                                           ...\n",
       "991   201 Sansome St UNIT 501, San Francisco, CA\n",
       "992             925 Larkin St, San Francisco, CA\n",
       "994            129 Octavia St, San Francisco, CA\n",
       "\n",
       "[407 rows x 1 columns]"
      ]
     },
     "execution_count": 7,
     "metadata": {},
     "output_type": "execute_result"
    }
   ],
   "source": [
    "# TODO\n",
    "\n",
    "df[ df.BuiltInYear < 1930 ][ ['Address']]"
   ]
  },
  {
   "cell_type": "markdown",
   "metadata": {},
   "source": [
    "Multiple conditions can be put together."
   ]
  },
  {
   "cell_type": "markdown",
   "metadata": {},
   "source": [
    "> E.g., subset for `BuiltInYear` below 1900 and `Size` over 1500:"
   ]
  },
  {
   "cell_type": "code",
   "execution_count": 12,
   "metadata": {
    "collapsed": false
   },
   "outputs": [
    {
     "data": {
      "text/html": [
       "<div>\n",
       "<table border=\"1\" class=\"dataframe\">\n",
       "  <thead>\n",
       "    <tr style=\"text-align: right;\">\n",
       "      <th></th>\n",
       "      <th>ID</th>\n",
       "      <th>Address</th>\n",
       "      <th>Latitude</th>\n",
       "      <th>Longitude</th>\n",
       "      <th>DateOfSale</th>\n",
       "      <th>...</th>\n",
       "      <th>Size</th>\n",
       "      <th>SizeUnit</th>\n",
       "      <th>LotSize</th>\n",
       "      <th>LotSizeUnit</th>\n",
       "      <th>BuiltInYear</th>\n",
       "    </tr>\n",
       "  </thead>\n",
       "  <tbody>\n",
       "    <tr>\n",
       "      <th>72</th>\n",
       "      <td>15076156</td>\n",
       "      <td>1533 Sutter St, San Francisco, CA</td>\n",
       "      <td>37786658</td>\n",
       "      <td>-122426481</td>\n",
       "      <td>11/12/15</td>\n",
       "      <td>...</td>\n",
       "      <td>7375.0</td>\n",
       "      <td>sqft</td>\n",
       "      <td>2748.0</td>\n",
       "      <td>sqft</td>\n",
       "      <td>1890.0</td>\n",
       "    </tr>\n",
       "    <tr>\n",
       "      <th>91</th>\n",
       "      <td>15078536</td>\n",
       "      <td>640 Steiner St, San Francisco, CA</td>\n",
       "      <td>37775399</td>\n",
       "      <td>-122432491</td>\n",
       "      <td>12/15/15</td>\n",
       "      <td>...</td>\n",
       "      <td>1593.0</td>\n",
       "      <td>sqft</td>\n",
       "      <td>NaN</td>\n",
       "      <td>NaN</td>\n",
       "      <td>1895.0</td>\n",
       "    </tr>\n",
       "    <tr>\n",
       "      <th>93</th>\n",
       "      <td>15078866</td>\n",
       "      <td>753-755 Oak St, San Francisco, CA</td>\n",
       "      <td>37773576</td>\n",
       "      <td>-122431663</td>\n",
       "      <td>11/10/15</td>\n",
       "      <td>...</td>\n",
       "      <td>2430.0</td>\n",
       "      <td>sqft</td>\n",
       "      <td>3781.0</td>\n",
       "      <td>sqft</td>\n",
       "      <td>1890.0</td>\n",
       "    </tr>\n",
       "    <tr>\n",
       "      <th>...</th>\n",
       "      <td>...</td>\n",
       "      <td>...</td>\n",
       "      <td>...</td>\n",
       "      <td>...</td>\n",
       "      <td>...</td>\n",
       "      <td>...</td>\n",
       "      <td>...</td>\n",
       "      <td>...</td>\n",
       "      <td>...</td>\n",
       "      <td>...</td>\n",
       "      <td>...</td>\n",
       "    </tr>\n",
       "    <tr>\n",
       "      <th>829</th>\n",
       "      <td>82785514</td>\n",
       "      <td>1394 Mcallister St, San Francisco, CA</td>\n",
       "      <td>37778463</td>\n",
       "      <td>-122434933</td>\n",
       "      <td>11/13/15</td>\n",
       "      <td>...</td>\n",
       "      <td>2300.0</td>\n",
       "      <td>sqft</td>\n",
       "      <td>NaN</td>\n",
       "      <td>NaN</td>\n",
       "      <td>1890.0</td>\n",
       "    </tr>\n",
       "    <tr>\n",
       "      <th>898</th>\n",
       "      <td>119684777</td>\n",
       "      <td>967 Hayes St, San Francisco, CA</td>\n",
       "      <td>37775645</td>\n",
       "      <td>-122432222</td>\n",
       "      <td>12/17/15</td>\n",
       "      <td>...</td>\n",
       "      <td>3006.0</td>\n",
       "      <td>sqft</td>\n",
       "      <td>NaN</td>\n",
       "      <td>NaN</td>\n",
       "      <td>1885.0</td>\n",
       "    </tr>\n",
       "    <tr>\n",
       "      <th>994</th>\n",
       "      <td>2122992200</td>\n",
       "      <td>129 Octavia St, San Francisco, CA</td>\n",
       "      <td>37773192</td>\n",
       "      <td>-122424037</td>\n",
       "      <td>11/20/15</td>\n",
       "      <td>...</td>\n",
       "      <td>3655.0</td>\n",
       "      <td>sqft</td>\n",
       "      <td>NaN</td>\n",
       "      <td>NaN</td>\n",
       "      <td>1883.0</td>\n",
       "    </tr>\n",
       "  </tbody>\n",
       "</table>\n",
       "<p>9 rows × 15 columns</p>\n",
       "</div>"
      ],
      "text/plain": [
       "             ID                                Address  Latitude  Longitude  \\\n",
       "72     15076156      1533 Sutter St, San Francisco, CA  37786658 -122426481   \n",
       "91     15078536      640 Steiner St, San Francisco, CA  37775399 -122432491   \n",
       "93     15078866      753-755 Oak St, San Francisco, CA  37773576 -122431663   \n",
       "..          ...                                    ...       ...        ...   \n",
       "829    82785514  1394 Mcallister St, San Francisco, CA  37778463 -122434933   \n",
       "898   119684777        967 Hayes St, San Francisco, CA  37775645 -122432222   \n",
       "994  2122992200      129 Octavia St, San Francisco, CA  37773192 -122424037   \n",
       "\n",
       "    DateOfSale     ...         Size SizeUnit LotSize  LotSizeUnit  BuiltInYear  \n",
       "72    11/12/15     ...       7375.0     sqft  2748.0         sqft       1890.0  \n",
       "91    12/15/15     ...       1593.0     sqft     NaN          NaN       1895.0  \n",
       "93    11/10/15     ...       2430.0     sqft  3781.0         sqft       1890.0  \n",
       "..         ...     ...          ...      ...     ...          ...          ...  \n",
       "829   11/13/15     ...       2300.0     sqft     NaN          NaN       1890.0  \n",
       "898   12/17/15     ...       3006.0     sqft     NaN          NaN       1885.0  \n",
       "994   11/20/15     ...       3655.0     sqft     NaN          NaN       1883.0  \n",
       "\n",
       "[9 rows x 15 columns]"
      ]
     },
     "execution_count": 12,
     "metadata": {},
     "output_type": "execute_result"
    }
   ],
   "source": [
    "# TODO\n",
    "\n",
    "df[(df.BuiltInYear < 1900) & (df.Size > 1500)]"
   ]
  },
  {
   "cell_type": "markdown",
   "metadata": {},
   "source": [
    "It is possible to subset on columns simultaneously."
   ]
  },
  {
   "cell_type": "markdown",
   "metadata": {},
   "source": [
    "> E.g., subset (a `DataFrame`) on `Address` for `BuiltInYear` below 1900 and `Size` over 1500:"
   ]
  },
  {
   "cell_type": "code",
   "execution_count": 14,
   "metadata": {
    "collapsed": false
   },
   "outputs": [
    {
     "data": {
      "text/html": [
       "<div>\n",
       "<table border=\"1\" class=\"dataframe\">\n",
       "  <thead>\n",
       "    <tr style=\"text-align: right;\">\n",
       "      <th></th>\n",
       "      <th>Address</th>\n",
       "    </tr>\n",
       "  </thead>\n",
       "  <tbody>\n",
       "    <tr>\n",
       "      <th>72</th>\n",
       "      <td>1533 Sutter St, San Francisco, CA</td>\n",
       "    </tr>\n",
       "    <tr>\n",
       "      <th>91</th>\n",
       "      <td>640 Steiner St, San Francisco, CA</td>\n",
       "    </tr>\n",
       "    <tr>\n",
       "      <th>93</th>\n",
       "      <td>753-755 Oak St, San Francisco, CA</td>\n",
       "    </tr>\n",
       "    <tr>\n",
       "      <th>...</th>\n",
       "      <td>...</td>\n",
       "    </tr>\n",
       "    <tr>\n",
       "      <th>829</th>\n",
       "      <td>1394 Mcallister St, San Francisco, CA</td>\n",
       "    </tr>\n",
       "    <tr>\n",
       "      <th>898</th>\n",
       "      <td>967 Hayes St, San Francisco, CA</td>\n",
       "    </tr>\n",
       "    <tr>\n",
       "      <th>994</th>\n",
       "      <td>129 Octavia St, San Francisco, CA</td>\n",
       "    </tr>\n",
       "  </tbody>\n",
       "</table>\n",
       "<p>9 rows × 1 columns</p>\n",
       "</div>"
      ],
      "text/plain": [
       "                                   Address\n",
       "72       1533 Sutter St, San Francisco, CA\n",
       "91       640 Steiner St, San Francisco, CA\n",
       "93       753-755 Oak St, San Francisco, CA\n",
       "..                                     ...\n",
       "829  1394 Mcallister St, San Francisco, CA\n",
       "898        967 Hayes St, San Francisco, CA\n",
       "994      129 Octavia St, San Francisco, CA\n",
       "\n",
       "[9 rows x 1 columns]"
      ]
     },
     "execution_count": 14,
     "metadata": {},
     "output_type": "execute_result"
    }
   ],
   "source": [
    "# TODO\n",
    "\n",
    "df[(df.BuiltInYear < 1900) & (df.Size > 1500)] [ [\"Address\"]]"
   ]
  },
  {
   "cell_type": "markdown",
   "metadata": {},
   "source": [
    "> To get a `Series` instead of a `DataFrame`:"
   ]
  },
  {
   "cell_type": "code",
   "execution_count": null,
   "metadata": {
    "collapsed": false
   },
   "outputs": [],
   "source": [
    "# TODO"
   ]
  },
  {
   "cell_type": "markdown",
   "metadata": {},
   "source": [
    "## Part B - Wrangling the SF Housing dataset (take 2) with `pandas`"
   ]
  },
  {
   "cell_type": "code",
   "execution_count": 15,
   "metadata": {
    "collapsed": false
   },
   "outputs": [],
   "source": [
    "df = pd.read_csv(os.path.join('..', 'datasets', 'zillow-02-starter.csv'), index_col = 'ID')"
   ]
  },
  {
   "cell_type": "markdown",
   "metadata": {},
   "source": [
    "(`pd.read_csv` can load the dataset and set the index column for the `DataFrame` at the same time)"
   ]
  },
  {
   "cell_type": "markdown",
   "metadata": {},
   "source": [
    "> ### Remove the `Latitude` and `Longitude` columns"
   ]
  },
  {
   "cell_type": "code",
   "execution_count": 16,
   "metadata": {
    "collapsed": false
   },
   "outputs": [],
   "source": [
    "df.drop(['Latitude', 'Longitude'], axis = 1, inplace = True)"
   ]
  },
  {
   "cell_type": "code",
   "execution_count": 17,
   "metadata": {
    "collapsed": false
   },
   "outputs": [
    {
     "data": {
      "text/html": [
       "<div>\n",
       "<table border=\"1\" class=\"dataframe\">\n",
       "  <thead>\n",
       "    <tr style=\"text-align: right;\">\n",
       "      <th></th>\n",
       "      <th>Address</th>\n",
       "      <th>DateOfSale</th>\n",
       "      <th>SalePrice</th>\n",
       "      <th>SalePriceUnit</th>\n",
       "      <th>IsAStudio</th>\n",
       "      <th>...</th>\n",
       "      <th>Size</th>\n",
       "      <th>SizeUnit</th>\n",
       "      <th>LotSize</th>\n",
       "      <th>LotSizeUnit</th>\n",
       "      <th>BuiltInYear</th>\n",
       "    </tr>\n",
       "    <tr>\n",
       "      <th>ID</th>\n",
       "      <th></th>\n",
       "      <th></th>\n",
       "      <th></th>\n",
       "      <th></th>\n",
       "      <th></th>\n",
       "      <th></th>\n",
       "      <th></th>\n",
       "      <th></th>\n",
       "      <th></th>\n",
       "      <th></th>\n",
       "      <th></th>\n",
       "    </tr>\n",
       "  </thead>\n",
       "  <tbody>\n",
       "    <tr>\n",
       "      <th>15063471</th>\n",
       "      <td>55 Vandewater St APT 9, San Francisco, CA</td>\n",
       "      <td>12/4/15</td>\n",
       "      <td>710000.00</td>\n",
       "      <td>$</td>\n",
       "      <td>False</td>\n",
       "      <td>...</td>\n",
       "      <td>550.0</td>\n",
       "      <td>sqft</td>\n",
       "      <td>NaN</td>\n",
       "      <td>NaN</td>\n",
       "      <td>1980.0</td>\n",
       "    </tr>\n",
       "    <tr>\n",
       "      <th>15063505</th>\n",
       "      <td>740 Francisco St, San Francisco, CA</td>\n",
       "      <td>11/30/15</td>\n",
       "      <td>2.15</td>\n",
       "      <td>$M</td>\n",
       "      <td>False</td>\n",
       "      <td>...</td>\n",
       "      <td>1430.0</td>\n",
       "      <td>sqft</td>\n",
       "      <td>2435.0</td>\n",
       "      <td>sqft</td>\n",
       "      <td>1948.0</td>\n",
       "    </tr>\n",
       "    <tr>\n",
       "      <th>15063609</th>\n",
       "      <td>819 Francisco St, San Francisco, CA</td>\n",
       "      <td>11/12/15</td>\n",
       "      <td>5.60</td>\n",
       "      <td>$M</td>\n",
       "      <td>False</td>\n",
       "      <td>...</td>\n",
       "      <td>2040.0</td>\n",
       "      <td>sqft</td>\n",
       "      <td>3920.0</td>\n",
       "      <td>sqft</td>\n",
       "      <td>1976.0</td>\n",
       "    </tr>\n",
       "    <tr>\n",
       "      <th>...</th>\n",
       "      <td>...</td>\n",
       "      <td>...</td>\n",
       "      <td>...</td>\n",
       "      <td>...</td>\n",
       "      <td>...</td>\n",
       "      <td>...</td>\n",
       "      <td>...</td>\n",
       "      <td>...</td>\n",
       "      <td>...</td>\n",
       "      <td>...</td>\n",
       "      <td>...</td>\n",
       "    </tr>\n",
       "    <tr>\n",
       "      <th>2128308939</th>\n",
       "      <td>33 Santa Cruz Ave, San Francisco, CA</td>\n",
       "      <td>12/10/15</td>\n",
       "      <td>830000.00</td>\n",
       "      <td>$</td>\n",
       "      <td>False</td>\n",
       "      <td>...</td>\n",
       "      <td>1738.0</td>\n",
       "      <td>sqft</td>\n",
       "      <td>2299.0</td>\n",
       "      <td>sqft</td>\n",
       "      <td>1976.0</td>\n",
       "    </tr>\n",
       "    <tr>\n",
       "      <th>2131957929</th>\n",
       "      <td>1821 Grant Ave, San Francisco, CA</td>\n",
       "      <td>12/15/15</td>\n",
       "      <td>835000.00</td>\n",
       "      <td>$</td>\n",
       "      <td>False</td>\n",
       "      <td>...</td>\n",
       "      <td>1048.0</td>\n",
       "      <td>sqft</td>\n",
       "      <td>NaN</td>\n",
       "      <td>NaN</td>\n",
       "      <td>1975.0</td>\n",
       "    </tr>\n",
       "    <tr>\n",
       "      <th>2136213970</th>\n",
       "      <td>1200 Gough St, San Francisco, CA</td>\n",
       "      <td>1/10/16</td>\n",
       "      <td>825000.00</td>\n",
       "      <td>$</td>\n",
       "      <td>False</td>\n",
       "      <td>...</td>\n",
       "      <td>900.0</td>\n",
       "      <td>sqft</td>\n",
       "      <td>NaN</td>\n",
       "      <td>NaN</td>\n",
       "      <td>1966.0</td>\n",
       "    </tr>\n",
       "  </tbody>\n",
       "</table>\n",
       "<p>1000 rows × 12 columns</p>\n",
       "</div>"
      ],
      "text/plain": [
       "                                              Address DateOfSale  SalePrice  \\\n",
       "ID                                                                            \n",
       "15063471    55 Vandewater St APT 9, San Francisco, CA    12/4/15  710000.00   \n",
       "15063505          740 Francisco St, San Francisco, CA   11/30/15       2.15   \n",
       "15063609          819 Francisco St, San Francisco, CA   11/12/15       5.60   \n",
       "...                                               ...        ...        ...   \n",
       "2128308939       33 Santa Cruz Ave, San Francisco, CA   12/10/15  830000.00   \n",
       "2131957929          1821 Grant Ave, San Francisco, CA   12/15/15  835000.00   \n",
       "2136213970           1200 Gough St, San Francisco, CA    1/10/16  825000.00   \n",
       "\n",
       "           SalePriceUnit IsAStudio     ...         Size  SizeUnit  LotSize  \\\n",
       "ID                                     ...                                   \n",
       "15063471               $     False     ...        550.0      sqft      NaN   \n",
       "15063505              $M     False     ...       1430.0      sqft   2435.0   \n",
       "15063609              $M     False     ...       2040.0      sqft   3920.0   \n",
       "...                  ...       ...     ...          ...       ...      ...   \n",
       "2128308939             $     False     ...       1738.0      sqft   2299.0   \n",
       "2131957929             $     False     ...       1048.0      sqft      NaN   \n",
       "2136213970             $     False     ...        900.0      sqft      NaN   \n",
       "\n",
       "           LotSizeUnit  BuiltInYear  \n",
       "ID                                   \n",
       "15063471           NaN       1980.0  \n",
       "15063505          sqft       1948.0  \n",
       "15063609          sqft       1976.0  \n",
       "...                ...          ...  \n",
       "2128308939        sqft       1976.0  \n",
       "2131957929         NaN       1975.0  \n",
       "2136213970         NaN       1966.0  \n",
       "\n",
       "[1000 rows x 12 columns]"
      ]
     },
     "execution_count": 17,
     "metadata": {},
     "output_type": "execute_result"
    }
   ],
   "source": [
    "df"
   ]
  },
  {
   "cell_type": "markdown",
   "metadata": {},
   "source": [
    "> ### `SalePrice`: scale all values to dollars"
   ]
  },
  {
   "cell_type": "code",
   "execution_count": 18,
   "metadata": {
    "collapsed": false
   },
   "outputs": [
    {
     "data": {
      "text/plain": [
       "array(['$', '$M'], dtype=object)"
      ]
     },
     "execution_count": 18,
     "metadata": {},
     "output_type": "execute_result"
    }
   ],
   "source": [
    "df.SalePriceUnit.unique()"
   ]
  },
  {
   "cell_type": "code",
   "execution_count": 19,
   "metadata": {
    "collapsed": false
   },
   "outputs": [],
   "source": [
    "df_1 = df[df.SalePriceUnit == '$']\n",
    "\n",
    "df_1 = df_1.drop('SalePriceUnit', axis = 1)\n",
    "# Really a workaround as DataFrame.drop() with inplace = True issue warnings...\n",
    "\n",
    "df_6 = df[df.SalePriceUnit == '$M']\n",
    "\n",
    "df_6 = df_6.drop('SalePriceUnit', axis = 1)\n",
    "\n",
    "# Replacing the content of a column\n",
    "df_6.SalePrice = df_6.SalePrice * (10 ** 6)\n",
    "\n",
    "# Adding rows to a DataFrame\n",
    "# Concatenation of two DataFrame objects\n",
    "df = pd.concat([df_1, df_6])"
   ]
  },
  {
   "cell_type": "code",
   "execution_count": 20,
   "metadata": {
    "collapsed": false
   },
   "outputs": [
    {
     "data": {
      "text/html": [
       "<div>\n",
       "<table border=\"1\" class=\"dataframe\">\n",
       "  <thead>\n",
       "    <tr style=\"text-align: right;\">\n",
       "      <th></th>\n",
       "      <th>Address</th>\n",
       "      <th>DateOfSale</th>\n",
       "      <th>SalePrice</th>\n",
       "      <th>IsAStudio</th>\n",
       "      <th>BedCount</th>\n",
       "      <th>...</th>\n",
       "      <th>Size</th>\n",
       "      <th>SizeUnit</th>\n",
       "      <th>LotSize</th>\n",
       "      <th>LotSizeUnit</th>\n",
       "      <th>BuiltInYear</th>\n",
       "    </tr>\n",
       "    <tr>\n",
       "      <th>ID</th>\n",
       "      <th></th>\n",
       "      <th></th>\n",
       "      <th></th>\n",
       "      <th></th>\n",
       "      <th></th>\n",
       "      <th></th>\n",
       "      <th></th>\n",
       "      <th></th>\n",
       "      <th></th>\n",
       "      <th></th>\n",
       "      <th></th>\n",
       "    </tr>\n",
       "  </thead>\n",
       "  <tbody>\n",
       "    <tr>\n",
       "      <th>15063471</th>\n",
       "      <td>55 Vandewater St APT 9, San Francisco, CA</td>\n",
       "      <td>12/4/15</td>\n",
       "      <td>710000.0</td>\n",
       "      <td>False</td>\n",
       "      <td>1.0</td>\n",
       "      <td>...</td>\n",
       "      <td>550.0</td>\n",
       "      <td>sqft</td>\n",
       "      <td>NaN</td>\n",
       "      <td>NaN</td>\n",
       "      <td>1980.0</td>\n",
       "    </tr>\n",
       "    <tr>\n",
       "      <th>15063505</th>\n",
       "      <td>740 Francisco St, San Francisco, CA</td>\n",
       "      <td>11/30/15</td>\n",
       "      <td>2150000.0</td>\n",
       "      <td>False</td>\n",
       "      <td>NaN</td>\n",
       "      <td>...</td>\n",
       "      <td>1430.0</td>\n",
       "      <td>sqft</td>\n",
       "      <td>2435.0</td>\n",
       "      <td>sqft</td>\n",
       "      <td>1948.0</td>\n",
       "    </tr>\n",
       "    <tr>\n",
       "      <th>15063609</th>\n",
       "      <td>819 Francisco St, San Francisco, CA</td>\n",
       "      <td>11/12/15</td>\n",
       "      <td>5600000.0</td>\n",
       "      <td>False</td>\n",
       "      <td>2.0</td>\n",
       "      <td>...</td>\n",
       "      <td>2040.0</td>\n",
       "      <td>sqft</td>\n",
       "      <td>3920.0</td>\n",
       "      <td>sqft</td>\n",
       "      <td>1976.0</td>\n",
       "    </tr>\n",
       "    <tr>\n",
       "      <th>...</th>\n",
       "      <td>...</td>\n",
       "      <td>...</td>\n",
       "      <td>...</td>\n",
       "      <td>...</td>\n",
       "      <td>...</td>\n",
       "      <td>...</td>\n",
       "      <td>...</td>\n",
       "      <td>...</td>\n",
       "      <td>...</td>\n",
       "      <td>...</td>\n",
       "      <td>...</td>\n",
       "    </tr>\n",
       "    <tr>\n",
       "      <th>2128308939</th>\n",
       "      <td>33 Santa Cruz Ave, San Francisco, CA</td>\n",
       "      <td>12/10/15</td>\n",
       "      <td>830000.0</td>\n",
       "      <td>False</td>\n",
       "      <td>3.0</td>\n",
       "      <td>...</td>\n",
       "      <td>1738.0</td>\n",
       "      <td>sqft</td>\n",
       "      <td>2299.0</td>\n",
       "      <td>sqft</td>\n",
       "      <td>1976.0</td>\n",
       "    </tr>\n",
       "    <tr>\n",
       "      <th>2131957929</th>\n",
       "      <td>1821 Grant Ave, San Francisco, CA</td>\n",
       "      <td>12/15/15</td>\n",
       "      <td>835000.0</td>\n",
       "      <td>False</td>\n",
       "      <td>2.0</td>\n",
       "      <td>...</td>\n",
       "      <td>1048.0</td>\n",
       "      <td>sqft</td>\n",
       "      <td>NaN</td>\n",
       "      <td>NaN</td>\n",
       "      <td>1975.0</td>\n",
       "    </tr>\n",
       "    <tr>\n",
       "      <th>2136213970</th>\n",
       "      <td>1200 Gough St, San Francisco, CA</td>\n",
       "      <td>1/10/16</td>\n",
       "      <td>825000.0</td>\n",
       "      <td>False</td>\n",
       "      <td>1.0</td>\n",
       "      <td>...</td>\n",
       "      <td>900.0</td>\n",
       "      <td>sqft</td>\n",
       "      <td>NaN</td>\n",
       "      <td>NaN</td>\n",
       "      <td>1966.0</td>\n",
       "    </tr>\n",
       "  </tbody>\n",
       "</table>\n",
       "<p>1000 rows × 11 columns</p>\n",
       "</div>"
      ],
      "text/plain": [
       "                                              Address DateOfSale  SalePrice  \\\n",
       "ID                                                                            \n",
       "15063471    55 Vandewater St APT 9, San Francisco, CA    12/4/15   710000.0   \n",
       "15063505          740 Francisco St, San Francisco, CA   11/30/15  2150000.0   \n",
       "15063609          819 Francisco St, San Francisco, CA   11/12/15  5600000.0   \n",
       "...                                               ...        ...        ...   \n",
       "2128308939       33 Santa Cruz Ave, San Francisco, CA   12/10/15   830000.0   \n",
       "2131957929          1821 Grant Ave, San Francisco, CA   12/15/15   835000.0   \n",
       "2136213970           1200 Gough St, San Francisco, CA    1/10/16   825000.0   \n",
       "\n",
       "           IsAStudio  BedCount     ...        Size  SizeUnit LotSize  \\\n",
       "ID                                 ...                                 \n",
       "15063471       False       1.0     ...       550.0      sqft     NaN   \n",
       "15063505       False       NaN     ...      1430.0      sqft  2435.0   \n",
       "15063609       False       2.0     ...      2040.0      sqft  3920.0   \n",
       "...              ...       ...     ...         ...       ...     ...   \n",
       "2128308939     False       3.0     ...      1738.0      sqft  2299.0   \n",
       "2131957929     False       2.0     ...      1048.0      sqft     NaN   \n",
       "2136213970     False       1.0     ...       900.0      sqft     NaN   \n",
       "\n",
       "            LotSizeUnit BuiltInYear  \n",
       "ID                                   \n",
       "15063471            NaN      1980.0  \n",
       "15063505           sqft      1948.0  \n",
       "15063609           sqft      1976.0  \n",
       "...                 ...         ...  \n",
       "2128308939         sqft      1976.0  \n",
       "2131957929          NaN      1975.0  \n",
       "2136213970          NaN      1966.0  \n",
       "\n",
       "[1000 rows x 11 columns]"
      ]
     },
     "execution_count": 20,
     "metadata": {},
     "output_type": "execute_result"
    }
   ],
   "source": [
    "df.sort_index()"
   ]
  },
  {
   "cell_type": "markdown",
   "metadata": {},
   "source": [
    "> ### `IsAStudio`: convert from a Boolean to a binary variable (i.e., 0 or 1)"
   ]
  },
  {
   "cell_type": "code",
   "execution_count": 24,
   "metadata": {
    "collapsed": false
   },
   "outputs": [],
   "source": [
    "# TODO\n",
    "\n",
    "df.IsAStudio = df.IsAStudio * 1.0"
   ]
  },
  {
   "cell_type": "code",
   "execution_count": 25,
   "metadata": {
    "collapsed": false
   },
   "outputs": [
    {
     "data": {
      "text/html": [
       "<div>\n",
       "<table border=\"1\" class=\"dataframe\">\n",
       "  <thead>\n",
       "    <tr style=\"text-align: right;\">\n",
       "      <th></th>\n",
       "      <th>Address</th>\n",
       "      <th>DateOfSale</th>\n",
       "      <th>SalePrice</th>\n",
       "      <th>IsAStudio</th>\n",
       "      <th>BedCount</th>\n",
       "      <th>...</th>\n",
       "      <th>Size</th>\n",
       "      <th>SizeUnit</th>\n",
       "      <th>LotSize</th>\n",
       "      <th>LotSizeUnit</th>\n",
       "      <th>BuiltInYear</th>\n",
       "    </tr>\n",
       "    <tr>\n",
       "      <th>ID</th>\n",
       "      <th></th>\n",
       "      <th></th>\n",
       "      <th></th>\n",
       "      <th></th>\n",
       "      <th></th>\n",
       "      <th></th>\n",
       "      <th></th>\n",
       "      <th></th>\n",
       "      <th></th>\n",
       "      <th></th>\n",
       "      <th></th>\n",
       "    </tr>\n",
       "  </thead>\n",
       "  <tbody>\n",
       "    <tr>\n",
       "      <th>15063471</th>\n",
       "      <td>55 Vandewater St APT 9, San Francisco, CA</td>\n",
       "      <td>12/4/15</td>\n",
       "      <td>710000.0</td>\n",
       "      <td>0</td>\n",
       "      <td>1.0</td>\n",
       "      <td>...</td>\n",
       "      <td>550.0</td>\n",
       "      <td>sqft</td>\n",
       "      <td>NaN</td>\n",
       "      <td>NaN</td>\n",
       "      <td>1980.0</td>\n",
       "    </tr>\n",
       "    <tr>\n",
       "      <th>15064257</th>\n",
       "      <td>111 Chestnut St APT 403, San Francisco, CA</td>\n",
       "      <td>1/15/16</td>\n",
       "      <td>970000.0</td>\n",
       "      <td>0</td>\n",
       "      <td>2.0</td>\n",
       "      <td>...</td>\n",
       "      <td>1299.0</td>\n",
       "      <td>sqft</td>\n",
       "      <td>NaN</td>\n",
       "      <td>NaN</td>\n",
       "      <td>1993.0</td>\n",
       "    </tr>\n",
       "    <tr>\n",
       "      <th>15064295</th>\n",
       "      <td>111 Chestnut St APT 702, San Francisco, CA</td>\n",
       "      <td>12/17/15</td>\n",
       "      <td>940000.0</td>\n",
       "      <td>0</td>\n",
       "      <td>2.0</td>\n",
       "      <td>...</td>\n",
       "      <td>1033.0</td>\n",
       "      <td>sqft</td>\n",
       "      <td>NaN</td>\n",
       "      <td>NaN</td>\n",
       "      <td>1993.0</td>\n",
       "    </tr>\n",
       "    <tr>\n",
       "      <th>...</th>\n",
       "      <td>...</td>\n",
       "      <td>...</td>\n",
       "      <td>...</td>\n",
       "      <td>...</td>\n",
       "      <td>...</td>\n",
       "      <td>...</td>\n",
       "      <td>...</td>\n",
       "      <td>...</td>\n",
       "      <td>...</td>\n",
       "      <td>...</td>\n",
       "      <td>...</td>\n",
       "    </tr>\n",
       "    <tr>\n",
       "      <th>2108546010</th>\n",
       "      <td>1738 Lombard St APT 4, San Francisco, CA</td>\n",
       "      <td>1/14/16</td>\n",
       "      <td>1400000.0</td>\n",
       "      <td>0</td>\n",
       "      <td>2.0</td>\n",
       "      <td>...</td>\n",
       "      <td>NaN</td>\n",
       "      <td>NaN</td>\n",
       "      <td>NaN</td>\n",
       "      <td>NaN</td>\n",
       "      <td>2004.0</td>\n",
       "    </tr>\n",
       "    <tr>\n",
       "      <th>2121221385</th>\n",
       "      <td>925 Larkin St, San Francisco, CA</td>\n",
       "      <td>11/30/15</td>\n",
       "      <td>1430000.0</td>\n",
       "      <td>0</td>\n",
       "      <td>NaN</td>\n",
       "      <td>...</td>\n",
       "      <td>6600.0</td>\n",
       "      <td>sqft</td>\n",
       "      <td>NaN</td>\n",
       "      <td>NaN</td>\n",
       "      <td>1907.0</td>\n",
       "    </tr>\n",
       "    <tr>\n",
       "      <th>2122992200</th>\n",
       "      <td>129 Octavia St, San Francisco, CA</td>\n",
       "      <td>11/20/15</td>\n",
       "      <td>2750000.0</td>\n",
       "      <td>1</td>\n",
       "      <td>NaN</td>\n",
       "      <td>...</td>\n",
       "      <td>3655.0</td>\n",
       "      <td>sqft</td>\n",
       "      <td>NaN</td>\n",
       "      <td>NaN</td>\n",
       "      <td>1883.0</td>\n",
       "    </tr>\n",
       "  </tbody>\n",
       "</table>\n",
       "<p>1000 rows × 11 columns</p>\n",
       "</div>"
      ],
      "text/plain": [
       "                                               Address DateOfSale  SalePrice  \\\n",
       "ID                                                                             \n",
       "15063471     55 Vandewater St APT 9, San Francisco, CA    12/4/15   710000.0   \n",
       "15064257    111 Chestnut St APT 403, San Francisco, CA    1/15/16   970000.0   \n",
       "15064295    111 Chestnut St APT 702, San Francisco, CA   12/17/15   940000.0   \n",
       "...                                                ...        ...        ...   \n",
       "2108546010    1738 Lombard St APT 4, San Francisco, CA    1/14/16  1400000.0   \n",
       "2121221385            925 Larkin St, San Francisco, CA   11/30/15  1430000.0   \n",
       "2122992200           129 Octavia St, San Francisco, CA   11/20/15  2750000.0   \n",
       "\n",
       "           IsAStudio  BedCount     ...        Size  SizeUnit LotSize  \\\n",
       "ID                                 ...                                 \n",
       "15063471           0       1.0     ...       550.0      sqft     NaN   \n",
       "15064257           0       2.0     ...      1299.0      sqft     NaN   \n",
       "15064295           0       2.0     ...      1033.0      sqft     NaN   \n",
       "...              ...       ...     ...         ...       ...     ...   \n",
       "2108546010         0       2.0     ...         NaN       NaN     NaN   \n",
       "2121221385         0       NaN     ...      6600.0      sqft     NaN   \n",
       "2122992200         1       NaN     ...      3655.0      sqft     NaN   \n",
       "\n",
       "            LotSizeUnit BuiltInYear  \n",
       "ID                                   \n",
       "15063471            NaN      1980.0  \n",
       "15064257            NaN      1993.0  \n",
       "15064295            NaN      1993.0  \n",
       "...                 ...         ...  \n",
       "2108546010          NaN      2004.0  \n",
       "2121221385          NaN      1907.0  \n",
       "2122992200          NaN      1883.0  \n",
       "\n",
       "[1000 rows x 11 columns]"
      ]
     },
     "execution_count": 25,
     "metadata": {},
     "output_type": "execute_result"
    }
   ],
   "source": [
    "df"
   ]
  },
  {
   "cell_type": "markdown",
   "metadata": {},
   "source": [
    "> ### `Size`"
   ]
  },
  {
   "cell_type": "code",
   "execution_count": 26,
   "metadata": {
    "collapsed": false
   },
   "outputs": [
    {
     "data": {
      "text/plain": [
       "array(['sqft', nan], dtype=object)"
      ]
     },
     "execution_count": 26,
     "metadata": {},
     "output_type": "execute_result"
    }
   ],
   "source": [
    "df.SizeUnit.unique()"
   ]
  },
  {
   "cell_type": "markdown",
   "metadata": {},
   "source": [
    "Size is either in square feet or missing.  Almost no work needed except to remove size unit."
   ]
  },
  {
   "cell_type": "code",
   "execution_count": null,
   "metadata": {
    "collapsed": true
   },
   "outputs": [],
   "source": [
    "df.drop('SizeUnit', axis = 1, inplace = True)"
   ]
  },
  {
   "cell_type": "markdown",
   "metadata": {
    "collapsed": true
   },
   "source": [
    "> ### `LotSize`: scale all values to square feet"
   ]
  },
  {
   "cell_type": "code",
   "execution_count": 27,
   "metadata": {
    "collapsed": false
   },
   "outputs": [
    {
     "data": {
      "text/plain": [
       "array([nan, 'sqft', 'ac'], dtype=object)"
      ]
     },
     "execution_count": 27,
     "metadata": {},
     "output_type": "execute_result"
    }
   ],
   "source": [
    "df.LotSizeUnit.unique()"
   ]
  },
  {
   "cell_type": "markdown",
   "metadata": {},
   "source": [
    "Lot sizes are either in square feet or in acres.  Let's convert them all to square feet."
   ]
  },
  {
   "cell_type": "markdown",
   "metadata": {},
   "source": [
    "> Group #1: the `na` values:"
   ]
  },
  {
   "cell_type": "code",
   "execution_count": 28,
   "metadata": {
    "collapsed": false
   },
   "outputs": [
    {
     "data": {
      "text/plain": [
       "444"
      ]
     },
     "execution_count": 28,
     "metadata": {},
     "output_type": "execute_result"
    }
   ],
   "source": [
    "df_na = df[df.LotSizeUnit.isnull()]\n",
    "df_na = df_na.drop('LotSizeUnit', axis = 1)\n",
    "\n",
    "df_na.shape[0]"
   ]
  },
  {
   "cell_type": "markdown",
   "metadata": {},
   "source": [
    "> Group #2: the `sqft` values:"
   ]
  },
  {
   "cell_type": "code",
   "execution_count": 34,
   "metadata": {
    "collapsed": false
   },
   "outputs": [
    {
     "data": {
      "text/plain": [
       "552"
      ]
     },
     "execution_count": 34,
     "metadata": {},
     "output_type": "execute_result"
    }
   ],
   "source": [
    "# TODO (use df_sqft)\n",
    "\n",
    "df_sqft = df[df.LotSizeUnit == 'sqft']\n",
    "df_sqft = df_sqft.drop('LotSizeUnit', axis = 1)\n",
    "             \n",
    "df_sqft.shape[0]            "
   ]
  },
  {
   "cell_type": "markdown",
   "metadata": {},
   "source": [
    "> Group #3: the `ac` values:"
   ]
  },
  {
   "cell_type": "code",
   "execution_count": 32,
   "metadata": {
    "collapsed": false
   },
   "outputs": [
    {
     "data": {
      "text/plain": [
       "4"
      ]
     },
     "execution_count": 32,
     "metadata": {},
     "output_type": "execute_result"
    }
   ],
   "source": [
    "# TODO (use df_ac)\n",
    "\n",
    "df_ac = df[df.LotSizeUnit == 'ac']\n",
    "df_ac = df_ac.drop('LotSizeUnit', axis = 1)\n",
    "\n",
    "df_ac.shape[0]"
   ]
  },
  {
   "cell_type": "markdown",
   "metadata": {},
   "source": [
    "> Let's scale these `acre` values into `sqft`:"
   ]
  },
  {
   "cell_type": "code",
   "execution_count": null,
   "metadata": {
    "collapsed": true
   },
   "outputs": [],
   "source": [
    "# (1 acre = 43,560 sqft)\n",
    "\n",
    "# TODO"
   ]
  },
  {
   "cell_type": "markdown",
   "metadata": {},
   "source": [
    "Let's now put everything back together..."
   ]
  },
  {
   "cell_type": "code",
   "execution_count": 35,
   "metadata": {
    "collapsed": false
   },
   "outputs": [],
   "source": [
    "df = pd.concat([df_na, df_sqft, df_ac]).sort_index()"
   ]
  },
  {
   "cell_type": "code",
   "execution_count": 36,
   "metadata": {
    "collapsed": false
   },
   "outputs": [
    {
     "data": {
      "text/html": [
       "<div>\n",
       "<table border=\"1\" class=\"dataframe\">\n",
       "  <thead>\n",
       "    <tr style=\"text-align: right;\">\n",
       "      <th></th>\n",
       "      <th>Address</th>\n",
       "      <th>DateOfSale</th>\n",
       "      <th>SalePrice</th>\n",
       "      <th>IsAStudio</th>\n",
       "      <th>BedCount</th>\n",
       "      <th>BathCount</th>\n",
       "      <th>Size</th>\n",
       "      <th>SizeUnit</th>\n",
       "      <th>LotSize</th>\n",
       "      <th>BuiltInYear</th>\n",
       "    </tr>\n",
       "    <tr>\n",
       "      <th>ID</th>\n",
       "      <th></th>\n",
       "      <th></th>\n",
       "      <th></th>\n",
       "      <th></th>\n",
       "      <th></th>\n",
       "      <th></th>\n",
       "      <th></th>\n",
       "      <th></th>\n",
       "      <th></th>\n",
       "      <th></th>\n",
       "    </tr>\n",
       "  </thead>\n",
       "  <tbody>\n",
       "    <tr>\n",
       "      <th>15063471</th>\n",
       "      <td>55 Vandewater St APT 9, San Francisco, CA</td>\n",
       "      <td>12/4/15</td>\n",
       "      <td>710000.0</td>\n",
       "      <td>0</td>\n",
       "      <td>1.0</td>\n",
       "      <td>NaN</td>\n",
       "      <td>550.0</td>\n",
       "      <td>sqft</td>\n",
       "      <td>NaN</td>\n",
       "      <td>1980.0</td>\n",
       "    </tr>\n",
       "    <tr>\n",
       "      <th>15063505</th>\n",
       "      <td>740 Francisco St, San Francisco, CA</td>\n",
       "      <td>11/30/15</td>\n",
       "      <td>2150000.0</td>\n",
       "      <td>0</td>\n",
       "      <td>NaN</td>\n",
       "      <td>2.0</td>\n",
       "      <td>1430.0</td>\n",
       "      <td>sqft</td>\n",
       "      <td>2435.0</td>\n",
       "      <td>1948.0</td>\n",
       "    </tr>\n",
       "    <tr>\n",
       "      <th>15063609</th>\n",
       "      <td>819 Francisco St, San Francisco, CA</td>\n",
       "      <td>11/12/15</td>\n",
       "      <td>5600000.0</td>\n",
       "      <td>0</td>\n",
       "      <td>2.0</td>\n",
       "      <td>3.5</td>\n",
       "      <td>2040.0</td>\n",
       "      <td>sqft</td>\n",
       "      <td>3920.0</td>\n",
       "      <td>1976.0</td>\n",
       "    </tr>\n",
       "    <tr>\n",
       "      <th>...</th>\n",
       "      <td>...</td>\n",
       "      <td>...</td>\n",
       "      <td>...</td>\n",
       "      <td>...</td>\n",
       "      <td>...</td>\n",
       "      <td>...</td>\n",
       "      <td>...</td>\n",
       "      <td>...</td>\n",
       "      <td>...</td>\n",
       "      <td>...</td>\n",
       "    </tr>\n",
       "    <tr>\n",
       "      <th>2128308939</th>\n",
       "      <td>33 Santa Cruz Ave, San Francisco, CA</td>\n",
       "      <td>12/10/15</td>\n",
       "      <td>830000.0</td>\n",
       "      <td>0</td>\n",
       "      <td>3.0</td>\n",
       "      <td>3.0</td>\n",
       "      <td>1738.0</td>\n",
       "      <td>sqft</td>\n",
       "      <td>2299.0</td>\n",
       "      <td>1976.0</td>\n",
       "    </tr>\n",
       "    <tr>\n",
       "      <th>2131957929</th>\n",
       "      <td>1821 Grant Ave, San Francisco, CA</td>\n",
       "      <td>12/15/15</td>\n",
       "      <td>835000.0</td>\n",
       "      <td>0</td>\n",
       "      <td>2.0</td>\n",
       "      <td>2.0</td>\n",
       "      <td>1048.0</td>\n",
       "      <td>sqft</td>\n",
       "      <td>NaN</td>\n",
       "      <td>1975.0</td>\n",
       "    </tr>\n",
       "    <tr>\n",
       "      <th>2136213970</th>\n",
       "      <td>1200 Gough St, San Francisco, CA</td>\n",
       "      <td>1/10/16</td>\n",
       "      <td>825000.0</td>\n",
       "      <td>0</td>\n",
       "      <td>1.0</td>\n",
       "      <td>1.0</td>\n",
       "      <td>900.0</td>\n",
       "      <td>sqft</td>\n",
       "      <td>NaN</td>\n",
       "      <td>1966.0</td>\n",
       "    </tr>\n",
       "  </tbody>\n",
       "</table>\n",
       "<p>1000 rows × 10 columns</p>\n",
       "</div>"
      ],
      "text/plain": [
       "                                              Address DateOfSale  SalePrice  \\\n",
       "ID                                                                            \n",
       "15063471    55 Vandewater St APT 9, San Francisco, CA    12/4/15   710000.0   \n",
       "15063505          740 Francisco St, San Francisco, CA   11/30/15  2150000.0   \n",
       "15063609          819 Francisco St, San Francisco, CA   11/12/15  5600000.0   \n",
       "...                                               ...        ...        ...   \n",
       "2128308939       33 Santa Cruz Ave, San Francisco, CA   12/10/15   830000.0   \n",
       "2131957929          1821 Grant Ave, San Francisco, CA   12/15/15   835000.0   \n",
       "2136213970           1200 Gough St, San Francisco, CA    1/10/16   825000.0   \n",
       "\n",
       "           IsAStudio  BedCount  BathCount    Size SizeUnit  LotSize  \\\n",
       "ID                                                                    \n",
       "15063471           0       1.0        NaN   550.0     sqft      NaN   \n",
       "15063505           0       NaN        2.0  1430.0     sqft   2435.0   \n",
       "15063609           0       2.0        3.5  2040.0     sqft   3920.0   \n",
       "...              ...       ...        ...     ...      ...      ...   \n",
       "2128308939         0       3.0        3.0  1738.0     sqft   2299.0   \n",
       "2131957929         0       2.0        2.0  1048.0     sqft      NaN   \n",
       "2136213970         0       1.0        1.0   900.0     sqft      NaN   \n",
       "\n",
       "            BuiltInYear  \n",
       "ID                       \n",
       "15063471         1980.0  \n",
       "15063505         1948.0  \n",
       "15063609         1976.0  \n",
       "...                 ...  \n",
       "2128308939       1976.0  \n",
       "2131957929       1975.0  \n",
       "2136213970       1966.0  \n",
       "\n",
       "[1000 rows x 10 columns]"
      ]
     },
     "execution_count": 36,
     "metadata": {},
     "output_type": "execute_result"
    }
   ],
   "source": [
    "df"
   ]
  },
  {
   "cell_type": "markdown",
   "metadata": {},
   "source": [
    "> ### Save the `pandas` `DataFrame` to a `.csv` file"
   ]
  },
  {
   "cell_type": "code",
   "execution_count": 38,
   "metadata": {
    "collapsed": false
   },
   "outputs": [],
   "source": [
    "df.to_csv(os.path.join('..', 'datasets', 'zillow-02.csv'), index_label = 'ID')"
   ]
  },
  {
   "cell_type": "code",
   "execution_count": null,
   "metadata": {
    "collapsed": true
   },
   "outputs": [],
   "source": []
  }
 ],
 "metadata": {
  "kernelspec": {
   "display_name": "Python [Root]",
   "language": "python",
   "name": "Python [Root]"
  },
  "language_info": {
   "codemirror_mode": {
    "name": "ipython",
    "version": 2
   },
   "file_extension": ".py",
   "mimetype": "text/x-python",
   "name": "python",
   "nbconvert_exporter": "python",
   "pygments_lexer": "ipython2",
   "version": "2.7.12"
  }
 },
 "nbformat": 4,
 "nbformat_minor": 0
}
