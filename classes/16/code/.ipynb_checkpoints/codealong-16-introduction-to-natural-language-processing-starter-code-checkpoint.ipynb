{
 "cells": [
  {
   "cell_type": "markdown",
   "metadata": {},
   "source": [
    "# DS-SF-27 | Codealong 16 | Introduction to Natural Language Processing"
   ]
  },
  {
   "cell_type": "markdown",
   "metadata": {},
   "source": [
    "## >>> One-time setup"
   ]
  },
  {
   "cell_type": "code",
   "execution_count": 1,
   "metadata": {
    "collapsed": false
   },
   "outputs": [],
   "source": [
    "'''\n",
    "import nltk\n",
    "nltk.download()\n",
    "'''\n",
    "\n",
    "pass"
   ]
  },
  {
   "cell_type": "markdown",
   "metadata": {},
   "source": [
    "## <<< One-time setup"
   ]
  },
  {
   "cell_type": "code",
   "execution_count": 2,
   "metadata": {
    "collapsed": true
   },
   "outputs": [],
   "source": [
    "import os\n",
    "\n",
    "import numpy as np\n",
    "import pandas as pd\n",
    "pd.set_option('display.max_rows', 10)\n",
    "pd.set_option('display.notebook_repr_html', True)\n",
    "pd.set_option('display.max_columns', 10)\n",
    "\n",
    "import string\n",
    "import unicodedata\n",
    "from nltk import tokenize, corpus, stem\n",
    "\n",
    "from sklearn import feature_extraction, linear_model, ensemble, cross_validation, metrics, decomposition\n",
    "\n",
    "import matplotlib.pyplot as plt\n",
    "%matplotlib inline\n",
    "plt.style.use('ggplot')"
   ]
  },
  {
   "cell_type": "markdown",
   "metadata": {},
   "source": [
    "## Tokenization"
   ]
  },
  {
   "cell_type": "code",
   "execution_count": 3,
   "metadata": {
    "collapsed": true
   },
   "outputs": [],
   "source": [
    "def tokenize_text(document):\n",
    "    document = document.encode('utf-8')\n",
    "\n",
    "    # Convert text to lowercase\n",
    "    document = document.lower()\n",
    "\n",
    "    # Tokenize\n",
    "    tokens = tokenize.word_tokenize(document)\n",
    "\n",
    "    # Remove punctuation in tokens and then remove empty tokens\n",
    "    tokens = [token.translate(None, string.punctuation) for token in tokens]\n",
    "    tokens = [token for token in tokens if token]\n",
    "\n",
    "    # Remove stop words\n",
    "    tokens = [token for token in tokens if not token in corpus.stopwords.words('english')]\n",
    "\n",
    "    return tokens"
   ]
  },
  {
   "cell_type": "code",
   "execution_count": 4,
   "metadata": {
    "collapsed": false
   },
   "outputs": [
    {
     "data": {
      "text/plain": [
       "['sentence', 'wait', 'another', 'third']"
      ]
     },
     "execution_count": 4,
     "metadata": {},
     "output_type": "execute_result"
    }
   ],
   "source": [
    "tokens = tokenize_text(\"This is a sentence...  Wait, here's another.  And a third!\")\n",
    "\n",
    "tokens"
   ]
  },
  {
   "cell_type": "markdown",
   "metadata": {},
   "source": [
    "## Stemming"
   ]
  },
  {
   "cell_type": "code",
   "execution_count": 5,
   "metadata": {
    "collapsed": false
   },
   "outputs": [],
   "source": [
    "class Stemmer:\n",
    "    stemmer = stem.porter.PorterStemmer()\n",
    "\n",
    "    @staticmethod\n",
    "    def stem_tokens(tokens):\n",
    "        return [Stemmer.stemmer.stem(token) for token in tokens]"
   ]
  },
  {
   "cell_type": "code",
   "execution_count": 6,
   "metadata": {
    "collapsed": false
   },
   "outputs": [
    {
     "data": {
      "text/plain": [
       "[u'sentenc', u'wait', u'anoth', u'third']"
      ]
     },
     "execution_count": 6,
     "metadata": {},
     "output_type": "execute_result"
    }
   ],
   "source": [
    "tokens = Stemmer.stem_tokens(tokens)\n",
    "\n",
    "tokens"
   ]
  },
  {
   "cell_type": "markdown",
   "metadata": {},
   "source": [
    "## Book reviews"
   ]
  },
  {
   "cell_type": "markdown",
   "metadata": {},
   "source": [
    "Below, we will be analyzing a partial list of the reviews for J.K. Rowling's The Casual Vacancy.  (https://www.amazon.com/dp/0316228532)\n",
    "\n",
    "Our dataset is a subset of http://snap.stanford.edu/data/amazon/productGraph/categoryFiles/reviews_Books_5.json.gz."
   ]
  },
  {
   "cell_type": "code",
   "execution_count": 7,
   "metadata": {
    "collapsed": false
   },
   "outputs": [],
   "source": [
    "df = pd.read_csv(os.path.join('..', 'datasets', 'reviews_Books_5-0316228532.csv'))"
   ]
  },
  {
   "cell_type": "code",
   "execution_count": 8,
   "metadata": {
    "collapsed": false
   },
   "outputs": [
    {
     "data": {
      "text/html": [
       "<div>\n",
       "<table border=\"1\" class=\"dataframe\">\n",
       "  <thead>\n",
       "    <tr style=\"text-align: right;\">\n",
       "      <th></th>\n",
       "      <th>asin</th>\n",
       "      <th>reviewer_id</th>\n",
       "      <th>reviewer_name</th>\n",
       "      <th>summary</th>\n",
       "      <th>review_text</th>\n",
       "      <th>overall</th>\n",
       "      <th>review_time</th>\n",
       "      <th>unix_review_time</th>\n",
       "      <th>helpful</th>\n",
       "    </tr>\n",
       "  </thead>\n",
       "  <tbody>\n",
       "    <tr>\n",
       "      <th>0</th>\n",
       "      <td>316228532</td>\n",
       "      <td>AY2UIGHCB4VPB</td>\n",
       "      <td>NaN</td>\n",
       "      <td>but a good read!</td>\n",
       "      <td>A departure for her, but a good read!</td>\n",
       "      <td>5</td>\n",
       "      <td>07 12, 2014</td>\n",
       "      <td>1405123200</td>\n",
       "      <td>[0, 0]</td>\n",
       "    </tr>\n",
       "    <tr>\n",
       "      <th>1</th>\n",
       "      <td>316228532</td>\n",
       "      <td>A2L17U0TWH9UWS</td>\n",
       "      <td>1075</td>\n",
       "      <td>Not worth the time</td>\n",
       "      <td>I had a hard time remembering who each charact...</td>\n",
       "      <td>2</td>\n",
       "      <td>11 12, 2013</td>\n",
       "      <td>1384214400</td>\n",
       "      <td>[0, 1]</td>\n",
       "    </tr>\n",
       "    <tr>\n",
       "      <th>2</th>\n",
       "      <td>316228532</td>\n",
       "      <td>A2R63TBVG5OAF6</td>\n",
       "      <td>12121</td>\n",
       "      <td>The Casual Vacancy</td>\n",
       "      <td>This is the only review I have ever written.  ...</td>\n",
       "      <td>1</td>\n",
       "      <td>10 1, 2012</td>\n",
       "      <td>1349049600</td>\n",
       "      <td>[13, 25]</td>\n",
       "    </tr>\n",
       "    <tr>\n",
       "      <th>3</th>\n",
       "      <td>316228532</td>\n",
       "      <td>ACU39L9G696US</td>\n",
       "      <td>123esmo</td>\n",
       "      <td>Expecting more from J.K. Rowling</td>\n",
       "      <td>I was expecting more from J.K. Rowling, it's a...</td>\n",
       "      <td>2</td>\n",
       "      <td>01 10, 2013</td>\n",
       "      <td>1357776000</td>\n",
       "      <td>[0, 1]</td>\n",
       "    </tr>\n",
       "    <tr>\n",
       "      <th>4</th>\n",
       "      <td>316228532</td>\n",
       "      <td>A3N7KY1PBMF880</td>\n",
       "      <td>&amp;#34;Bad Cat!&amp;#34;</td>\n",
       "      <td>Sorry That I  Bought It.</td>\n",
       "      <td>As big a fan as I am of J K Rowling's Harry Po...</td>\n",
       "      <td>1</td>\n",
       "      <td>05 11, 2013</td>\n",
       "      <td>1368230400</td>\n",
       "      <td>[0, 3]</td>\n",
       "    </tr>\n",
       "    <tr>\n",
       "      <th>...</th>\n",
       "      <td>...</td>\n",
       "      <td>...</td>\n",
       "      <td>...</td>\n",
       "      <td>...</td>\n",
       "      <td>...</td>\n",
       "      <td>...</td>\n",
       "      <td>...</td>\n",
       "      <td>...</td>\n",
       "      <td>...</td>\n",
       "    </tr>\n",
       "    <tr>\n",
       "      <th>2045</th>\n",
       "      <td>316228532</td>\n",
       "      <td>A1SCYWLS37YR50</td>\n",
       "      <td>ZC</td>\n",
       "      <td>Spectacular prose in a rambling story</td>\n",
       "      <td>Spectacular prose in a rambling story that see...</td>\n",
       "      <td>5</td>\n",
       "      <td>02 12, 2014</td>\n",
       "      <td>1392163200</td>\n",
       "      <td>[1, 1]</td>\n",
       "    </tr>\n",
       "    <tr>\n",
       "      <th>2046</th>\n",
       "      <td>316228532</td>\n",
       "      <td>A1POFVVXUZR3IQ</td>\n",
       "      <td>Z Hayes</td>\n",
       "      <td>Difficult to get into, but has its moments</td>\n",
       "      <td>Although I am a great fan of the Harry Potter ...</td>\n",
       "      <td>3</td>\n",
       "      <td>07 18, 2013</td>\n",
       "      <td>1374105600</td>\n",
       "      <td>[1, 1]</td>\n",
       "    </tr>\n",
       "    <tr>\n",
       "      <th>2047</th>\n",
       "      <td>316228532</td>\n",
       "      <td>A1YSU2VSUJZAR5</td>\n",
       "      <td>zolteg59</td>\n",
       "      <td>The Casual Vacancy</td>\n",
       "      <td>While the story was intriguing, and I am a hug...</td>\n",
       "      <td>1</td>\n",
       "      <td>11 11, 2012</td>\n",
       "      <td>1352592000</td>\n",
       "      <td>[0, 1]</td>\n",
       "    </tr>\n",
       "    <tr>\n",
       "      <th>2048</th>\n",
       "      <td>316228532</td>\n",
       "      <td>A2ZF888HX9YR8E</td>\n",
       "      <td>Zoobeefoo</td>\n",
       "      <td>A better read for Brits perhaps?</td>\n",
       "      <td>What an odd book!  The adolescent characters a...</td>\n",
       "      <td>3</td>\n",
       "      <td>12 30, 2012</td>\n",
       "      <td>1356825600</td>\n",
       "      <td>[2, 3]</td>\n",
       "    </tr>\n",
       "    <tr>\n",
       "      <th>2049</th>\n",
       "      <td>316228532</td>\n",
       "      <td>A3VE36BNPVYR4N</td>\n",
       "      <td>zoshi</td>\n",
       "      <td>Loved it!</td>\n",
       "      <td>Chatty and immediately comfortable to read. It...</td>\n",
       "      <td>5</td>\n",
       "      <td>10 16, 2012</td>\n",
       "      <td>1350345600</td>\n",
       "      <td>[2, 3]</td>\n",
       "    </tr>\n",
       "  </tbody>\n",
       "</table>\n",
       "<p>2050 rows × 9 columns</p>\n",
       "</div>"
      ],
      "text/plain": [
       "           asin     reviewer_id       reviewer_name  \\\n",
       "0     316228532   AY2UIGHCB4VPB                 NaN   \n",
       "1     316228532  A2L17U0TWH9UWS                1075   \n",
       "2     316228532  A2R63TBVG5OAF6               12121   \n",
       "3     316228532   ACU39L9G696US             123esmo   \n",
       "4     316228532  A3N7KY1PBMF880  &#34;Bad Cat!&#34;   \n",
       "...         ...             ...                 ...   \n",
       "2045  316228532  A1SCYWLS37YR50                  ZC   \n",
       "2046  316228532  A1POFVVXUZR3IQ             Z Hayes   \n",
       "2047  316228532  A1YSU2VSUJZAR5            zolteg59   \n",
       "2048  316228532  A2ZF888HX9YR8E           Zoobeefoo   \n",
       "2049  316228532  A3VE36BNPVYR4N               zoshi   \n",
       "\n",
       "                                         summary  \\\n",
       "0                               but a good read!   \n",
       "1                             Not worth the time   \n",
       "2                             The Casual Vacancy   \n",
       "3               Expecting more from J.K. Rowling   \n",
       "4                       Sorry That I  Bought It.   \n",
       "...                                          ...   \n",
       "2045       Spectacular prose in a rambling story   \n",
       "2046  Difficult to get into, but has its moments   \n",
       "2047                          The Casual Vacancy   \n",
       "2048            A better read for Brits perhaps?   \n",
       "2049                                   Loved it!   \n",
       "\n",
       "                                            review_text  overall  review_time  \\\n",
       "0                 A departure for her, but a good read!        5  07 12, 2014   \n",
       "1     I had a hard time remembering who each charact...        2  11 12, 2013   \n",
       "2     This is the only review I have ever written.  ...        1   10 1, 2012   \n",
       "3     I was expecting more from J.K. Rowling, it's a...        2  01 10, 2013   \n",
       "4     As big a fan as I am of J K Rowling's Harry Po...        1  05 11, 2013   \n",
       "...                                                 ...      ...          ...   \n",
       "2045  Spectacular prose in a rambling story that see...        5  02 12, 2014   \n",
       "2046  Although I am a great fan of the Harry Potter ...        3  07 18, 2013   \n",
       "2047  While the story was intriguing, and I am a hug...        1  11 11, 2012   \n",
       "2048  What an odd book!  The adolescent characters a...        3  12 30, 2012   \n",
       "2049  Chatty and immediately comfortable to read. It...        5  10 16, 2012   \n",
       "\n",
       "      unix_review_time   helpful  \n",
       "0           1405123200    [0, 0]  \n",
       "1           1384214400    [0, 1]  \n",
       "2           1349049600  [13, 25]  \n",
       "3           1357776000    [0, 1]  \n",
       "4           1368230400    [0, 3]  \n",
       "...                ...       ...  \n",
       "2045        1392163200    [1, 1]  \n",
       "2046        1374105600    [1, 1]  \n",
       "2047        1352592000    [0, 1]  \n",
       "2048        1356825600    [2, 3]  \n",
       "2049        1350345600    [2, 3]  \n",
       "\n",
       "[2050 rows x 9 columns]"
      ]
     },
     "execution_count": 8,
     "metadata": {},
     "output_type": "execute_result"
    }
   ],
   "source": [
    "df"
   ]
  },
  {
   "cell_type": "code",
   "execution_count": null,
   "metadata": {
    "collapsed": false
   },
   "outputs": [],
   "source": [
    "df.drop(['asin', 'reviewer_id', 'reviewer_name', 'summary', 'review_time', 'unix_review_time', 'helpful'],\n",
    "    axis = 1,\n",
    "    inplace = True)"
   ]
  },
  {
   "cell_type": "code",
   "execution_count": null,
   "metadata": {
    "collapsed": false
   },
   "outputs": [],
   "source": [
    "df"
   ]
  },
  {
   "cell_type": "code",
   "execution_count": null,
   "metadata": {
    "collapsed": false
   },
   "outputs": [],
   "source": [
    "df.overall.value_counts(dropna = False)"
   ]
  },
  {
   "cell_type": "code",
   "execution_count": null,
   "metadata": {
    "collapsed": false
   },
   "outputs": [],
   "source": [
    "# TODO"
   ]
  },
  {
   "cell_type": "markdown",
   "metadata": {},
   "source": [
    "## Train/test sets"
   ]
  },
  {
   "cell_type": "code",
   "execution_count": null,
   "metadata": {
    "collapsed": true
   },
   "outputs": [],
   "source": [
    "train_X, test_X, train_c, test_c = cross_validation.train_test_split(X, c, train_size = .6, random_state = 0)"
   ]
  },
  {
   "cell_type": "markdown",
   "metadata": {
    "collapsed": true
   },
   "source": [
    "## TF-IDF and `TfidfVectorizer`"
   ]
  },
  {
   "cell_type": "code",
   "execution_count": null,
   "metadata": {
    "collapsed": false
   },
   "outputs": [],
   "source": [
    "# TODO"
   ]
  },
  {
   "cell_type": "markdown",
   "metadata": {},
   "source": [
    "## Bag-of-words"
   ]
  },
  {
   "cell_type": "code",
   "execution_count": null,
   "metadata": {
    "collapsed": false
   },
   "outputs": [],
   "source": [
    "vectorizer.get_feature_names()"
   ]
  },
  {
   "cell_type": "markdown",
   "metadata": {},
   "source": [
    "## Transform the feature matrix `X`"
   ]
  },
  {
   "cell_type": "code",
   "execution_count": null,
   "metadata": {
    "collapsed": false
   },
   "outputs": [],
   "source": [
    "# TODO"
   ]
  },
  {
   "cell_type": "markdown",
   "metadata": {},
   "source": [
    "## Machine Learning Modeling"
   ]
  },
  {
   "cell_type": "markdown",
   "metadata": {},
   "source": [
    "> # TODO..."
   ]
  }
 ],
 "metadata": {
  "kernelspec": {
   "display_name": "Python [Root]",
   "language": "python",
   "name": "Python [Root]"
  },
  "language_info": {
   "codemirror_mode": {
    "name": "ipython",
    "version": 2
   },
   "file_extension": ".py",
   "mimetype": "text/x-python",
   "name": "python",
   "nbconvert_exporter": "python",
   "pygments_lexer": "ipython2",
   "version": "2.7.12"
  }
 },
 "nbformat": 4,
 "nbformat_minor": 0
}
