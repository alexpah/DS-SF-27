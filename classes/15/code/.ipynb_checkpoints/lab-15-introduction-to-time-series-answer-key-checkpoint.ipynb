{
 "cells": [
  {
   "cell_type": "markdown",
   "metadata": {},
   "source": [
    "# DS-SF-27 | Lab 15 | Introduction to Time Series | Answer Key"
   ]
  },
  {
   "cell_type": "code",
   "execution_count": 9,
   "metadata": {
    "collapsed": true
   },
   "outputs": [],
   "source": [
    "import os\n",
    "import seaborn as sns\n",
    "\n",
    "import pandas as pd\n",
    "pd.set_option('display.max_rows', 10)\n",
    "pd.set_option('display.notebook_repr_html', True)\n",
    "pd.set_option('display.max_columns', 10)\n",
    "\n",
    "from statsmodels.tsa import arima_model\n",
    "from statsmodels.graphics.tsaplots import plot_acf\n",
    "from sklearn import metrics\n",
    "\n",
    "import matplotlib.pyplot as plt\n",
    "%matplotlib inline\n",
    "plt.style.use('ggplot')"
   ]
  },
  {
   "cell_type": "markdown",
   "metadata": {},
   "source": [
    "## Walmart Sales Data"
   ]
  },
  {
   "cell_type": "markdown",
   "metadata": {},
   "source": [
    "In this lab, we will analyze the weekly sales data from Walmart over a two year period from 2010 to 2012.\n",
    "\n",
    "The data is again separated by store and by department, but we will focus on analyzing one store for simplicity.\n",
    "\n",
    "The data includes:\n",
    "- Store - the store number\n",
    "- Deptartment - the department number\n",
    "- Date - the week\n",
    "- WeeklySales - sales for the given department in the given store\n",
    "- IsHoliday - whether the week is a special holiday week"
   ]
  },
  {
   "cell_type": "markdown",
   "metadata": {},
   "source": [
    "> ## Question 0.  Load the data and set the date as index"
   ]
  },
  {
   "cell_type": "code",
   "execution_count": 4,
   "metadata": {
    "collapsed": false
   },
   "outputs": [
    {
     "data": {
      "text/html": [
       "<div>\n",
       "<table border=\"1\" class=\"dataframe\">\n",
       "  <thead>\n",
       "    <tr style=\"text-align: right;\">\n",
       "      <th></th>\n",
       "      <th>Store</th>\n",
       "      <th>Department</th>\n",
       "      <th>WeeklySales</th>\n",
       "      <th>IsHoliday</th>\n",
       "    </tr>\n",
       "    <tr>\n",
       "      <th>Date</th>\n",
       "      <th></th>\n",
       "      <th></th>\n",
       "      <th></th>\n",
       "      <th></th>\n",
       "    </tr>\n",
       "  </thead>\n",
       "  <tbody>\n",
       "    <tr>\n",
       "      <th>2010-02-05</th>\n",
       "      <td>1</td>\n",
       "      <td>1</td>\n",
       "      <td>24924.50</td>\n",
       "      <td>False</td>\n",
       "    </tr>\n",
       "    <tr>\n",
       "      <th>2010-02-12</th>\n",
       "      <td>1</td>\n",
       "      <td>1</td>\n",
       "      <td>46039.49</td>\n",
       "      <td>True</td>\n",
       "    </tr>\n",
       "    <tr>\n",
       "      <th>2010-02-19</th>\n",
       "      <td>1</td>\n",
       "      <td>1</td>\n",
       "      <td>41595.55</td>\n",
       "      <td>False</td>\n",
       "    </tr>\n",
       "    <tr>\n",
       "      <th>2010-02-26</th>\n",
       "      <td>1</td>\n",
       "      <td>1</td>\n",
       "      <td>19403.54</td>\n",
       "      <td>False</td>\n",
       "    </tr>\n",
       "    <tr>\n",
       "      <th>2010-03-05</th>\n",
       "      <td>1</td>\n",
       "      <td>1</td>\n",
       "      <td>21827.90</td>\n",
       "      <td>False</td>\n",
       "    </tr>\n",
       "  </tbody>\n",
       "</table>\n",
       "</div>"
      ],
      "text/plain": [
       "            Store  Department  WeeklySales IsHoliday\n",
       "Date                                                \n",
       "2010-02-05      1           1     24924.50     False\n",
       "2010-02-12      1           1     46039.49      True\n",
       "2010-02-19      1           1     41595.55     False\n",
       "2010-02-26      1           1     19403.54     False\n",
       "2010-03-05      1           1     21827.90     False"
      ]
     },
     "execution_count": 4,
     "metadata": {},
     "output_type": "execute_result"
    }
   ],
   "source": [
    "df = pd.read_csv(os.path.join('..', 'datasets', 'walmart.csv'))\n",
    "\n",
    "df.Date = pd.to_datetime(df.Date)\n",
    "df.set_index('Date', inplace = True)\n",
    "\n",
    "df.head()"
   ]
  },
  {
   "cell_type": "markdown",
   "metadata": {},
   "source": [
    "> ## Question 1.  Filter the dataframe to Store 1 sales and aggregate over departments to compute the total sales per store."
   ]
  },
  {
   "cell_type": "code",
   "execution_count": 5,
   "metadata": {
    "collapsed": false
   },
   "outputs": [
    {
     "data": {
      "text/html": [
       "<div>\n",
       "<table border=\"1\" class=\"dataframe\">\n",
       "  <thead>\n",
       "    <tr style=\"text-align: right;\">\n",
       "      <th></th>\n",
       "      <th>WeeklySales</th>\n",
       "    </tr>\n",
       "    <tr>\n",
       "      <th>Date</th>\n",
       "      <th></th>\n",
       "    </tr>\n",
       "  </thead>\n",
       "  <tbody>\n",
       "    <tr>\n",
       "      <th>2010-02-07</th>\n",
       "      <td>1643690.90</td>\n",
       "    </tr>\n",
       "    <tr>\n",
       "      <th>2010-02-14</th>\n",
       "      <td>1641957.44</td>\n",
       "    </tr>\n",
       "    <tr>\n",
       "      <th>2010-02-21</th>\n",
       "      <td>1611968.17</td>\n",
       "    </tr>\n",
       "    <tr>\n",
       "      <th>2010-02-28</th>\n",
       "      <td>1409727.59</td>\n",
       "    </tr>\n",
       "    <tr>\n",
       "      <th>2010-03-07</th>\n",
       "      <td>1554806.68</td>\n",
       "    </tr>\n",
       "  </tbody>\n",
       "</table>\n",
       "</div>"
      ],
      "text/plain": [
       "            WeeklySales\n",
       "Date                   \n",
       "2010-02-07   1643690.90\n",
       "2010-02-14   1641957.44\n",
       "2010-02-21   1611968.17\n",
       "2010-02-28   1409727.59\n",
       "2010-03-07   1554806.68"
      ]
     },
     "execution_count": 5,
     "metadata": {},
     "output_type": "execute_result"
    }
   ],
   "source": [
    "df = df[df.Store == 1][ ['WeeklySales'] ].resample('W').sum()\n",
    "\n",
    "df.head()"
   ]
  },
  {
   "cell_type": "markdown",
   "metadata": {},
   "source": [
    "> ## Question 2.  Plot the rolling mean for `WeeklySales`.  What general trends do you observe?"
   ]
  },
  {
   "cell_type": "code",
   "execution_count": 10,
   "metadata": {
    "collapsed": false
   },
   "outputs": [
    {
     "data": {
      "text/plain": [
       "<matplotlib.axes._subplots.AxesSubplot at 0x116244350>"
      ]
     },
     "execution_count": 10,
     "metadata": {},
     "output_type": "execute_result"
    },
    {
     "data": {
      "image/png": "[encoded data removed]",
      "text/plain": [
       "<matplotlib.figure.Figure at 0x116559c10>"
      ]
     },
     "metadata": {},
     "output_type": "display_data"
    }
   ],
   "source": [
    "df.WeeklySales.rolling(window = 3).mean().plot()"
   ]
  },
  {
   "cell_type": "markdown",
   "metadata": {
    "collapsed": true
   },
   "source": [
    "> ## Question 3.  Compute the week 1, 2, and 52 autocorrelations for `WeeklySales` and/or create an autocorrelation plot.  Comments?"
   ]
  },
  {
   "cell_type": "code",
   "execution_count": 5,
   "metadata": {
    "collapsed": false
   },
   "outputs": [
    {
     "name": "stdout",
     "output_type": "stream",
     "text": [
      "Autocorrelation  1 = 0.302158279411\n",
      "Autocorrelation  2 = 0.127413130554\n",
      "Autocorrelation 52 = 0.895376029478\n"
     ]
    }
   ],
   "source": [
    "print 'Autocorrelation  1 =', df.WeeklySales.autocorr(1)\n",
    "print 'Autocorrelation  2 =', df.WeeklySales.autocorr(2)\n",
    "print 'Autocorrelation 52 =', df.WeeklySales.autocorr(52)"
   ]
  },
  {
   "cell_type": "code",
   "execution_count": 6,
   "metadata": {
    "collapsed": false
   },
   "outputs": [
    {
     "data": {
      "image/png": "[encoded data removed]"
     },
     "metadata": {},
     "output_type": "display_data"
    }
   ],
   "source": [
    "pd.tools.plotting.autocorrelation_plot(df.WeeklySales)"
   ]
  },
  {
   "cell_type": "code",
   "execution_count": 7,
   "metadata": {
    "collapsed": false
   },
   "outputs": [
    {
     "data": {
      "image/png": "[encoded data removed]"
     },
     "metadata": {},
     "output_type": "display_data"
    }
   ],
   "source": [
    "plot_acf(df.WeeklySales, lags = 30)\n",
    "\n",
    "pass"
   ]
  },
  {
   "cell_type": "markdown",
   "metadata": {},
   "source": [
    "Answer:\n",
    "\n",
    "- Components 1 and 2 seem particularly useful for autoregression, perhaps up to 4\n",
    "- In the plot above notice, spike at around 52, implying a yearly pattern as well\n",
    "- No random spikes, probably not much use for a moving average model"
   ]
  },
  {
   "cell_type": "markdown",
   "metadata": {},
   "source": [
    "> ## Question 4.  Split the weekly sales data in a training and test set, using 75% of the data for training."
   ]
  },
  {
   "cell_type": "code",
   "execution_count": 8,
   "metadata": {
    "collapsed": true
   },
   "outputs": [],
   "source": [
    "n = df.WeeklySales.shape[0]\n",
    "m = int(.75 * n)\n",
    "\n",
    "train_df = df[: m]\n",
    "test_df = df[m :]"
   ]
  },
  {
   "cell_type": "code",
   "execution_count": 1,
   "metadata": {
    "collapsed": false
   },
   "outputs": [
    {
     "ename": "NameError",
     "evalue": "name 'n' is not defined",
     "output_type": "error",
     "traceback": [
      "\u001b[0;31m---------------------------------------------------------------------------\u001b[0m",
      "\u001b[0;31mNameError\u001b[0m                                 Traceback (most recent call last)",
      "\u001b[0;32m<ipython-input-1-fe13119fb084>\u001b[0m in \u001b[0;36m<module>\u001b[0;34m()\u001b[0m\n\u001b[0;32m----> 1\u001b[0;31m \u001b[0mn\u001b[0m\u001b[0;34m\u001b[0m\u001b[0m\n\u001b[0m",
      "\u001b[0;31mNameError\u001b[0m: name 'n' is not defined"
     ]
    }
   ],
   "source": [
    "n"
   ]
  },
  {
   "cell_type": "markdown",
   "metadata": {},
   "source": [
    "> ## Question 5.  Create an `AR(1)` model on the training data and compute the mean absolute error of the predictions."
   ]
  },
  {
   "cell_type": "code",
   "execution_count": 9,
   "metadata": {
    "collapsed": false
   },
   "outputs": [
    {
     "name": "stdout",
     "output_type": "stream",
     "text": [
      "Mean absolute error = 81839.3386316\n"
     ]
    },
    {
     "data": {
      "text/html": [
       "<table class=\"simpletable\">\n",
       "<caption>ARMA Model Results</caption>\n",
       "<tr>\n",
       "  <th>Dep. Variable:</th>    <td>WeeklySales</td>   <th>  No. Observations:  </th>     <td>107</td>   \n",
       "</tr>\n",
       "<tr>\n",
       "  <th>Model:</th>            <td>ARMA(1, 0)</td>    <th>  Log Likelihood     </th>  <td>-1434.663</td>\n",
       "</tr>\n",
       "<tr>\n",
       "  <th>Method:</th>             <td>css-mle</td>     <th>  S.D. of innovations</th> <td>160916.939</td>\n",
       "</tr>\n",
       "<tr>\n",
       "  <th>Date:</th>          <td></td> <th>  AIC                </th>  <td>2875.327</td> \n",
       "</tr>\n",
       "<tr>\n",
       "  <th>Time:</th>              <td></td>     <th>  BIC                </th>  <td>2883.345</td> \n",
       "</tr>\n",
       "<tr>\n",
       "  <th>Sample:</th>           <td>02-07-2010</td>    <th>  HQIC               </th>  <td>2878.577</td> \n",
       "</tr>\n",
       "<tr>\n",
       "  <th></th>                 <td>- 02-19-2012</td>   <th>                     </th>      <td> </td>    \n",
       "</tr>\n",
       "</table>\n",
       "<table class=\"simpletable\">\n",
       "<tr>\n",
       "          <td></td>             <th>coef</th>     <th>std err</th>      <th>z</th>      <th>P>|z|</th> <th>[95.0% Conf. Int.]</th> \n",
       "</tr>\n",
       "<tr>\n",
       "  <th>const</th>             <td> 1.544e+06</td> <td> 2.26e+04</td> <td>   68.293</td> <td> 0.000</td> <td>  1.5e+06  1.59e+06</td>\n",
       "</tr>\n",
       "<tr>\n",
       "  <th>ar.L1.WeeklySales</th> <td>    0.3147</td> <td>    0.093</td> <td>    3.399</td> <td> 0.001</td> <td>    0.133     0.496</td>\n",
       "</tr>\n",
       "</table>\n",
       "<table class=\"simpletable\">\n",
       "<caption>Roots</caption>\n",
       "<tr>\n",
       "    <td></td>   <th>           Real</th> <th>         Imaginary</th> <th>         Modulus</th> <th>        Frequency</th>\n",
       "</tr>\n",
       "<tr>\n",
       "  <th>AR.1</th>               3.1779                    +0.0000j                    3.1779                    0.0000     \n",
       "</tr>\n",
       "</table>"
      ],
      "text/plain": [
       "<class 'statsmodels.iolib.summary.Summary'>\n",
       "\"\"\"\n",
       "                              ARMA Model Results                              \n",
       "==============================================================================\n",
       "Dep. Variable:            WeeklySales   No. Observations:                  107\n",
       "Model:                     ARMA(1, 0)   Log Likelihood               -1434.663\n",
       "Method:                       css-mle   S.D. of innovations         160916.939\n",
       "Date:                                   AIC                           2875.327\n",
       "Time:                                   BIC                           2883.345\n",
       "Sample:                    02-07-2010   HQIC                          2878.577\n",
       "                         - 02-19-2012                                         \n",
       "=====================================================================================\n",
       "                        coef    std err          z      P>|z|      [95.0% Conf. Int.]\n",
       "-------------------------------------------------------------------------------------\n",
       "const              1.544e+06   2.26e+04     68.293      0.000       1.5e+06  1.59e+06\n",
       "ar.L1.WeeklySales     0.3147      0.093      3.399      0.001         0.133     0.496\n",
       "                                    Roots                                    \n",
       "=============================================================================\n",
       "                 Real           Imaginary           Modulus         Frequency\n",
       "-----------------------------------------------------------------------------\n",
       "AR.1            3.1779           +0.0000j            3.1779            0.0000\n",
       "-----------------------------------------------------------------------------\n",
       "\"\"\""
      ]
     },
     "execution_count": 9,
     "metadata": {},
     "output_type": "execute_result"
    }
   ],
   "source": [
    "model = arima_model.ARIMA(train_df, (1, 0, 0)).fit()\n",
    "\n",
    "test_hat_df = model.predict(\n",
    "    test_df.index[0].strftime('%Y-%m-%d'),\n",
    "    test_df.index[-1].strftime('%Y-%m-%d'),\n",
    "    dynamic = True\n",
    ")\n",
    "\n",
    "print 'Mean absolute error =', metrics.mean_absolute_error(test_df, test_hat_df)\n",
    "\n",
    "model.summary()"
   ]
  },
  {
   "cell_type": "markdown",
   "metadata": {},
   "source": [
    "> ## Question 6.  Plot the residuals.  Where are their significant errors?"
   ]
  },
  {
   "cell_type": "code",
   "execution_count": 10,
   "metadata": {
    "collapsed": false
   },
   "outputs": [
    {
     "data": {
      "image/png": "[encoded data removed]"
     },
     "metadata": {},
     "output_type": "display_data"
    }
   ],
   "source": [
    "model.resid.plot()"
   ]
  },
  {
   "cell_type": "code",
   "execution_count": 11,
   "metadata": {
    "collapsed": false
   },
   "outputs": [
    {
     "data": {
      "image/png": "[encoded data removed]"
     },
     "metadata": {},
     "output_type": "display_data"
    }
   ],
   "source": [
    "plot_acf(model.resid, lags = 30)\n",
    "\n",
    "pass"
   ]
  },
  {
   "cell_type": "markdown",
   "metadata": {},
   "source": [
    "> ## Question 7.  Compute an `AR(2)` model and an `ARMA(2, 2)` model - does this improve your mean absolute error on the held out set?"
   ]
  },
  {
   "cell_type": "code",
   "execution_count": 12,
   "metadata": {
    "collapsed": false
   },
   "outputs": [
    {
     "name": "stdout",
     "output_type": "stream",
     "text": [
      "Mean absolute error = 81203.2343732\n"
     ]
    },
    {
     "data": {
      "text/html": [
       "<table class=\"simpletable\">\n",
       "<caption>ARMA Model Results</caption>\n",
       "<tr>\n",
       "  <th>Dep. Variable:</th>    <td>WeeklySales</td>   <th>  No. Observations:  </th>     <td>107</td>   \n",
       "</tr>\n",
       "<tr>\n",
       "  <th>Model:</th>            <td>ARMA(2, 0)</td>    <th>  Log Likelihood     </th>  <td>-1434.482</td>\n",
       "</tr>\n",
       "<tr>\n",
       "  <th>Method:</th>             <td>css-mle</td>     <th>  S.D. of innovations</th> <td>160638.038</td>\n",
       "</tr>\n",
       "<tr>\n",
       "  <th>Date:</th>          <td></td> <th>  AIC                </th>  <td>2876.963</td> \n",
       "</tr>\n",
       "<tr>\n",
       "  <th>Time:</th>              <td></td>     <th>  BIC                </th>  <td>2887.655</td> \n",
       "</tr>\n",
       "<tr>\n",
       "  <th>Sample:</th>           <td>02-07-2010</td>    <th>  HQIC               </th>  <td>2881.298</td> \n",
       "</tr>\n",
       "<tr>\n",
       "  <th></th>                 <td>- 02-19-2012</td>   <th>                     </th>      <td> </td>    \n",
       "</tr>\n",
       "</table>\n",
       "<table class=\"simpletable\">\n",
       "<tr>\n",
       "          <td></td>             <th>coef</th>     <th>std err</th>      <th>z</th>      <th>P>|z|</th> <th>[95.0% Conf. Int.]</th> \n",
       "</tr>\n",
       "<tr>\n",
       "  <th>const</th>             <td> 1.544e+06</td> <td>  2.4e+04</td> <td>   64.349</td> <td> 0.000</td> <td>  1.5e+06  1.59e+06</td>\n",
       "</tr>\n",
       "<tr>\n",
       "  <th>ar.L1.WeeklySales</th> <td>    0.2974</td> <td>    0.097</td> <td>    3.075</td> <td> 0.003</td> <td>    0.108     0.487</td>\n",
       "</tr>\n",
       "<tr>\n",
       "  <th>ar.L2.WeeklySales</th> <td>    0.0589</td> <td>    0.098</td> <td>    0.603</td> <td> 0.548</td> <td>   -0.132     0.250</td>\n",
       "</tr>\n",
       "</table>\n",
       "<table class=\"simpletable\">\n",
       "<caption>Roots</caption>\n",
       "<tr>\n",
       "    <td></td>   <th>           Real</th> <th>         Imaginary</th> <th>         Modulus</th> <th>        Frequency</th>\n",
       "</tr>\n",
       "<tr>\n",
       "  <th>AR.1</th>               2.3080                    +0.0000j                    2.3080                    0.0000     \n",
       "</tr>\n",
       "<tr>\n",
       "  <th>AR.2</th>              -7.3587                    +0.0000j                    7.3587                    0.5000     \n",
       "</tr>\n",
       "</table>"
      ],
      "text/plain": [
       "<class 'statsmodels.iolib.summary.Summary'>\n",
       "\"\"\"\n",
       "                              ARMA Model Results                              \n",
       "==============================================================================\n",
       "Dep. Variable:            WeeklySales   No. Observations:                  107\n",
       "Model:                     ARMA(2, 0)   Log Likelihood               -1434.482\n",
       "Method:                       css-mle   S.D. of innovations         160638.038\n",
       "Date:                                   AIC                           2876.963\n",
       "Time:                                   BIC                           2887.655\n",
       "Sample:                    02-07-2010   HQIC                          2881.298\n",
       "                         - 02-19-2012                                         \n",
       "=====================================================================================\n",
       "                        coef    std err          z      P>|z|      [95.0% Conf. Int.]\n",
       "-------------------------------------------------------------------------------------\n",
       "const              1.544e+06    2.4e+04     64.349      0.000       1.5e+06  1.59e+06\n",
       "ar.L1.WeeklySales     0.2974      0.097      3.075      0.003         0.108     0.487\n",
       "ar.L2.WeeklySales     0.0589      0.098      0.603      0.548        -0.132     0.250\n",
       "                                    Roots                                    \n",
       "=============================================================================\n",
       "                 Real           Imaginary           Modulus         Frequency\n",
       "-----------------------------------------------------------------------------\n",
       "AR.1            2.3080           +0.0000j            2.3080            0.0000\n",
       "AR.2           -7.3587           +0.0000j            7.3587            0.5000\n",
       "-----------------------------------------------------------------------------\n",
       "\"\"\""
      ]
     },
     "execution_count": 12,
     "metadata": {},
     "output_type": "execute_result"
    }
   ],
   "source": [
    "model = arima_model.ARIMA(train_df, (2, 0, 0)).fit()\n",
    "\n",
    "test_hat_df = model.predict(\n",
    "    test_df.index[0].strftime('%Y-%m-%d'),\n",
    "    test_df.index[-1].strftime('%Y-%m-%d'),\n",
    "    dynamic = True\n",
    ")\n",
    "\n",
    "print 'Mean absolute error =', metrics.mean_absolute_error(test_df, test_hat_df)\n",
    "\n",
    "model.summary()"
   ]
  },
  {
   "cell_type": "markdown",
   "metadata": {},
   "source": [
    "> ## Question 8.  Finally, compute an `ARIMA` model to improve your prediction error."
   ]
  },
  {
   "cell_type": "code",
   "execution_count": 13,
   "metadata": {
    "collapsed": false
   },
   "outputs": [
    {
     "name": "stdout",
     "output_type": "stream",
     "text": [
      "Mean absolute error = 1595852.69155\n"
     ]
    },
    {
     "data": {
      "text/html": [
       "<table class=\"simpletable\">\n",
       "<caption>ARIMA Model Results</caption>\n",
       "<tr>\n",
       "  <th>Dep. Variable:</th>   <td>D.WeeklySales</td>  <th>  No. Observations:  </th>     <td>106</td>   \n",
       "</tr>\n",
       "<tr>\n",
       "  <th>Model:</th>          <td>ARIMA(2, 1, 3)</td>  <th>  Log Likelihood     </th>  <td>-1413.633</td>\n",
       "</tr>\n",
       "<tr>\n",
       "  <th>Method:</th>             <td>css-mle</td>     <th>  S.D. of innovations</th> <td>142945.746</td>\n",
       "</tr>\n",
       "<tr>\n",
       "  <th>Date:</th>          <td></td> <th>  AIC                </th>  <td>2841.267</td> \n",
       "</tr>\n",
       "<tr>\n",
       "  <th>Time:</th>              <td></td>     <th>  BIC                </th>  <td>2859.911</td> \n",
       "</tr>\n",
       "<tr>\n",
       "  <th>Sample:</th>           <td>02-14-2010</td>    <th>  HQIC               </th>  <td>2848.824</td> \n",
       "</tr>\n",
       "<tr>\n",
       "  <th></th>                 <td>- 02-19-2012</td>   <th>                     </th>      <td> </td>    \n",
       "</tr>\n",
       "</table>\n",
       "<table class=\"simpletable\">\n",
       "<tr>\n",
       "           <td></td>              <th>coef</th>     <th>std err</th>      <th>z</th>      <th>P>|z|</th> <th>[95.0% Conf. Int.]</th> \n",
       "</tr>\n",
       "<tr>\n",
       "  <th>const</th>               <td>  570.3722</td> <td>  622.022</td> <td>    0.917</td> <td> 0.361</td> <td> -648.768  1789.513</td>\n",
       "</tr>\n",
       "<tr>\n",
       "  <th>ar.L1.D.WeeklySales</th> <td>   -1.0482</td> <td>    0.090</td> <td>  -11.606</td> <td> 0.000</td> <td>   -1.225    -0.871</td>\n",
       "</tr>\n",
       "<tr>\n",
       "  <th>ar.L2.D.WeeklySales</th> <td>   -0.4782</td> <td>    0.088</td> <td>   -5.445</td> <td> 0.000</td> <td>   -0.650    -0.306</td>\n",
       "</tr>\n",
       "<tr>\n",
       "  <th>ma.L1.D.WeeklySales</th> <td>    0.4694</td> <td>    0.131</td> <td>    3.579</td> <td> 0.001</td> <td>    0.212     0.727</td>\n",
       "</tr>\n",
       "<tr>\n",
       "  <th>ma.L2.D.WeeklySales</th> <td>   -0.4694</td> <td>    0.177</td> <td>   -2.653</td> <td> 0.009</td> <td>   -0.816    -0.123</td>\n",
       "</tr>\n",
       "<tr>\n",
       "  <th>ma.L3.D.WeeklySales</th> <td>   -1.0000</td> <td>    0.138</td> <td>   -7.243</td> <td> 0.000</td> <td>   -1.271    -0.729</td>\n",
       "</tr>\n",
       "</table>\n",
       "<table class=\"simpletable\">\n",
       "<caption>Roots</caption>\n",
       "<tr>\n",
       "    <td></td>   <th>           Real</th> <th>         Imaginary</th> <th>         Modulus</th> <th>        Frequency</th>\n",
       "</tr>\n",
       "<tr>\n",
       "  <th>AR.1</th>              -1.0959                    -0.9434j                    1.4460                   -0.3869     \n",
       "</tr>\n",
       "<tr>\n",
       "  <th>AR.2</th>              -1.0959                    +0.9434j                    1.4460                    0.3869     \n",
       "</tr>\n",
       "<tr>\n",
       "  <th>MA.1</th>               1.0000                    -0.0000j                    1.0000                   -0.0000     \n",
       "</tr>\n",
       "<tr>\n",
       "  <th>MA.2</th>              -0.7347                    -0.6784j                    1.0000                   -0.3813     \n",
       "</tr>\n",
       "<tr>\n",
       "  <th>MA.3</th>              -0.7347                    +0.6784j                    1.0000                    0.3813     \n",
       "</tr>\n",
       "</table>"
      ],
      "text/plain": [
       "<class 'statsmodels.iolib.summary.Summary'>\n",
       "\"\"\"\n",
       "                             ARIMA Model Results                              \n",
       "==============================================================================\n",
       "Dep. Variable:          D.WeeklySales   No. Observations:                  106\n",
       "Model:                 ARIMA(2, 1, 3)   Log Likelihood               -1413.633\n",
       "Method:                       css-mle   S.D. of innovations         142945.746\n",
       "Date:                                   AIC                           2841.267\n",
       "Time:                                   BIC                           2859.911\n",
       "Sample:                    02-14-2010   HQIC                          2848.824\n",
       "                         - 02-19-2012                                         \n",
       "=======================================================================================\n",
       "                          coef    std err          z      P>|z|      [95.0% Conf. Int.]\n",
       "---------------------------------------------------------------------------------------\n",
       "const                 570.3722    622.022      0.917      0.361      -648.768  1789.513\n",
       "ar.L1.D.WeeklySales    -1.0482      0.090    -11.606      0.000        -1.225    -0.871\n",
       "ar.L2.D.WeeklySales    -0.4782      0.088     -5.445      0.000        -0.650    -0.306\n",
       "ma.L1.D.WeeklySales     0.4694      0.131      3.579      0.001         0.212     0.727\n",
       "ma.L2.D.WeeklySales    -0.4694      0.177     -2.653      0.009        -0.816    -0.123\n",
       "ma.L3.D.WeeklySales    -1.0000      0.138     -7.243      0.000        -1.271    -0.729\n",
       "                                    Roots                                    \n",
       "=============================================================================\n",
       "                 Real           Imaginary           Modulus         Frequency\n",
       "-----------------------------------------------------------------------------\n",
       "AR.1           -1.0959           -0.9434j            1.4460           -0.3869\n",
       "AR.2           -1.0959           +0.9434j            1.4460            0.3869\n",
       "MA.1            1.0000           -0.0000j            1.0000           -0.0000\n",
       "MA.2           -0.7347           -0.6784j            1.0000           -0.3813\n",
       "MA.3           -0.7347           +0.6784j            1.0000            0.3813\n",
       "-----------------------------------------------------------------------------\n",
       "\"\"\""
      ]
     },
     "execution_count": 13,
     "metadata": {},
     "output_type": "execute_result"
    }
   ],
   "source": [
    "model = arima_model.ARIMA(train_df, (2, 1, 3)).fit()\n",
    "\n",
    "test_hat_df = model.predict(\n",
    "    test_df.index[0].strftime('%Y-%m-%d'),\n",
    "    test_df.index[-1].strftime('%Y-%m-%d'),\n",
    "    dynamic = True\n",
    ")\n",
    "\n",
    "print 'Mean absolute error =', metrics.mean_absolute_error(test_df, test_hat_df)\n",
    "\n",
    "model.summary()"
   ]
  }
 ],
 "metadata": {
  "kernelspec": {
   "display_name": "Python [Root]",
   "language": "python",
   "name": "Python [Root]"
  },
  "language_info": {
   "codemirror_mode": {
    "name": "ipython",
    "version": 2
   },
   "file_extension": ".py",
   "mimetype": "text/x-python",
   "name": "python",
   "nbconvert_exporter": "python",
   "pygments_lexer": "ipython2",
   "version": "2.7.12"
  }
 },
 "nbformat": 4,
 "nbformat_minor": 0
}
