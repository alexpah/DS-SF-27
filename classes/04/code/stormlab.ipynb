{
 "cells": [
  {
   "cell_type": "code",
   "execution_count": 21,
   "metadata": {
    "collapsed": true
   },
   "outputs": [],
   "source": [
    "import os\n",
    "\n",
    "import math\n",
    "\n",
    "import numpy as np\n",
    "import pandas as pd\n",
    "\n",
    "\n",
    "import matplotlib.pyplot as plt\n",
    "%matplotlib inline\n",
    "plt.style.use('ggplot')"
   ]
  },
  {
   "cell_type": "code",
   "execution_count": 22,
   "metadata": {
    "collapsed": false
   },
   "outputs": [],
   "source": [
    "df = pd.read_csv(os.path.join('..', 'datasets', 'storms.csv.gz'))"
   ]
  },
  {
   "cell_type": "code",
   "execution_count": 23,
   "metadata": {
    "collapsed": false
   },
   "outputs": [
    {
     "data": {
      "text/html": [
       "<div>\n",
       "<table border=\"1\" class=\"dataframe\">\n",
       "  <thead>\n",
       "    <tr style=\"text-align: right;\">\n",
       "      <th></th>\n",
       "      <th>STATE__</th>\n",
       "      <th>BGN_DATE</th>\n",
       "      <th>BGN_TIME</th>\n",
       "      <th>TIME_ZONE</th>\n",
       "      <th>COUNTY</th>\n",
       "      <th>...</th>\n",
       "      <th>LONGITUDE</th>\n",
       "      <th>LATITUDE_E</th>\n",
       "      <th>LONGITUDE_</th>\n",
       "      <th>REMARKS</th>\n",
       "      <th>REFNUM</th>\n",
       "    </tr>\n",
       "  </thead>\n",
       "  <tbody>\n",
       "    <tr>\n",
       "      <th>0</th>\n",
       "      <td>1.0</td>\n",
       "      <td>4/18/1950 0:00:00</td>\n",
       "      <td>130</td>\n",
       "      <td>CST</td>\n",
       "      <td>97.0</td>\n",
       "      <td>...</td>\n",
       "      <td>8812.0</td>\n",
       "      <td>3051.0</td>\n",
       "      <td>8806.0</td>\n",
       "      <td>NaN</td>\n",
       "      <td>1.0</td>\n",
       "    </tr>\n",
       "    <tr>\n",
       "      <th>1</th>\n",
       "      <td>1.0</td>\n",
       "      <td>4/18/1950 0:00:00</td>\n",
       "      <td>145</td>\n",
       "      <td>CST</td>\n",
       "      <td>3.0</td>\n",
       "      <td>...</td>\n",
       "      <td>8755.0</td>\n",
       "      <td>0.0</td>\n",
       "      <td>0.0</td>\n",
       "      <td>NaN</td>\n",
       "      <td>2.0</td>\n",
       "    </tr>\n",
       "    <tr>\n",
       "      <th>2</th>\n",
       "      <td>1.0</td>\n",
       "      <td>2/20/1951 0:00:00</td>\n",
       "      <td>1600</td>\n",
       "      <td>CST</td>\n",
       "      <td>57.0</td>\n",
       "      <td>...</td>\n",
       "      <td>8742.0</td>\n",
       "      <td>0.0</td>\n",
       "      <td>0.0</td>\n",
       "      <td>NaN</td>\n",
       "      <td>3.0</td>\n",
       "    </tr>\n",
       "    <tr>\n",
       "      <th>3</th>\n",
       "      <td>1.0</td>\n",
       "      <td>6/8/1951 0:00:00</td>\n",
       "      <td>900</td>\n",
       "      <td>CST</td>\n",
       "      <td>89.0</td>\n",
       "      <td>...</td>\n",
       "      <td>8626.0</td>\n",
       "      <td>0.0</td>\n",
       "      <td>0.0</td>\n",
       "      <td>NaN</td>\n",
       "      <td>4.0</td>\n",
       "    </tr>\n",
       "    <tr>\n",
       "      <th>4</th>\n",
       "      <td>1.0</td>\n",
       "      <td>11/15/1951 0:00:00</td>\n",
       "      <td>1500</td>\n",
       "      <td>CST</td>\n",
       "      <td>43.0</td>\n",
       "      <td>...</td>\n",
       "      <td>8642.0</td>\n",
       "      <td>0.0</td>\n",
       "      <td>0.0</td>\n",
       "      <td>NaN</td>\n",
       "      <td>5.0</td>\n",
       "    </tr>\n",
       "    <tr>\n",
       "      <th>5</th>\n",
       "      <td>1.0</td>\n",
       "      <td>11/15/1951 0:00:00</td>\n",
       "      <td>2000</td>\n",
       "      <td>CST</td>\n",
       "      <td>77.0</td>\n",
       "      <td>...</td>\n",
       "      <td>8748.0</td>\n",
       "      <td>0.0</td>\n",
       "      <td>0.0</td>\n",
       "      <td>NaN</td>\n",
       "      <td>6.0</td>\n",
       "    </tr>\n",
       "    <tr>\n",
       "      <th>6</th>\n",
       "      <td>1.0</td>\n",
       "      <td>11/16/1951 0:00:00</td>\n",
       "      <td>100</td>\n",
       "      <td>CST</td>\n",
       "      <td>9.0</td>\n",
       "      <td>...</td>\n",
       "      <td>8631.0</td>\n",
       "      <td>0.0</td>\n",
       "      <td>0.0</td>\n",
       "      <td>NaN</td>\n",
       "      <td>7.0</td>\n",
       "    </tr>\n",
       "    <tr>\n",
       "      <th>7</th>\n",
       "      <td>1.0</td>\n",
       "      <td>1/22/1952 0:00:00</td>\n",
       "      <td>900</td>\n",
       "      <td>CST</td>\n",
       "      <td>123.0</td>\n",
       "      <td>...</td>\n",
       "      <td>8558.0</td>\n",
       "      <td>0.0</td>\n",
       "      <td>0.0</td>\n",
       "      <td>NaN</td>\n",
       "      <td>8.0</td>\n",
       "    </tr>\n",
       "    <tr>\n",
       "      <th>8</th>\n",
       "      <td>1.0</td>\n",
       "      <td>2/13/1952 0:00:00</td>\n",
       "      <td>2000</td>\n",
       "      <td>CST</td>\n",
       "      <td>125.0</td>\n",
       "      <td>...</td>\n",
       "      <td>8740.0</td>\n",
       "      <td>3336.0</td>\n",
       "      <td>8738.0</td>\n",
       "      <td>NaN</td>\n",
       "      <td>9.0</td>\n",
       "    </tr>\n",
       "    <tr>\n",
       "      <th>9</th>\n",
       "      <td>1.0</td>\n",
       "      <td>2/13/1952 0:00:00</td>\n",
       "      <td>2000</td>\n",
       "      <td>CST</td>\n",
       "      <td>57.0</td>\n",
       "      <td>...</td>\n",
       "      <td>8738.0</td>\n",
       "      <td>3337.0</td>\n",
       "      <td>8737.0</td>\n",
       "      <td>NaN</td>\n",
       "      <td>10.0</td>\n",
       "    </tr>\n",
       "    <tr>\n",
       "      <th>...</th>\n",
       "      <td>...</td>\n",
       "      <td>...</td>\n",
       "      <td>...</td>\n",
       "      <td>...</td>\n",
       "      <td>...</td>\n",
       "      <td>...</td>\n",
       "      <td>...</td>\n",
       "      <td>...</td>\n",
       "      <td>...</td>\n",
       "      <td>...</td>\n",
       "      <td>...</td>\n",
       "    </tr>\n",
       "    <tr>\n",
       "      <th>902287</th>\n",
       "      <td>8.0</td>\n",
       "      <td>11/5/2011 0:00:00</td>\n",
       "      <td>03:00:00 AM</td>\n",
       "      <td>MST</td>\n",
       "      <td>17.0</td>\n",
       "      <td>...</td>\n",
       "      <td>0.0</td>\n",
       "      <td>0.0</td>\n",
       "      <td>0.0</td>\n",
       "      <td>EPISODE NARRATIVE: A strong Pacific trough pro...</td>\n",
       "      <td>902288.0</td>\n",
       "    </tr>\n",
       "    <tr>\n",
       "      <th>902288</th>\n",
       "      <td>48.0</td>\n",
       "      <td>11/28/2011 0:00:00</td>\n",
       "      <td>03:30:00 AM</td>\n",
       "      <td>CST</td>\n",
       "      <td>250.0</td>\n",
       "      <td>...</td>\n",
       "      <td>0.0</td>\n",
       "      <td>0.0</td>\n",
       "      <td>0.0</td>\n",
       "      <td>EPISODE NARRATIVE: A true blue norther drove p...</td>\n",
       "      <td>902289.0</td>\n",
       "    </tr>\n",
       "    <tr>\n",
       "      <th>902289</th>\n",
       "      <td>8.0</td>\n",
       "      <td>11/12/2011 0:00:00</td>\n",
       "      <td>09:00:00 PM</td>\n",
       "      <td>MST</td>\n",
       "      <td>73.0</td>\n",
       "      <td>...</td>\n",
       "      <td>0.0</td>\n",
       "      <td>0.0</td>\n",
       "      <td>0.0</td>\n",
       "      <td>EPISODE NARRATIVE: A strong storm system cente...</td>\n",
       "      <td>902290.0</td>\n",
       "    </tr>\n",
       "    <tr>\n",
       "      <th>902290</th>\n",
       "      <td>28.0</td>\n",
       "      <td>11/28/2011 0:00:00</td>\n",
       "      <td>03:00:00 PM</td>\n",
       "      <td>CST</td>\n",
       "      <td>3.0</td>\n",
       "      <td>...</td>\n",
       "      <td>0.0</td>\n",
       "      <td>0.0</td>\n",
       "      <td>0.0</td>\n",
       "      <td>EPISODE NARRATIVE: A powerful upper level low ...</td>\n",
       "      <td>902291.0</td>\n",
       "    </tr>\n",
       "    <tr>\n",
       "      <th>902291</th>\n",
       "      <td>47.0</td>\n",
       "      <td>11/28/2011 0:00:00</td>\n",
       "      <td>03:00:00 PM</td>\n",
       "      <td>CST</td>\n",
       "      <td>21.0</td>\n",
       "      <td>...</td>\n",
       "      <td>0.0</td>\n",
       "      <td>0.0</td>\n",
       "      <td>0.0</td>\n",
       "      <td>EPISODE NARRATIVE: A powerful upper level low ...</td>\n",
       "      <td>902292.0</td>\n",
       "    </tr>\n",
       "    <tr>\n",
       "      <th>902292</th>\n",
       "      <td>56.0</td>\n",
       "      <td>11/30/2011 0:00:00</td>\n",
       "      <td>10:30:00 PM</td>\n",
       "      <td>MST</td>\n",
       "      <td>7.0</td>\n",
       "      <td>...</td>\n",
       "      <td>0.0</td>\n",
       "      <td>0.0</td>\n",
       "      <td>0.0</td>\n",
       "      <td>EPISODE NARRATIVE: A strong cold front moved s...</td>\n",
       "      <td>902293.0</td>\n",
       "    </tr>\n",
       "    <tr>\n",
       "      <th>902293</th>\n",
       "      <td>30.0</td>\n",
       "      <td>11/10/2011 0:00:00</td>\n",
       "      <td>02:48:00 PM</td>\n",
       "      <td>MST</td>\n",
       "      <td>9.0</td>\n",
       "      <td>...</td>\n",
       "      <td>0.0</td>\n",
       "      <td>0.0</td>\n",
       "      <td>0.0</td>\n",
       "      <td>EPISODE NARRATIVE: A strong westerly flow alof...</td>\n",
       "      <td>902294.0</td>\n",
       "    </tr>\n",
       "    <tr>\n",
       "      <th>902294</th>\n",
       "      <td>2.0</td>\n",
       "      <td>11/8/2011 0:00:00</td>\n",
       "      <td>02:58:00 PM</td>\n",
       "      <td>AKS</td>\n",
       "      <td>213.0</td>\n",
       "      <td>...</td>\n",
       "      <td>0.0</td>\n",
       "      <td>0.0</td>\n",
       "      <td>0.0</td>\n",
       "      <td>EPISODE NARRATIVE: A 960 mb low over the south...</td>\n",
       "      <td>902295.0</td>\n",
       "    </tr>\n",
       "    <tr>\n",
       "      <th>902295</th>\n",
       "      <td>2.0</td>\n",
       "      <td>11/9/2011 0:00:00</td>\n",
       "      <td>10:21:00 AM</td>\n",
       "      <td>AKS</td>\n",
       "      <td>202.0</td>\n",
       "      <td>...</td>\n",
       "      <td>0.0</td>\n",
       "      <td>0.0</td>\n",
       "      <td>0.0</td>\n",
       "      <td>EPISODE NARRATIVE: A 960 mb low over the south...</td>\n",
       "      <td>902296.0</td>\n",
       "    </tr>\n",
       "    <tr>\n",
       "      <th>902296</th>\n",
       "      <td>1.0</td>\n",
       "      <td>11/28/2011 0:00:00</td>\n",
       "      <td>08:00:00 PM</td>\n",
       "      <td>CST</td>\n",
       "      <td>6.0</td>\n",
       "      <td>...</td>\n",
       "      <td>0.0</td>\n",
       "      <td>0.0</td>\n",
       "      <td>0.0</td>\n",
       "      <td>EPISODE NARRATIVE: An intense upper level low ...</td>\n",
       "      <td>902297.0</td>\n",
       "    </tr>\n",
       "  </tbody>\n",
       "</table>\n",
       "<p>902297 rows × 37 columns</p>\n",
       "</div>"
      ],
      "text/plain": [
       "        STATE__            BGN_DATE     BGN_TIME TIME_ZONE  COUNTY    ...     \\\n",
       "0           1.0   4/18/1950 0:00:00          130       CST    97.0    ...      \n",
       "1           1.0   4/18/1950 0:00:00          145       CST     3.0    ...      \n",
       "2           1.0   2/20/1951 0:00:00         1600       CST    57.0    ...      \n",
       "3           1.0    6/8/1951 0:00:00          900       CST    89.0    ...      \n",
       "4           1.0  11/15/1951 0:00:00         1500       CST    43.0    ...      \n",
       "5           1.0  11/15/1951 0:00:00         2000       CST    77.0    ...      \n",
       "6           1.0  11/16/1951 0:00:00          100       CST     9.0    ...      \n",
       "7           1.0   1/22/1952 0:00:00          900       CST   123.0    ...      \n",
       "8           1.0   2/13/1952 0:00:00         2000       CST   125.0    ...      \n",
       "9           1.0   2/13/1952 0:00:00         2000       CST    57.0    ...      \n",
       "...         ...                 ...          ...       ...     ...    ...      \n",
       "902287      8.0   11/5/2011 0:00:00  03:00:00 AM       MST    17.0    ...      \n",
       "902288     48.0  11/28/2011 0:00:00  03:30:00 AM       CST   250.0    ...      \n",
       "902289      8.0  11/12/2011 0:00:00  09:00:00 PM       MST    73.0    ...      \n",
       "902290     28.0  11/28/2011 0:00:00  03:00:00 PM       CST     3.0    ...      \n",
       "902291     47.0  11/28/2011 0:00:00  03:00:00 PM       CST    21.0    ...      \n",
       "902292     56.0  11/30/2011 0:00:00  10:30:00 PM       MST     7.0    ...      \n",
       "902293     30.0  11/10/2011 0:00:00  02:48:00 PM       MST     9.0    ...      \n",
       "902294      2.0   11/8/2011 0:00:00  02:58:00 PM       AKS   213.0    ...      \n",
       "902295      2.0   11/9/2011 0:00:00  10:21:00 AM       AKS   202.0    ...      \n",
       "902296      1.0  11/28/2011 0:00:00  08:00:00 PM       CST     6.0    ...      \n",
       "\n",
       "       LONGITUDE LATITUDE_E LONGITUDE_  \\\n",
       "0         8812.0     3051.0     8806.0   \n",
       "1         8755.0        0.0        0.0   \n",
       "2         8742.0        0.0        0.0   \n",
       "3         8626.0        0.0        0.0   \n",
       "4         8642.0        0.0        0.0   \n",
       "5         8748.0        0.0        0.0   \n",
       "6         8631.0        0.0        0.0   \n",
       "7         8558.0        0.0        0.0   \n",
       "8         8740.0     3336.0     8738.0   \n",
       "9         8738.0     3337.0     8737.0   \n",
       "...          ...        ...        ...   \n",
       "902287       0.0        0.0        0.0   \n",
       "902288       0.0        0.0        0.0   \n",
       "902289       0.0        0.0        0.0   \n",
       "902290       0.0        0.0        0.0   \n",
       "902291       0.0        0.0        0.0   \n",
       "902292       0.0        0.0        0.0   \n",
       "902293       0.0        0.0        0.0   \n",
       "902294       0.0        0.0        0.0   \n",
       "902295       0.0        0.0        0.0   \n",
       "902296       0.0        0.0        0.0   \n",
       "\n",
       "                                                  REMARKS    REFNUM  \n",
       "0                                                     NaN       1.0  \n",
       "1                                                     NaN       2.0  \n",
       "2                                                     NaN       3.0  \n",
       "3                                                     NaN       4.0  \n",
       "4                                                     NaN       5.0  \n",
       "5                                                     NaN       6.0  \n",
       "6                                                     NaN       7.0  \n",
       "7                                                     NaN       8.0  \n",
       "8                                                     NaN       9.0  \n",
       "9                                                     NaN      10.0  \n",
       "...                                                   ...       ...  \n",
       "902287  EPISODE NARRATIVE: A strong Pacific trough pro...  902288.0  \n",
       "902288  EPISODE NARRATIVE: A true blue norther drove p...  902289.0  \n",
       "902289  EPISODE NARRATIVE: A strong storm system cente...  902290.0  \n",
       "902290  EPISODE NARRATIVE: A powerful upper level low ...  902291.0  \n",
       "902291  EPISODE NARRATIVE: A powerful upper level low ...  902292.0  \n",
       "902292  EPISODE NARRATIVE: A strong cold front moved s...  902293.0  \n",
       "902293  EPISODE NARRATIVE: A strong westerly flow alof...  902294.0  \n",
       "902294  EPISODE NARRATIVE: A 960 mb low over the south...  902295.0  \n",
       "902295  EPISODE NARRATIVE: A 960 mb low over the south...  902296.0  \n",
       "902296  EPISODE NARRATIVE: An intense upper level low ...  902297.0  \n",
       "\n",
       "[902297 rows x 37 columns]"
      ]
     },
     "execution_count": 23,
     "metadata": {},
     "output_type": "execute_result"
    }
   ],
   "source": [
    "df"
   ]
  },
  {
   "cell_type": "code",
   "execution_count": 58,
   "metadata": {
    "collapsed": true
   },
   "outputs": [],
   "source": [
    "df=df.set_index('REFNUM')"
   ]
  },
  {
   "cell_type": "code",
   "execution_count": 59,
   "metadata": {
    "collapsed": false
   },
   "outputs": [
    {
     "data": {
      "text/plain": [
       "Index([u'STATE__', u'BGN_DATE', u'BGN_TIME', u'TIME_ZONE', u'COUNTY',\n",
       "       u'COUNTYNAME', u'STATE', u'EVTYPE', u'BGN_RANGE', u'BGN_AZI',\n",
       "       u'BGN_LOCATI', u'END_DATE', u'END_TIME', u'COUNTY_END', u'COUNTYENDN',\n",
       "       u'END_RANGE', u'END_AZI', u'END_LOCATI', u'LENGTH', u'WIDTH', u'F',\n",
       "       u'MAG', u'FATALITIES', u'INJURIES', u'PROPDMG', u'PROPDMGEXP',\n",
       "       u'CROPDMG', u'CROPDMGEXP', u'WFO', u'STATEOFFIC', u'ZONENAMES',\n",
       "       u'LATITUDE', u'LONGITUDE', u'LATITUDE_E', u'LONGITUDE_', u'REMARKS'],\n",
       "      dtype='object')"
      ]
     },
     "execution_count": 59,
     "metadata": {},
     "output_type": "execute_result"
    }
   ],
   "source": [
    "df.columns"
   ]
  },
  {
   "cell_type": "code",
   "execution_count": 31,
   "metadata": {
    "collapsed": false
   },
   "outputs": [],
   "source": [
    "a = df.isnull().sum()"
   ]
  },
  {
   "cell_type": "code",
   "execution_count": 39,
   "metadata": {
    "collapsed": false
   },
   "outputs": [
    {
     "name": "stdout",
     "output_type": "stream",
     "text": [
      "STATE__              0.000\n",
      "BGN_DATE             0.000\n",
      "BGN_TIME             0.000\n",
      "TIME_ZONE            0.000\n",
      "COUNTY               0.000\n",
      "COUNTYNAME           0.176\n",
      "STATE                0.000\n",
      "EVTYPE               0.000\n",
      "BGN_RANGE            0.000\n",
      "BGN_AZI              60.660\n",
      "BGN_LOCATI           31.890\n",
      "END_DATE             26.977\n",
      "END_TIME             26.486\n",
      "COUNTY_END           0.000\n",
      "COUNTYENDN           100.000\n",
      "END_RANGE            0.000\n",
      "END_AZI              80.332\n",
      "END_LOCATI           55.328\n",
      "LENGTH               0.000\n",
      "WIDTH                0.000\n",
      "F                    93.491\n",
      "MAG                  0.000\n",
      "FATALITIES           0.000\n",
      "INJURIES             0.000\n",
      "PROPDMG              0.000\n",
      "PROPDMGEXP           51.639\n",
      "CROPDMG              0.000\n",
      "CROPDMGEXP           68.538\n",
      "WFO                  15.745\n",
      "STATEOFFIC           27.571\n",
      "ZONENAMES            65.835\n",
      "LATITUDE             0.005\n",
      "LONGITUDE            0.000\n",
      "LATITUDE_E           0.004\n",
      "LONGITUDE_           0.000\n",
      "REMARKS              31.856\n",
      "REFNUM               0.000\n"
     ]
    }
   ],
   "source": [
    "for column in df.columns:\n",
    "    print \"{:20s} {:2.3f}\".format(column, 100. * a[column] / len(df))"
   ]
  },
  {
   "cell_type": "code",
   "execution_count": 44,
   "metadata": {
    "collapsed": false
   },
   "outputs": [
    {
     "data": {
      "text/plain": [
       "902297"
      ]
     },
     "execution_count": 44,
     "metadata": {},
     "output_type": "execute_result"
    }
   ],
   "source": [
    "len(df)"
   ]
  },
  {
   "cell_type": "code",
   "execution_count": 47,
   "metadata": {
    "collapsed": false
   },
   "outputs": [
    {
     "data": {
      "text/plain": [
       "(902297, 37)"
      ]
     },
     "execution_count": 47,
     "metadata": {},
     "output_type": "execute_result"
    }
   ],
   "source": [
    "df.shape"
   ]
  },
  {
   "cell_type": "code",
   "execution_count": 48,
   "metadata": {
    "collapsed": false
   },
   "outputs": [
    {
     "data": {
      "text/plain": [
       "37"
      ]
     },
     "execution_count": 48,
     "metadata": {},
     "output_type": "execute_result"
    }
   ],
   "source": [
    "df.shape[1]"
   ]
  },
  {
   "cell_type": "code",
   "execution_count": 49,
   "metadata": {
    "collapsed": false
   },
   "outputs": [
    {
     "name": "stderr",
     "output_type": "stream",
     "text": [
      "//anaconda/lib/python2.7/site-packages/numpy/lib/function_base.py:3834: RuntimeWarning: Invalid value encountered in percentile\n",
      "  RuntimeWarning)\n"
     ]
    },
    {
     "data": {
      "text/html": [
       "<div>\n",
       "<table border=\"1\" class=\"dataframe\">\n",
       "  <thead>\n",
       "    <tr style=\"text-align: right;\">\n",
       "      <th></th>\n",
       "      <th>STATE__</th>\n",
       "      <th>COUNTY</th>\n",
       "      <th>BGN_RANGE</th>\n",
       "      <th>COUNTY_END</th>\n",
       "      <th>COUNTYENDN</th>\n",
       "      <th>...</th>\n",
       "      <th>LATITUDE</th>\n",
       "      <th>LONGITUDE</th>\n",
       "      <th>LATITUDE_E</th>\n",
       "      <th>LONGITUDE_</th>\n",
       "      <th>REFNUM</th>\n",
       "    </tr>\n",
       "  </thead>\n",
       "  <tbody>\n",
       "    <tr>\n",
       "      <th>count</th>\n",
       "      <td>902297.000000</td>\n",
       "      <td>902297.000000</td>\n",
       "      <td>902297.000000</td>\n",
       "      <td>902297.0</td>\n",
       "      <td>0.0</td>\n",
       "      <td>...</td>\n",
       "      <td>902250.000000</td>\n",
       "      <td>902297.000000</td>\n",
       "      <td>902257.000000</td>\n",
       "      <td>902297.000000</td>\n",
       "      <td>902297.000000</td>\n",
       "    </tr>\n",
       "    <tr>\n",
       "      <th>mean</th>\n",
       "      <td>31.200958</td>\n",
       "      <td>100.642905</td>\n",
       "      <td>1.483889</td>\n",
       "      <td>0.0</td>\n",
       "      <td>NaN</td>\n",
       "      <td>...</td>\n",
       "      <td>2874.942950</td>\n",
       "      <td>6939.538350</td>\n",
       "      <td>1451.611545</td>\n",
       "      <td>3509.139732</td>\n",
       "      <td>451149.000000</td>\n",
       "    </tr>\n",
       "    <tr>\n",
       "      <th>std</th>\n",
       "      <td>16.570178</td>\n",
       "      <td>107.276509</td>\n",
       "      <td>5.481574</td>\n",
       "      <td>0.0</td>\n",
       "      <td>NaN</td>\n",
       "      <td>...</td>\n",
       "      <td>1657.648801</td>\n",
       "      <td>3958.062506</td>\n",
       "      <td>1858.727873</td>\n",
       "      <td>4475.682973</td>\n",
       "      <td>260470.852256</td>\n",
       "    </tr>\n",
       "    <tr>\n",
       "      <th>min</th>\n",
       "      <td>1.000000</td>\n",
       "      <td>0.000000</td>\n",
       "      <td>0.000000</td>\n",
       "      <td>0.0</td>\n",
       "      <td>NaN</td>\n",
       "      <td>...</td>\n",
       "      <td>0.000000</td>\n",
       "      <td>-14451.000000</td>\n",
       "      <td>0.000000</td>\n",
       "      <td>-14455.000000</td>\n",
       "      <td>1.000000</td>\n",
       "    </tr>\n",
       "    <tr>\n",
       "      <th>25%</th>\n",
       "      <td>19.000000</td>\n",
       "      <td>31.000000</td>\n",
       "      <td>0.000000</td>\n",
       "      <td>0.0</td>\n",
       "      <td>NaN</td>\n",
       "      <td>...</td>\n",
       "      <td>NaN</td>\n",
       "      <td>7247.000000</td>\n",
       "      <td>NaN</td>\n",
       "      <td>0.000000</td>\n",
       "      <td>225575.000000</td>\n",
       "    </tr>\n",
       "    <tr>\n",
       "      <th>50%</th>\n",
       "      <td>30.000000</td>\n",
       "      <td>75.000000</td>\n",
       "      <td>0.000000</td>\n",
       "      <td>0.0</td>\n",
       "      <td>NaN</td>\n",
       "      <td>...</td>\n",
       "      <td>NaN</td>\n",
       "      <td>8707.000000</td>\n",
       "      <td>NaN</td>\n",
       "      <td>0.000000</td>\n",
       "      <td>451149.000000</td>\n",
       "    </tr>\n",
       "    <tr>\n",
       "      <th>75%</th>\n",
       "      <td>45.000000</td>\n",
       "      <td>131.000000</td>\n",
       "      <td>1.000000</td>\n",
       "      <td>0.0</td>\n",
       "      <td>NaN</td>\n",
       "      <td>...</td>\n",
       "      <td>NaN</td>\n",
       "      <td>9605.000000</td>\n",
       "      <td>NaN</td>\n",
       "      <td>8735.000000</td>\n",
       "      <td>676723.000000</td>\n",
       "    </tr>\n",
       "    <tr>\n",
       "      <th>max</th>\n",
       "      <td>95.000000</td>\n",
       "      <td>873.000000</td>\n",
       "      <td>3749.000000</td>\n",
       "      <td>0.0</td>\n",
       "      <td>NaN</td>\n",
       "      <td>...</td>\n",
       "      <td>9706.000000</td>\n",
       "      <td>17124.000000</td>\n",
       "      <td>9706.000000</td>\n",
       "      <td>106220.000000</td>\n",
       "      <td>902297.000000</td>\n",
       "    </tr>\n",
       "  </tbody>\n",
       "</table>\n",
       "<p>8 rows × 19 columns</p>\n",
       "</div>"
      ],
      "text/plain": [
       "             STATE__         COUNTY      BGN_RANGE  COUNTY_END  COUNTYENDN  \\\n",
       "count  902297.000000  902297.000000  902297.000000    902297.0         0.0   \n",
       "mean       31.200958     100.642905       1.483889         0.0         NaN   \n",
       "std        16.570178     107.276509       5.481574         0.0         NaN   \n",
       "min         1.000000       0.000000       0.000000         0.0         NaN   \n",
       "25%        19.000000      31.000000       0.000000         0.0         NaN   \n",
       "50%        30.000000      75.000000       0.000000         0.0         NaN   \n",
       "75%        45.000000     131.000000       1.000000         0.0         NaN   \n",
       "max        95.000000     873.000000    3749.000000         0.0         NaN   \n",
       "\n",
       "           ...             LATITUDE      LONGITUDE     LATITUDE_E  \\\n",
       "count      ...        902250.000000  902297.000000  902257.000000   \n",
       "mean       ...          2874.942950    6939.538350    1451.611545   \n",
       "std        ...          1657.648801    3958.062506    1858.727873   \n",
       "min        ...             0.000000  -14451.000000       0.000000   \n",
       "25%        ...                  NaN    7247.000000            NaN   \n",
       "50%        ...                  NaN    8707.000000            NaN   \n",
       "75%        ...                  NaN    9605.000000            NaN   \n",
       "max        ...          9706.000000   17124.000000    9706.000000   \n",
       "\n",
       "          LONGITUDE_         REFNUM  \n",
       "count  902297.000000  902297.000000  \n",
       "mean     3509.139732  451149.000000  \n",
       "std      4475.682973  260470.852256  \n",
       "min    -14455.000000       1.000000  \n",
       "25%         0.000000  225575.000000  \n",
       "50%         0.000000  451149.000000  \n",
       "75%      8735.000000  676723.000000  \n",
       "max    106220.000000  902297.000000  \n",
       "\n",
       "[8 rows x 19 columns]"
      ]
     },
     "execution_count": 49,
     "metadata": {},
     "output_type": "execute_result"
    }
   ],
   "source": [
    "df.describe()"
   ]
  },
  {
   "cell_type": "code",
   "execution_count": 50,
   "metadata": {
    "collapsed": false
   },
   "outputs": [
    {
     "data": {
      "text/plain": [
       "STATE__                           1\n",
       "BGN_DATE           1/1/1966 0:00:00\n",
       "BGN_TIME                          0\n",
       "TIME_ZONE                       ADT\n",
       "COUNTY                            0\n",
       "COUNTYNAME                      inf\n",
       "STATE                            AK\n",
       "EVTYPE           HIGH SURF ADVISORY\n",
       "BGN_RANGE                         0\n",
       "BGN_AZI                         inf\n",
       "                      ...          \n",
       "CROPDMGEXP                      inf\n",
       "WFO                             inf\n",
       "STATEOFFIC                      inf\n",
       "ZONENAMES                       inf\n",
       "LATITUDE                          0\n",
       "LONGITUDE                    -14451\n",
       "LATITUDE_E                        0\n",
       "LONGITUDE_                   -14455\n",
       "REMARKS                         inf\n",
       "REFNUM                            1\n",
       "dtype: object"
      ]
     },
     "execution_count": 50,
     "metadata": {},
     "output_type": "execute_result"
    }
   ],
   "source": [
    "df.min()"
   ]
  },
  {
   "cell_type": "code",
   "execution_count": 51,
   "metadata": {
    "collapsed": false
   },
   "outputs": [
    {
     "data": {
      "text/plain": [
       "(902297, 37)"
      ]
     },
     "execution_count": 51,
     "metadata": {},
     "output_type": "execute_result"
    }
   ],
   "source": [
    "df.shape"
   ]
  },
  {
   "cell_type": "code",
   "execution_count": 53,
   "metadata": {
    "collapsed": false
   },
   "outputs": [
    {
     "data": {
      "text/plain": [
       "(0, 37)"
      ]
     },
     "execution_count": 53,
     "metadata": {},
     "output_type": "execute_result"
    }
   ],
   "source": [
    "df.dropna().shape"
   ]
  },
  {
   "cell_type": "code",
   "execution_count": 54,
   "metadata": {
    "collapsed": false
   },
   "outputs": [
    {
     "data": {
      "text/plain": [
       "(902297, 20)"
      ]
     },
     "execution_count": 54,
     "metadata": {},
     "output_type": "execute_result"
    }
   ],
   "source": [
    "df.dropna(axis=1).shape"
   ]
  },
  {
   "cell_type": "code",
   "execution_count": 55,
   "metadata": {
    "collapsed": false
   },
   "outputs": [
    {
     "data": {
      "text/plain": [
       "Index([u'STATE__', u'BGN_DATE', u'BGN_TIME', u'TIME_ZONE', u'COUNTY', u'STATE',\n",
       "       u'EVTYPE', u'BGN_RANGE', u'COUNTY_END', u'END_RANGE', u'LENGTH',\n",
       "       u'WIDTH', u'MAG', u'FATALITIES', u'INJURIES', u'PROPDMG', u'CROPDMG',\n",
       "       u'LONGITUDE', u'LONGITUDE_', u'REFNUM'],\n",
       "      dtype='object')"
      ]
     },
     "execution_count": 55,
     "metadata": {},
     "output_type": "execute_result"
    }
   ],
   "source": [
    "df.dropna(axis=1).columns"
   ]
  },
  {
   "cell_type": "code",
   "execution_count": 56,
   "metadata": {
    "collapsed": false
   },
   "outputs": [
    {
     "data": {
      "text/plain": [
       "0"
      ]
     },
     "execution_count": 56,
     "metadata": {},
     "output_type": "execute_result"
    }
   ],
   "source": [
    "df.duplicated().sum()"
   ]
  },
  {
   "cell_type": "code",
   "execution_count": 57,
   "metadata": {
    "collapsed": false
   },
   "outputs": [
    {
     "data": {
      "text/plain": [
       "0         False\n",
       "1         False\n",
       "2         False\n",
       "3         False\n",
       "4         False\n",
       "5         False\n",
       "6         False\n",
       "7         False\n",
       "8         False\n",
       "9         False\n",
       "          ...  \n",
       "902287    False\n",
       "902288    False\n",
       "902289    False\n",
       "902290    False\n",
       "902291    False\n",
       "902292    False\n",
       "902293    False\n",
       "902294    False\n",
       "902295    False\n",
       "902296    False\n",
       "dtype: bool"
      ]
     },
     "execution_count": 57,
     "metadata": {},
     "output_type": "execute_result"
    }
   ],
   "source": [
    "df.duplicated()"
   ]
  },
  {
   "cell_type": "code",
   "execution_count": 60,
   "metadata": {
    "collapsed": false
   },
   "outputs": [
    {
     "data": {
      "text/html": [
       "<div>\n",
       "<table border=\"1\" class=\"dataframe\">\n",
       "  <thead>\n",
       "    <tr style=\"text-align: right;\">\n",
       "      <th></th>\n",
       "      <th>STATE__</th>\n",
       "      <th>BGN_DATE</th>\n",
       "      <th>BGN_TIME</th>\n",
       "      <th>TIME_ZONE</th>\n",
       "      <th>COUNTY</th>\n",
       "      <th>...</th>\n",
       "      <th>LATITUDE</th>\n",
       "      <th>LONGITUDE</th>\n",
       "      <th>LATITUDE_E</th>\n",
       "      <th>LONGITUDE_</th>\n",
       "      <th>REMARKS</th>\n",
       "    </tr>\n",
       "    <tr>\n",
       "      <th>REFNUM</th>\n",
       "      <th></th>\n",
       "      <th></th>\n",
       "      <th></th>\n",
       "      <th></th>\n",
       "      <th></th>\n",
       "      <th></th>\n",
       "      <th></th>\n",
       "      <th></th>\n",
       "      <th></th>\n",
       "      <th></th>\n",
       "      <th></th>\n",
       "    </tr>\n",
       "  </thead>\n",
       "  <tbody>\n",
       "    <tr>\n",
       "      <th>19.0</th>\n",
       "      <td>1.0</td>\n",
       "      <td>5/10/1952 0:00:00</td>\n",
       "      <td>900</td>\n",
       "      <td>CST</td>\n",
       "      <td>57.0</td>\n",
       "      <td>...</td>\n",
       "      <td>3344.0</td>\n",
       "      <td>8745.0</td>\n",
       "      <td>0.0</td>\n",
       "      <td>0.0</td>\n",
       "      <td>NaN</td>\n",
       "    </tr>\n",
       "    <tr>\n",
       "      <th>20.0</th>\n",
       "      <td>1.0</td>\n",
       "      <td>5/10/1952 0:00:00</td>\n",
       "      <td>900</td>\n",
       "      <td>CST</td>\n",
       "      <td>57.0</td>\n",
       "      <td>...</td>\n",
       "      <td>3344.0</td>\n",
       "      <td>8745.0</td>\n",
       "      <td>0.0</td>\n",
       "      <td>0.0</td>\n",
       "      <td>NaN</td>\n",
       "    </tr>\n",
       "    <tr>\n",
       "      <th>260.0</th>\n",
       "      <td>1.0</td>\n",
       "      <td>7/4/1960 0:00:00</td>\n",
       "      <td>1750</td>\n",
       "      <td>CST</td>\n",
       "      <td>13.0</td>\n",
       "      <td>...</td>\n",
       "      <td>3139.0</td>\n",
       "      <td>8636.0</td>\n",
       "      <td>0.0</td>\n",
       "      <td>0.0</td>\n",
       "      <td>NaN</td>\n",
       "    </tr>\n",
       "    <tr>\n",
       "      <th>603.0</th>\n",
       "      <td>1.0</td>\n",
       "      <td>5/14/1967 0:00:00</td>\n",
       "      <td>2330</td>\n",
       "      <td>CST</td>\n",
       "      <td>77.0</td>\n",
       "      <td>...</td>\n",
       "      <td>3453.0</td>\n",
       "      <td>8730.0</td>\n",
       "      <td>0.0</td>\n",
       "      <td>0.0</td>\n",
       "      <td>NaN</td>\n",
       "    </tr>\n",
       "    <tr>\n",
       "      <th>604.0</th>\n",
       "      <td>1.0</td>\n",
       "      <td>5/14/1967 0:00:00</td>\n",
       "      <td>2330</td>\n",
       "      <td>CST</td>\n",
       "      <td>77.0</td>\n",
       "      <td>...</td>\n",
       "      <td>3453.0</td>\n",
       "      <td>8730.0</td>\n",
       "      <td>0.0</td>\n",
       "      <td>0.0</td>\n",
       "      <td>NaN</td>\n",
       "    </tr>\n",
       "    <tr>\n",
       "      <th>928.0</th>\n",
       "      <td>1.0</td>\n",
       "      <td>4/23/1971 0:00:00</td>\n",
       "      <td>1346</td>\n",
       "      <td>CST</td>\n",
       "      <td>81.0</td>\n",
       "      <td>...</td>\n",
       "      <td>3235.0</td>\n",
       "      <td>8530.0</td>\n",
       "      <td>0.0</td>\n",
       "      <td>0.0</td>\n",
       "      <td>NaN</td>\n",
       "    </tr>\n",
       "    <tr>\n",
       "      <th>1010.0</th>\n",
       "      <td>1.0</td>\n",
       "      <td>3/2/1972 0:00:00</td>\n",
       "      <td>1035</td>\n",
       "      <td>CST</td>\n",
       "      <td>45.0</td>\n",
       "      <td>...</td>\n",
       "      <td>3117.0</td>\n",
       "      <td>8541.0</td>\n",
       "      <td>0.0</td>\n",
       "      <td>0.0</td>\n",
       "      <td>NaN</td>\n",
       "    </tr>\n",
       "    <tr>\n",
       "      <th>1930.0</th>\n",
       "      <td>1.0</td>\n",
       "      <td>3/3/1979 0:00:00</td>\n",
       "      <td>1430</td>\n",
       "      <td>CST</td>\n",
       "      <td>73.0</td>\n",
       "      <td>...</td>\n",
       "      <td>3331.0</td>\n",
       "      <td>8649.0</td>\n",
       "      <td>0.0</td>\n",
       "      <td>0.0</td>\n",
       "      <td>NaN</td>\n",
       "    </tr>\n",
       "    <tr>\n",
       "      <th>5421.0</th>\n",
       "      <td>4.0</td>\n",
       "      <td>7/1/1958 0:00:00</td>\n",
       "      <td>1400</td>\n",
       "      <td>CST</td>\n",
       "      <td>21.0</td>\n",
       "      <td>...</td>\n",
       "      <td>3235.0</td>\n",
       "      <td>11118.0</td>\n",
       "      <td>0.0</td>\n",
       "      <td>0.0</td>\n",
       "      <td>NaN</td>\n",
       "    </tr>\n",
       "    <tr>\n",
       "      <th>5423.0</th>\n",
       "      <td>4.0</td>\n",
       "      <td>7/16/1958 0:00:00</td>\n",
       "      <td>1830</td>\n",
       "      <td>CST</td>\n",
       "      <td>21.0</td>\n",
       "      <td>...</td>\n",
       "      <td>3253.0</td>\n",
       "      <td>11148.0</td>\n",
       "      <td>0.0</td>\n",
       "      <td>0.0</td>\n",
       "      <td>NaN</td>\n",
       "    </tr>\n",
       "    <tr>\n",
       "      <th>...</th>\n",
       "      <td>...</td>\n",
       "      <td>...</td>\n",
       "      <td>...</td>\n",
       "      <td>...</td>\n",
       "      <td>...</td>\n",
       "      <td>...</td>\n",
       "      <td>...</td>\n",
       "      <td>...</td>\n",
       "      <td>...</td>\n",
       "      <td>...</td>\n",
       "      <td>...</td>\n",
       "    </tr>\n",
       "    <tr>\n",
       "      <th>900732.0</th>\n",
       "      <td>46.0</td>\n",
       "      <td>10/4/2011 0:00:00</td>\n",
       "      <td>01:00:00 PM</td>\n",
       "      <td>CST</td>\n",
       "      <td>50.0</td>\n",
       "      <td>...</td>\n",
       "      <td>0.0</td>\n",
       "      <td>0.0</td>\n",
       "      <td>0.0</td>\n",
       "      <td>0.0</td>\n",
       "      <td>EPISODE NARRATIVE: Several wildfires broke out...</td>\n",
       "    </tr>\n",
       "    <tr>\n",
       "      <th>900733.0</th>\n",
       "      <td>46.0</td>\n",
       "      <td>10/4/2011 0:00:00</td>\n",
       "      <td>02:00:00 PM</td>\n",
       "      <td>CST</td>\n",
       "      <td>63.0</td>\n",
       "      <td>...</td>\n",
       "      <td>0.0</td>\n",
       "      <td>0.0</td>\n",
       "      <td>0.0</td>\n",
       "      <td>0.0</td>\n",
       "      <td>EPISODE NARRATIVE: Several wildfires broke out...</td>\n",
       "    </tr>\n",
       "    <tr>\n",
       "      <th>900734.0</th>\n",
       "      <td>42.0</td>\n",
       "      <td>10/29/2011 0:00:00</td>\n",
       "      <td>09:00:00 AM</td>\n",
       "      <td>EST</td>\n",
       "      <td>72.0</td>\n",
       "      <td>...</td>\n",
       "      <td>0.0</td>\n",
       "      <td>0.0</td>\n",
       "      <td>0.0</td>\n",
       "      <td>0.0</td>\n",
       "      <td>EPISODE NARRATIVE: An early season winter stor...</td>\n",
       "    </tr>\n",
       "    <tr>\n",
       "      <th>900735.0</th>\n",
       "      <td>42.0</td>\n",
       "      <td>10/29/2011 0:00:00</td>\n",
       "      <td>08:00:00 AM</td>\n",
       "      <td>EST</td>\n",
       "      <td>47.0</td>\n",
       "      <td>...</td>\n",
       "      <td>0.0</td>\n",
       "      <td>0.0</td>\n",
       "      <td>0.0</td>\n",
       "      <td>0.0</td>\n",
       "      <td>EPISODE NARRATIVE: An early season winter stor...</td>\n",
       "    </tr>\n",
       "    <tr>\n",
       "      <th>900736.0</th>\n",
       "      <td>36.0</td>\n",
       "      <td>10/29/2011 0:00:00</td>\n",
       "      <td>10:00:00 AM</td>\n",
       "      <td>EST</td>\n",
       "      <td>62.0</td>\n",
       "      <td>...</td>\n",
       "      <td>0.0</td>\n",
       "      <td>0.0</td>\n",
       "      <td>0.0</td>\n",
       "      <td>0.0</td>\n",
       "      <td>EPISODE NARRATIVE: An early season winter stor...</td>\n",
       "    </tr>\n",
       "    <tr>\n",
       "      <th>900771.0</th>\n",
       "      <td>38.0</td>\n",
       "      <td>10/7/2011 0:00:00</td>\n",
       "      <td>03:00:00 PM</td>\n",
       "      <td>CST</td>\n",
       "      <td>7.0</td>\n",
       "      <td>...</td>\n",
       "      <td>0.0</td>\n",
       "      <td>0.0</td>\n",
       "      <td>0.0</td>\n",
       "      <td>0.0</td>\n",
       "      <td>EPISODE NARRATIVE: A strong early October low ...</td>\n",
       "    </tr>\n",
       "    <tr>\n",
       "      <th>900806.0</th>\n",
       "      <td>27.0</td>\n",
       "      <td>10/7/2011 0:00:00</td>\n",
       "      <td>04:00:00 PM</td>\n",
       "      <td>CST</td>\n",
       "      <td>1.0</td>\n",
       "      <td>...</td>\n",
       "      <td>0.0</td>\n",
       "      <td>0.0</td>\n",
       "      <td>0.0</td>\n",
       "      <td>0.0</td>\n",
       "      <td>EPISODE NARRATIVE: A strong early October low ...</td>\n",
       "    </tr>\n",
       "    <tr>\n",
       "      <th>900807.0</th>\n",
       "      <td>36.0</td>\n",
       "      <td>10/29/2011 0:00:00</td>\n",
       "      <td>01:00:00 PM</td>\n",
       "      <td>EST</td>\n",
       "      <td>57.0</td>\n",
       "      <td>...</td>\n",
       "      <td>0.0</td>\n",
       "      <td>0.0</td>\n",
       "      <td>0.0</td>\n",
       "      <td>0.0</td>\n",
       "      <td>EPISODE NARRATIVE: An early season winter stor...</td>\n",
       "    </tr>\n",
       "    <tr>\n",
       "      <th>900808.0</th>\n",
       "      <td>38.0</td>\n",
       "      <td>10/24/2011 0:00:00</td>\n",
       "      <td>03:03:00 PM</td>\n",
       "      <td>CST</td>\n",
       "      <td>7.0</td>\n",
       "      <td>...</td>\n",
       "      <td>0.0</td>\n",
       "      <td>0.0</td>\n",
       "      <td>0.0</td>\n",
       "      <td>0.0</td>\n",
       "      <td>EPISODE NARRATIVE: Seasonably warm and dry con...</td>\n",
       "    </tr>\n",
       "    <tr>\n",
       "      <th>900809.0</th>\n",
       "      <td>27.0</td>\n",
       "      <td>10/5/2011 0:00:00</td>\n",
       "      <td>03:00:00 PM</td>\n",
       "      <td>CST</td>\n",
       "      <td>5.0</td>\n",
       "      <td>...</td>\n",
       "      <td>0.0</td>\n",
       "      <td>0.0</td>\n",
       "      <td>0.0</td>\n",
       "      <td>0.0</td>\n",
       "      <td>EPISODE NARRATIVE: A wildfire originated in Ju...</td>\n",
       "    </tr>\n",
       "  </tbody>\n",
       "</table>\n",
       "<p>3143 rows × 36 columns</p>\n",
       "</div>"
      ],
      "text/plain": [
       "          STATE__            BGN_DATE     BGN_TIME TIME_ZONE  COUNTY  \\\n",
       "REFNUM                                                                 \n",
       "19.0          1.0   5/10/1952 0:00:00          900       CST    57.0   \n",
       "20.0          1.0   5/10/1952 0:00:00          900       CST    57.0   \n",
       "260.0         1.0    7/4/1960 0:00:00         1750       CST    13.0   \n",
       "603.0         1.0   5/14/1967 0:00:00         2330       CST    77.0   \n",
       "604.0         1.0   5/14/1967 0:00:00         2330       CST    77.0   \n",
       "928.0         1.0   4/23/1971 0:00:00         1346       CST    81.0   \n",
       "1010.0        1.0    3/2/1972 0:00:00         1035       CST    45.0   \n",
       "1930.0        1.0    3/3/1979 0:00:00         1430       CST    73.0   \n",
       "5421.0        4.0    7/1/1958 0:00:00         1400       CST    21.0   \n",
       "5423.0        4.0   7/16/1958 0:00:00         1830       CST    21.0   \n",
       "...           ...                 ...          ...       ...     ...   \n",
       "900732.0     46.0   10/4/2011 0:00:00  01:00:00 PM       CST    50.0   \n",
       "900733.0     46.0   10/4/2011 0:00:00  02:00:00 PM       CST    63.0   \n",
       "900734.0     42.0  10/29/2011 0:00:00  09:00:00 AM       EST    72.0   \n",
       "900735.0     42.0  10/29/2011 0:00:00  08:00:00 AM       EST    47.0   \n",
       "900736.0     36.0  10/29/2011 0:00:00  10:00:00 AM       EST    62.0   \n",
       "900771.0     38.0   10/7/2011 0:00:00  03:00:00 PM       CST     7.0   \n",
       "900806.0     27.0   10/7/2011 0:00:00  04:00:00 PM       CST     1.0   \n",
       "900807.0     36.0  10/29/2011 0:00:00  01:00:00 PM       EST    57.0   \n",
       "900808.0     38.0  10/24/2011 0:00:00  03:03:00 PM       CST     7.0   \n",
       "900809.0     27.0   10/5/2011 0:00:00  03:00:00 PM       CST     5.0   \n",
       "\n",
       "                                ...                         LATITUDE  \\\n",
       "REFNUM                          ...                                    \n",
       "19.0                            ...                           3344.0   \n",
       "20.0                            ...                           3344.0   \n",
       "260.0                           ...                           3139.0   \n",
       "603.0                           ...                           3453.0   \n",
       "604.0                           ...                           3453.0   \n",
       "928.0                           ...                           3235.0   \n",
       "1010.0                          ...                           3117.0   \n",
       "1930.0                          ...                           3331.0   \n",
       "5421.0                          ...                           3235.0   \n",
       "5423.0                          ...                           3253.0   \n",
       "...                             ...                              ...   \n",
       "900732.0                        ...                              0.0   \n",
       "900733.0                        ...                              0.0   \n",
       "900734.0                        ...                              0.0   \n",
       "900735.0                        ...                              0.0   \n",
       "900736.0                        ...                              0.0   \n",
       "900771.0                        ...                              0.0   \n",
       "900806.0                        ...                              0.0   \n",
       "900807.0                        ...                              0.0   \n",
       "900808.0                        ...                              0.0   \n",
       "900809.0                        ...                              0.0   \n",
       "\n",
       "         LONGITUDE LATITUDE_E  LONGITUDE_  \\\n",
       "REFNUM                                      \n",
       "19.0        8745.0        0.0         0.0   \n",
       "20.0        8745.0        0.0         0.0   \n",
       "260.0       8636.0        0.0         0.0   \n",
       "603.0       8730.0        0.0         0.0   \n",
       "604.0       8730.0        0.0         0.0   \n",
       "928.0       8530.0        0.0         0.0   \n",
       "1010.0      8541.0        0.0         0.0   \n",
       "1930.0      8649.0        0.0         0.0   \n",
       "5421.0     11118.0        0.0         0.0   \n",
       "5423.0     11148.0        0.0         0.0   \n",
       "...            ...        ...         ...   \n",
       "900732.0       0.0        0.0         0.0   \n",
       "900733.0       0.0        0.0         0.0   \n",
       "900734.0       0.0        0.0         0.0   \n",
       "900735.0       0.0        0.0         0.0   \n",
       "900736.0       0.0        0.0         0.0   \n",
       "900771.0       0.0        0.0         0.0   \n",
       "900806.0       0.0        0.0         0.0   \n",
       "900807.0       0.0        0.0         0.0   \n",
       "900808.0       0.0        0.0         0.0   \n",
       "900809.0       0.0        0.0         0.0   \n",
       "\n",
       "                                                    REMARKS  \n",
       "REFNUM                                                       \n",
       "19.0                                                    NaN  \n",
       "20.0                                                    NaN  \n",
       "260.0                                                   NaN  \n",
       "603.0                                                   NaN  \n",
       "604.0                                                   NaN  \n",
       "928.0                                                   NaN  \n",
       "1010.0                                                  NaN  \n",
       "1930.0                                                  NaN  \n",
       "5421.0                                                  NaN  \n",
       "5423.0                                                  NaN  \n",
       "...                                                     ...  \n",
       "900732.0  EPISODE NARRATIVE: Several wildfires broke out...  \n",
       "900733.0  EPISODE NARRATIVE: Several wildfires broke out...  \n",
       "900734.0  EPISODE NARRATIVE: An early season winter stor...  \n",
       "900735.0  EPISODE NARRATIVE: An early season winter stor...  \n",
       "900736.0  EPISODE NARRATIVE: An early season winter stor...  \n",
       "900771.0  EPISODE NARRATIVE: A strong early October low ...  \n",
       "900806.0  EPISODE NARRATIVE: A strong early October low ...  \n",
       "900807.0  EPISODE NARRATIVE: An early season winter stor...  \n",
       "900808.0  EPISODE NARRATIVE: Seasonably warm and dry con...  \n",
       "900809.0  EPISODE NARRATIVE: A wildfire originated in Ju...  \n",
       "\n",
       "[3143 rows x 36 columns]"
      ]
     },
     "execution_count": 60,
     "metadata": {},
     "output_type": "execute_result"
    }
   ],
   "source": [
    "df[df.duplicated()] #lists sums of duplicate rows!"
   ]
  },
  {
   "cell_type": "code",
   "execution_count": 65,
   "metadata": {
    "collapsed": false
   },
   "outputs": [
    {
     "data": {
      "text/plain": [
       "985"
      ]
     },
     "execution_count": 65,
     "metadata": {},
     "output_type": "execute_result"
    }
   ],
   "source": [
    "len(df.EVTYPE.unique())"
   ]
  },
  {
   "cell_type": "code",
   "execution_count": 69,
   "metadata": {
    "collapsed": false
   },
   "outputs": [
    {
     "data": {
      "text/plain": [
       "REFNUM\n",
       "1.0         0.0\n",
       "2.0         0.0\n",
       "3.0         0.0\n",
       "4.0         0.0\n",
       "5.0         0.0\n",
       "6.0         0.0\n",
       "7.0         0.0\n",
       "8.0         0.0\n",
       "9.0         1.0\n",
       "10.0        0.0\n",
       "           ... \n",
       "902288.0    0.0\n",
       "902289.0    0.0\n",
       "902290.0    0.0\n",
       "902291.0    0.0\n",
       "902292.0    0.0\n",
       "902293.0    0.0\n",
       "902294.0    0.0\n",
       "902295.0    0.0\n",
       "902296.0    0.0\n",
       "902297.0    0.0\n",
       "Name: FATALITIES, dtype: float64"
      ]
     },
     "execution_count": 69,
     "metadata": {},
     "output_type": "execute_result"
    }
   ],
   "source": [
    "df['FATALITIES']"
   ]
  },
  {
   "cell_type": "code",
   "execution_count": 71,
   "metadata": {
    "collapsed": false
   },
   "outputs": [
    {
     "data": {
      "text/plain": [
       "(902297, 36)"
      ]
     },
     "execution_count": 71,
     "metadata": {},
     "output_type": "execute_result"
    }
   ],
   "source": [
    "df.shape"
   ]
  },
  {
   "cell_type": "code",
   "execution_count": 72,
   "metadata": {
    "collapsed": false
   },
   "outputs": [
    {
     "data": {
      "text/plain": [
       "Index([u'STATE__', u'BGN_DATE', u'BGN_TIME', u'TIME_ZONE', u'COUNTY',\n",
       "       u'COUNTYNAME', u'STATE', u'EVTYPE', u'BGN_RANGE', u'BGN_AZI',\n",
       "       u'BGN_LOCATI', u'END_DATE', u'END_TIME', u'COUNTY_END', u'COUNTYENDN',\n",
       "       u'END_RANGE', u'END_AZI', u'END_LOCATI', u'LENGTH', u'WIDTH', u'F',\n",
       "       u'MAG', u'FATALITIES', u'INJURIES', u'PROPDMG', u'PROPDMGEXP',\n",
       "       u'CROPDMG', u'CROPDMGEXP', u'WFO', u'STATEOFFIC', u'ZONENAMES',\n",
       "       u'LATITUDE', u'LONGITUDE', u'LATITUDE_E', u'LONGITUDE_', u'REMARKS'],\n",
       "      dtype='object')"
      ]
     },
     "execution_count": 72,
     "metadata": {},
     "output_type": "execute_result"
    }
   ],
   "source": [
    "df.columns"
   ]
  },
  {
   "cell_type": "code",
   "execution_count": 75,
   "metadata": {
    "collapsed": false
   },
   "outputs": [
    {
     "data": {
      "text/plain": [
       "465934"
      ]
     },
     "execution_count": 75,
     "metadata": {},
     "output_type": "execute_result"
    }
   ],
   "source": [
    "df.PROPDMGEXP.isnull().sum()"
   ]
  },
  {
   "cell_type": "code",
   "execution_count": 76,
   "metadata": {
    "collapsed": false
   },
   "outputs": [
    {
     "data": {
      "text/plain": [
       "0"
      ]
     },
     "execution_count": 76,
     "metadata": {},
     "output_type": "execute_result"
    }
   ],
   "source": [
    "df.PROPDMG.isnull().sum()"
   ]
  },
  {
   "cell_type": "code",
   "execution_count": 77,
   "metadata": {
    "collapsed": false
   },
   "outputs": [
    {
     "data": {
      "text/plain": [
       "REFNUM\n",
       "1.0         True\n",
       "2.0         True\n",
       "3.0         True\n",
       "4.0         True\n",
       "5.0         True\n",
       "6.0         True\n",
       "7.0         True\n",
       "8.0         True\n",
       "9.0         True\n",
       "10.0        True\n",
       "            ... \n",
       "902288.0    True\n",
       "902289.0    True\n",
       "902290.0    True\n",
       "902291.0    True\n",
       "902292.0    True\n",
       "902293.0    True\n",
       "902294.0    True\n",
       "902295.0    True\n",
       "902296.0    True\n",
       "902297.0    True\n",
       "Name: PROPDMGEXP, dtype: bool"
      ]
     },
     "execution_count": 77,
     "metadata": {},
     "output_type": "execute_result"
    }
   ],
   "source": [
    "df.PROPDMGEXP.notnull()"
   ]
  },
  {
   "cell_type": "code",
   "execution_count": null,
   "metadata": {
    "collapsed": true
   },
   "outputs": [],
   "source": []
  },
  {
   "cell_type": "code",
   "execution_count": 80,
   "metadata": {
    "collapsed": true
   },
   "outputs": [],
   "source": [
    "df = df[(df.FATALITIES > 0) | (df.INJURIES > 0) | df.PROPDMGEXP.notnull() | df.CROPDMGEXP.notnull()]"
   ]
  },
  {
   "cell_type": "code",
   "execution_count": 82,
   "metadata": {
    "collapsed": false
   },
   "outputs": [
    {
     "data": {
      "text/plain": [
       "491"
      ]
     },
     "execution_count": 82,
     "metadata": {},
     "output_type": "execute_result"
    }
   ],
   "source": [
    "len(df.EVTYPE.unique())"
   ]
  },
  {
   "cell_type": "code",
   "execution_count": 83,
   "metadata": {
    "collapsed": false
   },
   "outputs": [
    {
     "data": {
      "text/plain": [
       "REFNUM\n",
       "448421.0       HIGH SURF ADVISORY\n",
       "408333.0              FLASH FLOOD\n",
       "354932.0                TSTM WIND\n",
       "384744.0                TSTM WIND\n",
       "313985.0          TSTM WIND (G45)\n",
       "246124.0                        ?\n",
       "307701.0      AGRICULTURAL FREEZE\n",
       "308305.0      AGRICULTURAL FREEZE\n",
       "291296.0      AGRICULTURAL FREEZE\n",
       "189191.0            APACHE COUNTY\n",
       "                    ...          \n",
       "332413.0               WINTRY MIX\n",
       "370767.0               WINTRY MIX\n",
       "265205.0                Whirlwind\n",
       "265200.0                Whirlwind\n",
       "279604.0                     Wind\n",
       "278304.0              Wind Damage\n",
       "256479.0               Wintry Mix\n",
       "298038.0             blowing snow\n",
       "304025.0            gradient wind\n",
       "304040.0            gradient wind\n",
       "Name: EVTYPE, dtype: object"
      ]
     },
     "execution_count": 83,
     "metadata": {},
     "output_type": "execute_result"
    }
   ],
   "source": [
    "df.EVTYPE.sort_values()"
   ]
  },
  {
   "cell_type": "code",
   "execution_count": 84,
   "metadata": {
    "collapsed": false
   },
   "outputs": [
    {
     "data": {
      "text/plain": [
       "247"
      ]
     },
     "execution_count": 84,
     "metadata": {},
     "output_type": "execute_result"
    }
   ],
   "source": [
    "(df.EVTYPE.value_counts() == 1).sum()"
   ]
  },
  {
   "cell_type": "code",
   "execution_count": 86,
   "metadata": {
    "collapsed": true
   },
   "outputs": [],
   "source": [
    "df[ 'EVTYPE'] = df.EVTYPE.apply(lambda type: type.strip().upper())"
   ]
  },
  {
   "cell_type": "code",
   "execution_count": 87,
   "metadata": {
    "collapsed": false
   },
   "outputs": [
    {
     "data": {
      "text/plain": [
       "447"
      ]
     },
     "execution_count": 87,
     "metadata": {},
     "output_type": "execute_result"
    }
   ],
   "source": [
    "len(df.EVTYPE.unique())"
   ]
  },
  {
   "cell_type": "code",
   "execution_count": 88,
   "metadata": {
    "collapsed": false
   },
   "outputs": [
    {
     "data": {
      "text/plain": [
       "224"
      ]
     },
     "execution_count": 88,
     "metadata": {},
     "output_type": "execute_result"
    }
   ],
   "source": [
    "(df.EVTYPE.value_counts() ==1).sum()"
   ]
  },
  {
   "cell_type": "code",
   "execution_count": 89,
   "metadata": {
    "collapsed": true
   },
   "outputs": [],
   "source": [
    "official_event_types = [\n",
    "   'Astronomical Low Tide', 'Avalanche',\n",
    "   'Blizzard', 'Coastal Flood', 'Cold/Wind Chill', 'Debris Flow',\n",
    "   'Dense Fog', 'Dense Smoke', 'Drought', 'Dust Devil', 'Dust Storm',\n",
    "   'Excessive Heat', 'Extreme Cold/Wind Chill', 'Flash Flood', 'Flood',\n",
    "   'Frost/Freeze', 'Funnel Cloud', 'Freezing Fog', 'Hail', 'Heat',\n",
    "   'Heavy Rain', 'Heavy Snow', 'High Surf', 'High Wind',\n",
    "   'Hurricane (Typhoon)', 'Ice Storm', 'Lake-Effect Snow',\n",
    "   'Lakeshore Flood', 'Lightning', 'Marine Hail', 'Marine High Wind',\n",
    "   'Marine Strong Wind', 'Marine Thunderstorm Wind', 'Rip Current',\n",
    "   'Seiche', 'Sleet', 'Storm Surge/Tide', 'Strong Wind',\n",
    "   'Thunderstorm Wind', 'Tornado', 'Tropical Depression',\n",
    "   'Tropical Storm', 'Tsunami', 'Volcanic Ash', 'Waterspout', 'Wildfire',\n",
    "   'Winter Storm', 'Winter Weather',\n",
    "\n",
    "   # We are also adding 'OTHER'...\n",
    "   'OTHER'\n",
    "]\n",
    "\n",
    "official_event_types = map(lambda type: type.upper(), official_event_types)"
   ]
  },
  {
   "cell_type": "code",
   "execution_count": 90,
   "metadata": {
    "collapsed": false
   },
   "outputs": [
    {
     "data": {
      "text/plain": [
       "['ASTRONOMICAL LOW TIDE',\n",
       " 'AVALANCHE',\n",
       " 'BLIZZARD',\n",
       " 'COASTAL FLOOD',\n",
       " 'COLD/WIND CHILL',\n",
       " 'DEBRIS FLOW',\n",
       " 'DENSE FOG',\n",
       " 'DENSE SMOKE',\n",
       " 'DROUGHT',\n",
       " 'DUST DEVIL',\n",
       " 'DUST STORM',\n",
       " 'EXCESSIVE HEAT',\n",
       " 'EXTREME COLD/WIND CHILL',\n",
       " 'FLASH FLOOD',\n",
       " 'FLOOD',\n",
       " 'FROST/FREEZE',\n",
       " 'FUNNEL CLOUD',\n",
       " 'FREEZING FOG',\n",
       " 'HAIL',\n",
       " 'HEAT',\n",
       " 'HEAVY RAIN',\n",
       " 'HEAVY SNOW',\n",
       " 'HIGH SURF',\n",
       " 'HIGH WIND',\n",
       " 'HURRICANE (TYPHOON)',\n",
       " 'ICE STORM',\n",
       " 'LAKE-EFFECT SNOW',\n",
       " 'LAKESHORE FLOOD',\n",
       " 'LIGHTNING',\n",
       " 'MARINE HAIL',\n",
       " 'MARINE HIGH WIND',\n",
       " 'MARINE STRONG WIND',\n",
       " 'MARINE THUNDERSTORM WIND',\n",
       " 'RIP CURRENT',\n",
       " 'SEICHE',\n",
       " 'SLEET',\n",
       " 'STORM SURGE/TIDE',\n",
       " 'STRONG WIND',\n",
       " 'THUNDERSTORM WIND',\n",
       " 'TORNADO',\n",
       " 'TROPICAL DEPRESSION',\n",
       " 'TROPICAL STORM',\n",
       " 'TSUNAMI',\n",
       " 'VOLCANIC ASH',\n",
       " 'WATERSPOUT',\n",
       " 'WILDFIRE',\n",
       " 'WINTER STORM',\n",
       " 'WINTER WEATHER',\n",
       " 'OTHER']"
      ]
     },
     "execution_count": 90,
     "metadata": {},
     "output_type": "execute_result"
    }
   ],
   "source": [
    "official_event_types"
   ]
  },
  {
   "cell_type": "code",
   "execution_count": 105,
   "metadata": {
    "collapsed": true
   },
   "outputs": [],
   "source": [
    "subset_df = df[df.EVTYPE.isin(official_event_types)]"
   ]
  },
  {
   "cell_type": "code",
   "execution_count": 106,
   "metadata": {
    "collapsed": false
   },
   "outputs": [
    {
     "data": {
      "text/plain": [
       "0.8114550053693942"
      ]
     },
     "execution_count": 106,
     "metadata": {},
     "output_type": "execute_result"
    }
   ],
   "source": [
    "1. * df.EVTYPE.isin(official_event_types).sum() / len(df) #Added . after 1, went up from 0 to 0.811, why?"
   ]
  },
  {
   "cell_type": "code",
   "execution_count": 109,
   "metadata": {
    "collapsed": false
   },
   "outputs": [
    {
     "name": "stderr",
     "output_type": "stream",
     "text": [
      "/anaconda/lib/python2.7/site-packages/ipykernel/__main__.py:1: DeprecationWarning: numpy boolean negative, the `-` operator, is deprecated, use the `~` operator or the logical_not function instead.\n",
      "  if __name__ == '__main__':\n"
     ]
    }
   ],
   "source": [
    "todo_df = df[-df.index.isin(subset_df.index) ]"
   ]
  },
  {
   "cell_type": "code",
   "execution_count": 110,
   "metadata": {
    "collapsed": false
   },
   "outputs": [
    {
     "data": {
      "text/plain": [
       "TSTM WIND                         65591\n",
       "THUNDERSTORM WINDS                12080\n",
       "URBAN/SML STREAM FLD                754\n",
       "HIGH WINDS                          656\n",
       "TSTM WIND/HAIL                      447\n",
       "LANDSLIDE                           412\n",
       "WILD/FOREST FIRE                    389\n",
       "FLASH FLOODING                      303\n",
       "EXTREME COLD                        284\n",
       "FLOOD/FLASH FLOOD                   279\n",
       "                                  ...  \n",
       "LIGNTNING                             1\n",
       "LANDSLUMP                             1\n",
       "THUNDERSNOW                           1\n",
       "TSTM WIND DAMAGE                      1\n",
       "FLASH FLOODING/THUNDERSTORM WI        1\n",
       "ROGUE WAVE                            1\n",
       "MUD SLIDES                            1\n",
       "COASTAL SURGE                         1\n",
       "LIGHTNING INJURY                      1\n",
       "TUNDERSTORM WIND                      1\n",
       "Name: EVTYPE, dtype: int64"
      ]
     },
     "execution_count": 110,
     "metadata": {},
     "output_type": "execute_result"
    }
   ],
   "source": [
    "todo_df.EVTYPE.value_counts()"
   ]
  },
  {
   "cell_type": "code",
   "execution_count": 115,
   "metadata": {
    "collapsed": true
   },
   "outputs": [],
   "source": [
    "unrecognized_event_types_to_recognized_event_types = {\n",
    "   'COLD': 'COLD/WIND CHILL',\n",
    "   'COLD AND SNOW': 'COLD/WIND CHILL',\n",
    "   'COLD WEATHER': 'COLD/WIND CHILL',\n",
    "   'EXTREME COLD': 'EXTREME COLD/WIND CHILL',\n",
    "   'EXTREME HEAT': 'EXCESSIVE HEAT',\n",
    "   'EXTREME WINDCHILL': 'EXTREME COLD/WIND CHILL',\n",
    "   'FLASH FLOOD/FLOOD': 'FLASH FLOOD',\n",
    "   'FLASH FLOODING': 'FLASH FLOOD',\n",
    "   'FLASH FLOODING/FLOOD': 'FLASH FLOOD',\n",
    "   'FLOOD/FLASH FLOOD': 'FLASH FLOOD',\n",
    "   'FLOODING': 'FLOOD',\n",
    "   'FOG': 'DENSE FOG',\n",
    "   'FREEZE': 'FROST/FREEZE',\n",
    "   'FREEZING RAIN': 'HEAVY RAIN',\n",
    "   'GLAZE': 'OTHER',\n",
    "   'HEAT WAVE': 'HEAT',\n",
    "   'HEAT WAVES': 'HEAT',\n",
    "   'HEAVY RAIN/SEVERE WEATHER': 'HEAVY RAIN',\n",
    "   'HEAVY SURF': 'HIGH SURF',\n",
    "   'HEAVY SURF/HIGH SURF': 'HIGH SURF',\n",
    "   'HIGH SEAS': 'OTHER',\n",
    "   'HIGH WINDS': 'HIGH WIND',\n",
    "   'HURRICANE': 'HURRICANE (TYPHOON)',\n",
    "   'HURRICANE ERIN': 'HURRICANE (TYPHOON)',\n",
    "   'HURRICANE OPAL': 'HURRICANE (TYPHOON)',\n",
    "   'HURRICANE/TYPHOON': 'HURRICANE (TYPHOON)',\n",
    "   'HYPOTHERMIA/EXPOSURE': 'OTHER',\n",
    "   'ICE': 'ICE STORM',\n",
    "   'ICY ROADS': 'OTHER',\n",
    "   'LANDSLIDE': 'OTHER',\n",
    "   'LOW TEMPERATURE': 'COLD/WIND CHILL',\n",
    "   'MARINE MISHAP': 'MARINE HAIL',\n",
    "   'MARINE TSTM WIND': 'MARINE THUNDERSTORM WIND RIP CURRENT',\n",
    "   'RECORD/EXCESSIVE HEAT': 'EXCESSIVE HEAT',\n",
    "   'RIP CURRENTS': 'MARINE THUNDERSTORM WIND RIP CURRENT',\n",
    "   'RIVER FLOOD': 'FLOOD',\n",
    "   'ROUGH SEAS': 'MARINE STRONG WIND',\n",
    "   'SEVERE THUNDERSTORM': 'THUNDERSTORM WIND',\n",
    "   'STORM SURGE': 'STORM SURGE/TIDE',\n",
    "   'STRONG WINDS': 'STRONG WIND',\n",
    "   'THUNDERSTORM WINDS': 'THUNDERSTORM WIND',\n",
    "   'TORNADOES, TSTM WIND, HAIL': 'TORNADO',\n",
    "   'TROPICAL STORM GORDON': 'TROPICAL STORM',\n",
    "   'TSTM WIND': 'THUNDERSTORM WIND',\n",
    "   'TSTM WIND/HAIL': 'THUNDERSTORM WIND',\n",
    "   'TYPHOON': 'HURRICANE (TYPHOON)',\n",
    "   'UNSEASONABLY WARM': 'OTHER',\n",
    "   'UNSEASONABLY WARM AND DRY': 'OTHER',\n",
    "   'URBAN/SML STREAM FLD': 'FLOOD',\n",
    "   'WILD FIRES': 'WILDFIRE',\n",
    "   'WILD/FOREST FIRE': 'WILDFIRE',\n",
    "   'WIND': 'HIGH WIND',\n",
    "   'WINTER STORMS': 'WINTER STORM',\n",
    "   'WINTER WEATHER/MIX': 'WINTER WEATHER'\n",
    "}"
   ]
  },
  {
   "cell_type": "code",
   "execution_count": 116,
   "metadata": {
    "collapsed": true
   },
   "outputs": [],
   "source": [
    "def event_type(event_type):\n",
    "   if event_type in official_event_types:\n",
    "       return event_type\n",
    "\n",
    "   if event_type in unrecognized_event_types_to_recognized_event_types:\n",
    "       return unrecognized_event_types_to_recognized_event_types[event_type]\n",
    "\n",
    "   return event_type"
   ]
  },
  {
   "cell_type": "code",
   "execution_count": 117,
   "metadata": {
    "collapsed": false
   },
   "outputs": [],
   "source": [
    "#df['EVTYPE'] = df.EVTYPE.apply(event_type)"
   ]
  },
  {
   "cell_type": "code",
   "execution_count": 118,
   "metadata": {
    "collapsed": false
   },
   "outputs": [
    {
     "data": {
      "text/plain": [
       "REFNUM\n",
       "1.0                TORNADO\n",
       "2.0                TORNADO\n",
       "3.0                TORNADO\n",
       "4.0                TORNADO\n",
       "5.0                TORNADO\n",
       "6.0                TORNADO\n",
       "7.0                TORNADO\n",
       "8.0                TORNADO\n",
       "9.0                TORNADO\n",
       "10.0               TORNADO\n",
       "                 ...      \n",
       "902288.0    WINTER WEATHER\n",
       "902289.0      FROST/FREEZE\n",
       "902290.0         HIGH WIND\n",
       "902291.0    WINTER WEATHER\n",
       "902292.0    WINTER WEATHER\n",
       "902293.0         HIGH WIND\n",
       "902294.0         HIGH WIND\n",
       "902295.0         HIGH WIND\n",
       "902296.0          BLIZZARD\n",
       "902297.0        HEAVY SNOW\n",
       "Name: EVTYPE, dtype: object"
      ]
     },
     "execution_count": 118,
     "metadata": {},
     "output_type": "execute_result"
    }
   ],
   "source": [
    "df.EVTYPE.apply(event_type)"
   ]
  },
  {
   "cell_type": "code",
   "execution_count": 120,
   "metadata": {
    "collapsed": false
   },
   "outputs": [
    {
     "data": {
      "text/plain": [
       "0.995746903947007"
      ]
     },
     "execution_count": 120,
     "metadata": {},
     "output_type": "execute_result"
    }
   ],
   "source": [
    "1. * df.EVTYPE.isin(official_event_types).sum() / len(df)"
   ]
  },
  {
   "cell_type": "code",
   "execution_count": 122,
   "metadata": {
    "collapsed": false
   },
   "outputs": [
    {
     "data": {
      "text/plain": [
       "Index([u'STATE__', u'BGN_DATE', u'BGN_TIME', u'TIME_ZONE', u'COUNTY',\n",
       "       u'COUNTYNAME', u'STATE', u'EVTYPE', u'BGN_RANGE', u'BGN_AZI',\n",
       "       u'BGN_LOCATI', u'END_DATE', u'END_TIME', u'COUNTY_END', u'COUNTYENDN',\n",
       "       u'END_RANGE', u'END_AZI', u'END_LOCATI', u'LENGTH', u'WIDTH', u'F',\n",
       "       u'MAG', u'FATALITIES', u'INJURIES', u'PROPDMG', u'PROPDMGEXP',\n",
       "       u'CROPDMG', u'CROPDMGEXP', u'WFO', u'STATEOFFIC', u'ZONENAMES',\n",
       "       u'LATITUDE', u'LONGITUDE', u'LATITUDE_E', u'LONGITUDE_', u'REMARKS'],\n",
       "      dtype='object')"
      ]
     },
     "execution_count": 122,
     "metadata": {},
     "output_type": "execute_result"
    }
   ],
   "source": [
    "df.columns"
   ]
  },
  {
   "cell_type": "code",
   "execution_count": 123,
   "metadata": {
    "collapsed": false
   },
   "outputs": [
    {
     "data": {
      "text/plain": [
       "0"
      ]
     },
     "execution_count": 123,
     "metadata": {},
     "output_type": "execute_result"
    }
   ],
   "source": [
    "df.FATALITIES.isnull().sum()"
   ]
  },
  {
   "cell_type": "code",
   "execution_count": 124,
   "metadata": {
    "collapsed": false
   },
   "outputs": [
    {
     "data": {
      "text/plain": [
       "0"
      ]
     },
     "execution_count": 124,
     "metadata": {},
     "output_type": "execute_result"
    }
   ],
   "source": [
    "df.INJURIES.isnull().sum()"
   ]
  },
  {
   "cell_type": "code",
   "execution_count": 125,
   "metadata": {
    "collapsed": false
   },
   "outputs": [
    {
     "data": {
      "text/plain": [
       "0"
      ]
     },
     "execution_count": 125,
     "metadata": {},
     "output_type": "execute_result"
    }
   ],
   "source": [
    "df.PROPDMG.isnull().sum()"
   ]
  },
  {
   "cell_type": "code",
   "execution_count": 127,
   "metadata": {
    "collapsed": false
   },
   "outputs": [
    {
     "data": {
      "text/plain": [
       "10884075.00999954"
      ]
     },
     "execution_count": 127,
     "metadata": {},
     "output_type": "execute_result"
    }
   ],
   "source": [
    "df.PROPDMG.sum()"
   ]
  },
  {
   "cell_type": "code",
   "execution_count": 128,
   "metadata": {
    "collapsed": false
   },
   "outputs": [
    {
     "data": {
      "text/plain": [
       "array(['K', 'M', nan, 'B', 'm', '+', '0', '5', '6', '?', '4', '2', '3',\n",
       "       'h', '7', 'H', '-', '1', '8'], dtype=object)"
      ]
     },
     "execution_count": 128,
     "metadata": {},
     "output_type": "execute_result"
    }
   ],
   "source": [
    "df.PROPDMGEXP.unique()"
   ]
  },
  {
   "cell_type": "code",
   "execution_count": 131,
   "metadata": {
    "collapsed": false
   },
   "outputs": [
    {
     "data": {
      "text/plain": [
       "8"
      ]
     },
     "execution_count": 131,
     "metadata": {},
     "output_type": "execute_result"
    }
   ],
   "source": [
    "(df.PROPDMGEXP == '?').sum()"
   ]
  },
  {
   "cell_type": "code",
   "execution_count": 136,
   "metadata": {
    "collapsed": false
   },
   "outputs": [],
   "source": [
    "exponent_to_multiplier = {np.nan: np.nan, '+': np.nan, '-': np.nan, '?': np.nan,\n",
    "   '0': 10 ** 0,\n",
    "   '1': 10 ** 1,\n",
    "   '2': 10 ** 2, 'H': 10 ** 2, 'h': 10 ** 2,\n",
    "   '3': 10 ** 3,'K': 10 ** 3,'k': 10 ** 3,\n",
    "   '4': 10 ** 4,\n",
    "   '5': 10 ** 5,\n",
    "   '6': 10 ** 6, 'M': 10 ** 6, 'm': 10 ** 6,\n",
    "   '7': 10 ** 7,\n",
    "   '8': 10 ** 8,\n",
    "   'B': 10 ** 9}"
   ]
  },
  {
   "cell_type": "code",
   "execution_count": 137,
   "metadata": {
    "collapsed": true
   },
   "outputs": [],
   "source": [
    "df.PROPDMG = df.PROPDMG = df.PROPDMGEXP.map(exponent_to_multiplier)"
   ]
  },
  {
   "cell_type": "code",
   "execution_count": 138,
   "metadata": {
    "collapsed": true
   },
   "outputs": [],
   "source": [
    "import numpy as np"
   ]
  },
  {
   "cell_type": "code",
   "execution_count": null,
   "metadata": {
    "collapsed": true
   },
   "outputs": [],
   "source": []
  },
  {
   "cell_type": "code",
   "execution_count": null,
   "metadata": {
    "collapsed": true
   },
   "outputs": [],
   "source": []
  },
  {
   "cell_type": "code",
   "execution_count": null,
   "metadata": {
    "collapsed": true
   },
   "outputs": [],
   "source": []
  },
  {
   "cell_type": "code",
   "execution_count": null,
   "metadata": {
    "collapsed": true
   },
   "outputs": [],
   "source": []
  },
  {
   "cell_type": "code",
   "execution_count": null,
   "metadata": {
    "collapsed": true
   },
   "outputs": [],
   "source": []
  },
  {
   "cell_type": "code",
   "execution_count": null,
   "metadata": {
    "collapsed": true
   },
   "outputs": [],
   "source": []
  },
  {
   "cell_type": "code",
   "execution_count": null,
   "metadata": {
    "collapsed": true
   },
   "outputs": [],
   "source": []
  },
  {
   "cell_type": "code",
   "execution_count": null,
   "metadata": {
    "collapsed": true
   },
   "outputs": [],
   "source": []
  }
 ],
 "metadata": {
  "anaconda-cloud": {},
  "kernelspec": {
   "display_name": "Python [Root]",
   "language": "python",
   "name": "Python [Root]"
  },
  "language_info": {
   "codemirror_mode": {
    "name": "ipython",
    "version": 2
   },
   "file_extension": ".py",
   "mimetype": "text/x-python",
   "name": "python",
   "nbconvert_exporter": "python",
   "pygments_lexer": "ipython2",
   "version": "2.7.12"
  }
 },
 "nbformat": 4,
 "nbformat_minor": 0
}
