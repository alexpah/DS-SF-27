{
 "cells": [
  {
   "cell_type": "code",
   "execution_count": 140,
   "metadata": {
    "collapsed": false
   },
   "outputs": [],
   "source": [
    "import os\n",
    "import pandas as pd\n",
    "import matplotlib.pyplot as plt\n",
    "import seaborn as sns\n",
    "import statsmodels.api as sm\n",
    "\n",
    "pd.set_option('display.max_rows', 10)\n",
    "pd.set_option('display.max_columns', 10)\n",
    "pd.set_option('display.notebook_repr_html', True)\n",
    "\n",
    "from statsmodels.tsa import arima_model\n",
    "\n",
    "from sklearn import preprocessing, neighbors, grid_search, cross_validation\n",
    "from sklearn import metrics\n",
    "\n",
    "%matplotlib inline\n",
    "plt.style.use('ggplot')"
   ]
  },
  {
   "cell_type": "code",
   "execution_count": 141,
   "metadata": {
    "collapsed": false
   },
   "outputs": [],
   "source": [
    "df = pd.read_csv(os.path.join('energy_production_final.csv'))\n"
   ]
  },
  {
   "cell_type": "code",
   "execution_count": 142,
   "metadata": {
    "collapsed": false
   },
   "outputs": [
    {
     "data": {
      "text/html": [
       "<div>\n",
       "<table border=\"1\" class=\"dataframe\">\n",
       "  <thead>\n",
       "    <tr style=\"text-align: right;\">\n",
       "      <th></th>\n",
       "      <th>Year</th>\n",
       "      <th>Biomass</th>\n",
       "      <th>Coal</th>\n",
       "      <th>Crude Oil</th>\n",
       "      <th>Geothermal</th>\n",
       "      <th>...</th>\n",
       "      <th>Natgas (dry production)</th>\n",
       "      <th>Nuclear</th>\n",
       "      <th>Solar</th>\n",
       "      <th>Wind</th>\n",
       "      <th>GDP</th>\n",
       "    </tr>\n",
       "  </thead>\n",
       "  <tbody>\n",
       "    <tr>\n",
       "      <th>0</th>\n",
       "      <td>1949</td>\n",
       "      <td>1.549262</td>\n",
       "      <td>11.973882</td>\n",
       "      <td>10.683252</td>\n",
       "      <td>NaN</td>\n",
       "      <td>...</td>\n",
       "      <td>5.377243</td>\n",
       "      <td>0.000000</td>\n",
       "      <td>NaN</td>\n",
       "      <td>NaN</td>\n",
       "      <td>2.000000e+12</td>\n",
       "    </tr>\n",
       "    <tr>\n",
       "      <th>1</th>\n",
       "      <td>1950</td>\n",
       "      <td>1.562307</td>\n",
       "      <td>14.060135</td>\n",
       "      <td>11.446729</td>\n",
       "      <td>NaN</td>\n",
       "      <td>...</td>\n",
       "      <td>6.232975</td>\n",
       "      <td>0.000000</td>\n",
       "      <td>NaN</td>\n",
       "      <td>NaN</td>\n",
       "      <td>2.270000e+12</td>\n",
       "    </tr>\n",
       "    <tr>\n",
       "      <th>2</th>\n",
       "      <td>1951</td>\n",
       "      <td>1.534669</td>\n",
       "      <td>14.419325</td>\n",
       "      <td>13.036724</td>\n",
       "      <td>NaN</td>\n",
       "      <td>...</td>\n",
       "      <td>7.415733</td>\n",
       "      <td>0.000000</td>\n",
       "      <td>NaN</td>\n",
       "      <td>NaN</td>\n",
       "      <td>2.400000e+12</td>\n",
       "    </tr>\n",
       "    <tr>\n",
       "      <th>3</th>\n",
       "      <td>1952</td>\n",
       "      <td>1.474369</td>\n",
       "      <td>12.734313</td>\n",
       "      <td>13.281049</td>\n",
       "      <td>NaN</td>\n",
       "      <td>...</td>\n",
       "      <td>7.963599</td>\n",
       "      <td>0.000000</td>\n",
       "      <td>NaN</td>\n",
       "      <td>NaN</td>\n",
       "      <td>2.530000e+12</td>\n",
       "    </tr>\n",
       "    <tr>\n",
       "      <th>4</th>\n",
       "      <td>1953</td>\n",
       "      <td>1.418601</td>\n",
       "      <td>12.277746</td>\n",
       "      <td>13.671076</td>\n",
       "      <td>NaN</td>\n",
       "      <td>...</td>\n",
       "      <td>8.338838</td>\n",
       "      <td>0.000000</td>\n",
       "      <td>NaN</td>\n",
       "      <td>NaN</td>\n",
       "      <td>2.540000e+12</td>\n",
       "    </tr>\n",
       "    <tr>\n",
       "      <th>...</th>\n",
       "      <td>...</td>\n",
       "      <td>...</td>\n",
       "      <td>...</td>\n",
       "      <td>...</td>\n",
       "      <td>...</td>\n",
       "      <td>...</td>\n",
       "      <td>...</td>\n",
       "      <td>...</td>\n",
       "      <td>...</td>\n",
       "      <td>...</td>\n",
       "      <td>...</td>\n",
       "    </tr>\n",
       "    <tr>\n",
       "      <th>62</th>\n",
       "      <td>2011</td>\n",
       "      <td>4.501348</td>\n",
       "      <td>22.221407</td>\n",
       "      <td>11.952314</td>\n",
       "      <td>0.212311</td>\n",
       "      <td>...</td>\n",
       "      <td>23.405720</td>\n",
       "      <td>8.268698</td>\n",
       "      <td>0.105285</td>\n",
       "      <td>1.167636</td>\n",
       "      <td>1.520000e+13</td>\n",
       "    </tr>\n",
       "    <tr>\n",
       "      <th>63</th>\n",
       "      <td>2012</td>\n",
       "      <td>4.405757</td>\n",
       "      <td>20.676893</td>\n",
       "      <td>13.769991</td>\n",
       "      <td>0.211592</td>\n",
       "      <td>...</td>\n",
       "      <td>24.610065</td>\n",
       "      <td>8.061822</td>\n",
       "      <td>0.148110</td>\n",
       "      <td>1.340059</td>\n",
       "      <td>1.540000e+13</td>\n",
       "    </tr>\n",
       "    <tr>\n",
       "      <th>64</th>\n",
       "      <td>2013</td>\n",
       "      <td>4.646919</td>\n",
       "      <td>20.001304</td>\n",
       "      <td>15.808860</td>\n",
       "      <td>0.214006</td>\n",
       "      <td>...</td>\n",
       "      <td>24.859072</td>\n",
       "      <td>8.244433</td>\n",
       "      <td>0.212775</td>\n",
       "      <td>1.601359</td>\n",
       "      <td>1.580000e+13</td>\n",
       "    </tr>\n",
       "    <tr>\n",
       "      <th>65</th>\n",
       "      <td>2014</td>\n",
       "      <td>4.848900</td>\n",
       "      <td>20.285705</td>\n",
       "      <td>18.552425</td>\n",
       "      <td>0.214490</td>\n",
       "      <td>...</td>\n",
       "      <td>26.718073</td>\n",
       "      <td>8.337559</td>\n",
       "      <td>0.321174</td>\n",
       "      <td>1.727542</td>\n",
       "      <td>1.620000e+13</td>\n",
       "    </tr>\n",
       "    <tr>\n",
       "      <th>66</th>\n",
       "      <td>2015</td>\n",
       "      <td>4.715611</td>\n",
       "      <td>17.952726</td>\n",
       "      <td>19.687846</td>\n",
       "      <td>0.224066</td>\n",
       "      <td>...</td>\n",
       "      <td>27.952466</td>\n",
       "      <td>8.337680</td>\n",
       "      <td>0.430889</td>\n",
       "      <td>1.815716</td>\n",
       "      <td>1.650000e+13</td>\n",
       "    </tr>\n",
       "  </tbody>\n",
       "</table>\n",
       "<p>67 rows × 11 columns</p>\n",
       "</div>"
      ],
      "text/plain": [
       "    Year   Biomass       Coal  Crude Oil  Geothermal      ...       \\\n",
       "0   1949  1.549262  11.973882  10.683252         NaN      ...        \n",
       "1   1950  1.562307  14.060135  11.446729         NaN      ...        \n",
       "2   1951  1.534669  14.419325  13.036724         NaN      ...        \n",
       "3   1952  1.474369  12.734313  13.281049         NaN      ...        \n",
       "4   1953  1.418601  12.277746  13.671076         NaN      ...        \n",
       "..   ...       ...        ...        ...         ...      ...        \n",
       "62  2011  4.501348  22.221407  11.952314    0.212311      ...        \n",
       "63  2012  4.405757  20.676893  13.769991    0.211592      ...        \n",
       "64  2013  4.646919  20.001304  15.808860    0.214006      ...        \n",
       "65  2014  4.848900  20.285705  18.552425    0.214490      ...        \n",
       "66  2015  4.715611  17.952726  19.687846    0.224066      ...        \n",
       "\n",
       "    Natgas (dry production)   Nuclear     Solar      Wind           GDP  \n",
       "0                  5.377243  0.000000       NaN       NaN  2.000000e+12  \n",
       "1                  6.232975  0.000000       NaN       NaN  2.270000e+12  \n",
       "2                  7.415733  0.000000       NaN       NaN  2.400000e+12  \n",
       "3                  7.963599  0.000000       NaN       NaN  2.530000e+12  \n",
       "4                  8.338838  0.000000       NaN       NaN  2.540000e+12  \n",
       "..                      ...       ...       ...       ...           ...  \n",
       "62                23.405720  8.268698  0.105285  1.167636  1.520000e+13  \n",
       "63                24.610065  8.061822  0.148110  1.340059  1.540000e+13  \n",
       "64                24.859072  8.244433  0.212775  1.601359  1.580000e+13  \n",
       "65                26.718073  8.337559  0.321174  1.727542  1.620000e+13  \n",
       "66                27.952466  8.337680  0.430889  1.815716  1.650000e+13  \n",
       "\n",
       "[67 rows x 11 columns]"
      ]
     },
     "execution_count": 142,
     "metadata": {},
     "output_type": "execute_result"
    }
   ],
   "source": [
    "df"
   ]
  },
  {
   "cell_type": "code",
   "execution_count": 143,
   "metadata": {
    "collapsed": false
   },
   "outputs": [
    {
     "data": {
      "text/plain": [
       "0"
      ]
     },
     "execution_count": 143,
     "metadata": {},
     "output_type": "execute_result"
    }
   ],
   "source": [
    "df.dropna(inplace = True)\n",
    "\n",
    "df.isnull().sum().sum()"
   ]
  },
  {
   "cell_type": "markdown",
   "metadata": {},
   "source": [
    "After dropping null values, the time series analysis will begin in the year 1984 to the present. Some energy sources did not have historical data before 1984.\n"
   ]
  },
  {
   "cell_type": "code",
   "execution_count": 144,
   "metadata": {
    "collapsed": false
   },
   "outputs": [
    {
     "data": {
      "text/html": [
       "<div>\n",
       "<table border=\"1\" class=\"dataframe\">\n",
       "  <thead>\n",
       "    <tr style=\"text-align: right;\">\n",
       "      <th></th>\n",
       "      <th>Year</th>\n",
       "      <th>Biomass</th>\n",
       "      <th>Coal</th>\n",
       "      <th>Crude Oil</th>\n",
       "      <th>Geothermal</th>\n",
       "      <th>...</th>\n",
       "      <th>Natgas (dry production)</th>\n",
       "      <th>Nuclear</th>\n",
       "      <th>Solar</th>\n",
       "      <th>Wind</th>\n",
       "      <th>GDP</th>\n",
       "    </tr>\n",
       "  </thead>\n",
       "  <tbody>\n",
       "    <tr>\n",
       "      <th>35</th>\n",
       "      <td>1984</td>\n",
       "      <td>2.971120</td>\n",
       "      <td>19.719216</td>\n",
       "      <td>18.848237</td>\n",
       "      <td>0.080811</td>\n",
       "      <td>...</td>\n",
       "      <td>18.007933</td>\n",
       "      <td>3.552531</td>\n",
       "      <td>0.000055</td>\n",
       "      <td>0.000068</td>\n",
       "      <td>7.400000e+12</td>\n",
       "    </tr>\n",
       "    <tr>\n",
       "      <th>36</th>\n",
       "      <td>1985</td>\n",
       "      <td>3.016233</td>\n",
       "      <td>19.325166</td>\n",
       "      <td>18.992407</td>\n",
       "      <td>0.097421</td>\n",
       "      <td>...</td>\n",
       "      <td>16.980380</td>\n",
       "      <td>4.075563</td>\n",
       "      <td>0.000111</td>\n",
       "      <td>0.000060</td>\n",
       "      <td>7.710000e+12</td>\n",
       "    </tr>\n",
       "    <tr>\n",
       "      <th>37</th>\n",
       "      <td>1986</td>\n",
       "      <td>2.932095</td>\n",
       "      <td>19.509466</td>\n",
       "      <td>18.375862</td>\n",
       "      <td>0.107677</td>\n",
       "      <td>...</td>\n",
       "      <td>16.540801</td>\n",
       "      <td>4.380109</td>\n",
       "      <td>0.000147</td>\n",
       "      <td>0.000044</td>\n",
       "      <td>7.940000e+12</td>\n",
       "    </tr>\n",
       "    <tr>\n",
       "      <th>38</th>\n",
       "      <td>1987</td>\n",
       "      <td>2.874884</td>\n",
       "      <td>20.141104</td>\n",
       "      <td>17.674787</td>\n",
       "      <td>0.112270</td>\n",
       "      <td>...</td>\n",
       "      <td>17.135819</td>\n",
       "      <td>4.753933</td>\n",
       "      <td>0.000109</td>\n",
       "      <td>0.000037</td>\n",
       "      <td>8.290000e+12</td>\n",
       "    </tr>\n",
       "    <tr>\n",
       "      <th>39</th>\n",
       "      <td>1988</td>\n",
       "      <td>3.016049</td>\n",
       "      <td>20.737639</td>\n",
       "      <td>17.278931</td>\n",
       "      <td>0.106338</td>\n",
       "      <td>...</td>\n",
       "      <td>17.598597</td>\n",
       "      <td>5.586968</td>\n",
       "      <td>0.000094</td>\n",
       "      <td>0.000009</td>\n",
       "      <td>8.610000e+12</td>\n",
       "    </tr>\n",
       "    <tr>\n",
       "      <th>...</th>\n",
       "      <td>...</td>\n",
       "      <td>...</td>\n",
       "      <td>...</td>\n",
       "      <td>...</td>\n",
       "      <td>...</td>\n",
       "      <td>...</td>\n",
       "      <td>...</td>\n",
       "      <td>...</td>\n",
       "      <td>...</td>\n",
       "      <td>...</td>\n",
       "      <td>...</td>\n",
       "    </tr>\n",
       "    <tr>\n",
       "      <th>62</th>\n",
       "      <td>2011</td>\n",
       "      <td>4.501348</td>\n",
       "      <td>22.221407</td>\n",
       "      <td>11.952314</td>\n",
       "      <td>0.212311</td>\n",
       "      <td>...</td>\n",
       "      <td>23.405720</td>\n",
       "      <td>8.268698</td>\n",
       "      <td>0.105285</td>\n",
       "      <td>1.167636</td>\n",
       "      <td>1.520000e+13</td>\n",
       "    </tr>\n",
       "    <tr>\n",
       "      <th>63</th>\n",
       "      <td>2012</td>\n",
       "      <td>4.405757</td>\n",
       "      <td>20.676893</td>\n",
       "      <td>13.769991</td>\n",
       "      <td>0.211592</td>\n",
       "      <td>...</td>\n",
       "      <td>24.610065</td>\n",
       "      <td>8.061822</td>\n",
       "      <td>0.148110</td>\n",
       "      <td>1.340059</td>\n",
       "      <td>1.540000e+13</td>\n",
       "    </tr>\n",
       "    <tr>\n",
       "      <th>64</th>\n",
       "      <td>2013</td>\n",
       "      <td>4.646919</td>\n",
       "      <td>20.001304</td>\n",
       "      <td>15.808860</td>\n",
       "      <td>0.214006</td>\n",
       "      <td>...</td>\n",
       "      <td>24.859072</td>\n",
       "      <td>8.244433</td>\n",
       "      <td>0.212775</td>\n",
       "      <td>1.601359</td>\n",
       "      <td>1.580000e+13</td>\n",
       "    </tr>\n",
       "    <tr>\n",
       "      <th>65</th>\n",
       "      <td>2014</td>\n",
       "      <td>4.848900</td>\n",
       "      <td>20.285705</td>\n",
       "      <td>18.552425</td>\n",
       "      <td>0.214490</td>\n",
       "      <td>...</td>\n",
       "      <td>26.718073</td>\n",
       "      <td>8.337559</td>\n",
       "      <td>0.321174</td>\n",
       "      <td>1.727542</td>\n",
       "      <td>1.620000e+13</td>\n",
       "    </tr>\n",
       "    <tr>\n",
       "      <th>66</th>\n",
       "      <td>2015</td>\n",
       "      <td>4.715611</td>\n",
       "      <td>17.952726</td>\n",
       "      <td>19.687846</td>\n",
       "      <td>0.224066</td>\n",
       "      <td>...</td>\n",
       "      <td>27.952466</td>\n",
       "      <td>8.337680</td>\n",
       "      <td>0.430889</td>\n",
       "      <td>1.815716</td>\n",
       "      <td>1.650000e+13</td>\n",
       "    </tr>\n",
       "  </tbody>\n",
       "</table>\n",
       "<p>32 rows × 11 columns</p>\n",
       "</div>"
      ],
      "text/plain": [
       "    Year   Biomass       Coal  Crude Oil  Geothermal      ...       \\\n",
       "35  1984  2.971120  19.719216  18.848237    0.080811      ...        \n",
       "36  1985  3.016233  19.325166  18.992407    0.097421      ...        \n",
       "37  1986  2.932095  19.509466  18.375862    0.107677      ...        \n",
       "38  1987  2.874884  20.141104  17.674787    0.112270      ...        \n",
       "39  1988  3.016049  20.737639  17.278931    0.106338      ...        \n",
       "..   ...       ...        ...        ...         ...      ...        \n",
       "62  2011  4.501348  22.221407  11.952314    0.212311      ...        \n",
       "63  2012  4.405757  20.676893  13.769991    0.211592      ...        \n",
       "64  2013  4.646919  20.001304  15.808860    0.214006      ...        \n",
       "65  2014  4.848900  20.285705  18.552425    0.214490      ...        \n",
       "66  2015  4.715611  17.952726  19.687846    0.224066      ...        \n",
       "\n",
       "    Natgas (dry production)   Nuclear     Solar      Wind           GDP  \n",
       "35                18.007933  3.552531  0.000055  0.000068  7.400000e+12  \n",
       "36                16.980380  4.075563  0.000111  0.000060  7.710000e+12  \n",
       "37                16.540801  4.380109  0.000147  0.000044  7.940000e+12  \n",
       "38                17.135819  4.753933  0.000109  0.000037  8.290000e+12  \n",
       "39                17.598597  5.586968  0.000094  0.000009  8.610000e+12  \n",
       "..                      ...       ...       ...       ...           ...  \n",
       "62                23.405720  8.268698  0.105285  1.167636  1.520000e+13  \n",
       "63                24.610065  8.061822  0.148110  1.340059  1.540000e+13  \n",
       "64                24.859072  8.244433  0.212775  1.601359  1.580000e+13  \n",
       "65                26.718073  8.337559  0.321174  1.727542  1.620000e+13  \n",
       "66                27.952466  8.337680  0.430889  1.815716  1.650000e+13  \n",
       "\n",
       "[32 rows x 11 columns]"
      ]
     },
     "execution_count": 144,
     "metadata": {},
     "output_type": "execute_result"
    }
   ],
   "source": [
    "df"
   ]
  },
  {
   "cell_type": "code",
   "execution_count": 145,
   "metadata": {
    "collapsed": false
   },
   "outputs": [
    {
     "data": {
      "text/html": [
       "<div>\n",
       "<table border=\"1\" class=\"dataframe\">\n",
       "  <thead>\n",
       "    <tr style=\"text-align: right;\">\n",
       "      <th></th>\n",
       "      <th>Biomass</th>\n",
       "      <th>Coal</th>\n",
       "      <th>Crude Oil</th>\n",
       "      <th>Geothermal</th>\n",
       "      <th>Hydroelectric</th>\n",
       "      <th>Natgas (dry production)</th>\n",
       "      <th>Nuclear</th>\n",
       "      <th>Solar</th>\n",
       "      <th>Wind</th>\n",
       "      <th>GDP</th>\n",
       "    </tr>\n",
       "    <tr>\n",
       "      <th>Year</th>\n",
       "      <th></th>\n",
       "      <th></th>\n",
       "      <th></th>\n",
       "      <th></th>\n",
       "      <th></th>\n",
       "      <th></th>\n",
       "      <th></th>\n",
       "      <th></th>\n",
       "      <th></th>\n",
       "      <th></th>\n",
       "    </tr>\n",
       "  </thead>\n",
       "  <tbody>\n",
       "    <tr>\n",
       "      <th>1984-01-01</th>\n",
       "      <td>2.971120</td>\n",
       "      <td>19.719216</td>\n",
       "      <td>18.848237</td>\n",
       "      <td>0.080811</td>\n",
       "      <td>3.385811</td>\n",
       "      <td>18.007933</td>\n",
       "      <td>3.552531</td>\n",
       "      <td>0.000055</td>\n",
       "      <td>0.000068</td>\n",
       "      <td>7.400000e+12</td>\n",
       "    </tr>\n",
       "    <tr>\n",
       "      <th>1985-01-01</th>\n",
       "      <td>3.016233</td>\n",
       "      <td>19.325166</td>\n",
       "      <td>18.992407</td>\n",
       "      <td>0.097421</td>\n",
       "      <td>2.970192</td>\n",
       "      <td>16.980380</td>\n",
       "      <td>4.075563</td>\n",
       "      <td>0.000111</td>\n",
       "      <td>0.000060</td>\n",
       "      <td>7.710000e+12</td>\n",
       "    </tr>\n",
       "    <tr>\n",
       "      <th>1986-01-01</th>\n",
       "      <td>2.932095</td>\n",
       "      <td>19.509466</td>\n",
       "      <td>18.375862</td>\n",
       "      <td>0.107677</td>\n",
       "      <td>3.071179</td>\n",
       "      <td>16.540801</td>\n",
       "      <td>4.380109</td>\n",
       "      <td>0.000147</td>\n",
       "      <td>0.000044</td>\n",
       "      <td>7.940000e+12</td>\n",
       "    </tr>\n",
       "    <tr>\n",
       "      <th>1987-01-01</th>\n",
       "      <td>2.874884</td>\n",
       "      <td>20.141104</td>\n",
       "      <td>17.674787</td>\n",
       "      <td>0.112270</td>\n",
       "      <td>2.634508</td>\n",
       "      <td>17.135819</td>\n",
       "      <td>4.753933</td>\n",
       "      <td>0.000109</td>\n",
       "      <td>0.000037</td>\n",
       "      <td>8.290000e+12</td>\n",
       "    </tr>\n",
       "    <tr>\n",
       "      <th>1988-01-01</th>\n",
       "      <td>3.016049</td>\n",
       "      <td>20.737639</td>\n",
       "      <td>17.278931</td>\n",
       "      <td>0.106338</td>\n",
       "      <td>2.334265</td>\n",
       "      <td>17.598597</td>\n",
       "      <td>5.586968</td>\n",
       "      <td>0.000094</td>\n",
       "      <td>0.000009</td>\n",
       "      <td>8.610000e+12</td>\n",
       "    </tr>\n",
       "  </tbody>\n",
       "</table>\n",
       "</div>"
      ],
      "text/plain": [
       "             Biomass       Coal  Crude Oil  Geothermal  Hydroelectric  \\\n",
       "Year                                                                    \n",
       "1984-01-01  2.971120  19.719216  18.848237    0.080811       3.385811   \n",
       "1985-01-01  3.016233  19.325166  18.992407    0.097421       2.970192   \n",
       "1986-01-01  2.932095  19.509466  18.375862    0.107677       3.071179   \n",
       "1987-01-01  2.874884  20.141104  17.674787    0.112270       2.634508   \n",
       "1988-01-01  3.016049  20.737639  17.278931    0.106338       2.334265   \n",
       "\n",
       "            Natgas (dry production)   Nuclear     Solar      Wind  \\\n",
       "Year                                                                \n",
       "1984-01-01                18.007933  3.552531  0.000055  0.000068   \n",
       "1985-01-01                16.980380  4.075563  0.000111  0.000060   \n",
       "1986-01-01                16.540801  4.380109  0.000147  0.000044   \n",
       "1987-01-01                17.135819  4.753933  0.000109  0.000037   \n",
       "1988-01-01                17.598597  5.586968  0.000094  0.000009   \n",
       "\n",
       "                     GDP  \n",
       "Year                      \n",
       "1984-01-01  7.400000e+12  \n",
       "1985-01-01  7.710000e+12  \n",
       "1986-01-01  7.940000e+12  \n",
       "1987-01-01  8.290000e+12  \n",
       "1988-01-01  8.610000e+12  "
      ]
     },
     "execution_count": 145,
     "metadata": {},
     "output_type": "execute_result"
    }
   ],
   "source": [
    "df['Year'] = pd.to_datetime(df['Year'], format = '%Y')\n",
    "df.set_index('Year', drop=True, inplace=True)\n",
    "df.columns = [col.strip() for col in df.columns]\n",
    "df.head()"
   ]
  },
  {
   "cell_type": "code",
   "execution_count": 146,
   "metadata": {
    "collapsed": false
   },
   "outputs": [
    {
     "data": {
      "text/html": [
       "<div>\n",
       "<table border=\"1\" class=\"dataframe\">\n",
       "  <thead>\n",
       "    <tr style=\"text-align: right;\">\n",
       "      <th></th>\n",
       "      <th>Biomass</th>\n",
       "      <th>Coal</th>\n",
       "      <th>Crude Oil</th>\n",
       "      <th>Geothermal</th>\n",
       "      <th>Hydroelectric</th>\n",
       "      <th>Natgas (dry production)</th>\n",
       "      <th>Nuclear</th>\n",
       "      <th>Solar</th>\n",
       "      <th>Wind</th>\n",
       "      <th>GDP</th>\n",
       "    </tr>\n",
       "  </thead>\n",
       "  <tbody>\n",
       "    <tr>\n",
       "      <th>count</th>\n",
       "      <td>32.000000</td>\n",
       "      <td>32.000000</td>\n",
       "      <td>32.000000</td>\n",
       "      <td>32.000000</td>\n",
       "      <td>32.000000</td>\n",
       "      <td>32.000000</td>\n",
       "      <td>32.000000</td>\n",
       "      <td>32.000000</td>\n",
       "      <td>32.000000</td>\n",
       "      <td>3.200000e+01</td>\n",
       "    </tr>\n",
       "    <tr>\n",
       "      <th>mean</th>\n",
       "      <td>3.337105</td>\n",
       "      <td>21.806173</td>\n",
       "      <td>14.232479</td>\n",
       "      <td>0.170315</td>\n",
       "      <td>2.831158</td>\n",
       "      <td>20.006917</td>\n",
       "      <td>7.094309</td>\n",
       "      <td>0.082594</td>\n",
       "      <td>0.358330</td>\n",
       "      <td>1.204031e+13</td>\n",
       "    </tr>\n",
       "    <tr>\n",
       "      <th>std</th>\n",
       "      <td>0.668092</td>\n",
       "      <td>1.545350</td>\n",
       "      <td>2.778111</td>\n",
       "      <td>0.035551</td>\n",
       "      <td>0.354031</td>\n",
       "      <td>2.732018</td>\n",
       "      <td>1.422027</td>\n",
       "      <td>0.088373</td>\n",
       "      <td>0.563610</td>\n",
       "      <td>2.877182e+12</td>\n",
       "    </tr>\n",
       "    <tr>\n",
       "      <th>min</th>\n",
       "      <td>2.624162</td>\n",
       "      <td>17.952726</td>\n",
       "      <td>10.613910</td>\n",
       "      <td>0.080811</td>\n",
       "      <td>2.241858</td>\n",
       "      <td>16.540801</td>\n",
       "      <td>3.552531</td>\n",
       "      <td>0.000055</td>\n",
       "      <td>0.000009</td>\n",
       "      <td>7.400000e+12</td>\n",
       "    </tr>\n",
       "    <tr>\n",
       "      <th>25%</th>\n",
       "      <td>2.930991</td>\n",
       "      <td>20.591583</td>\n",
       "      <td>11.957755</td>\n",
       "      <td>0.164113</td>\n",
       "      <td>2.603673</td>\n",
       "      <td>18.362864</td>\n",
       "      <td>6.419224</td>\n",
       "      <td>0.058054</td>\n",
       "      <td>0.030563</td>\n",
       "      <td>9.312500e+12</td>\n",
       "    </tr>\n",
       "    <tr>\n",
       "      <th>50%</th>\n",
       "      <td>3.021884</td>\n",
       "      <td>22.111601</td>\n",
       "      <td>13.746445</td>\n",
       "      <td>0.173455</td>\n",
       "      <td>2.747740</td>\n",
       "      <td>19.346141</td>\n",
       "      <td>7.736303</td>\n",
       "      <td>0.063797</td>\n",
       "      <td>0.051476</td>\n",
       "      <td>1.250000e+13</td>\n",
       "    </tr>\n",
       "    <tr>\n",
       "      <th>75%</th>\n",
       "      <td>3.571123</td>\n",
       "      <td>22.935372</td>\n",
       "      <td>15.885866</td>\n",
       "      <td>0.187439</td>\n",
       "      <td>3.052588</td>\n",
       "      <td>20.299896</td>\n",
       "      <td>8.228189</td>\n",
       "      <td>0.069791</td>\n",
       "      <td>0.391764</td>\n",
       "      <td>1.462500e+13</td>\n",
       "    </tr>\n",
       "    <tr>\n",
       "      <th>max</th>\n",
       "      <td>4.848900</td>\n",
       "      <td>24.045198</td>\n",
       "      <td>19.687846</td>\n",
       "      <td>0.224066</td>\n",
       "      <td>3.640458</td>\n",
       "      <td>27.952466</td>\n",
       "      <td>8.458589</td>\n",
       "      <td>0.430889</td>\n",
       "      <td>1.815716</td>\n",
       "      <td>1.650000e+13</td>\n",
       "    </tr>\n",
       "  </tbody>\n",
       "</table>\n",
       "</div>"
      ],
      "text/plain": [
       "         Biomass       Coal  Crude Oil  Geothermal  Hydroelectric  \\\n",
       "count  32.000000  32.000000  32.000000   32.000000      32.000000   \n",
       "mean    3.337105  21.806173  14.232479    0.170315       2.831158   \n",
       "std     0.668092   1.545350   2.778111    0.035551       0.354031   \n",
       "min     2.624162  17.952726  10.613910    0.080811       2.241858   \n",
       "25%     2.930991  20.591583  11.957755    0.164113       2.603673   \n",
       "50%     3.021884  22.111601  13.746445    0.173455       2.747740   \n",
       "75%     3.571123  22.935372  15.885866    0.187439       3.052588   \n",
       "max     4.848900  24.045198  19.687846    0.224066       3.640458   \n",
       "\n",
       "       Natgas (dry production)    Nuclear      Solar       Wind           GDP  \n",
       "count                32.000000  32.000000  32.000000  32.000000  3.200000e+01  \n",
       "mean                 20.006917   7.094309   0.082594   0.358330  1.204031e+13  \n",
       "std                   2.732018   1.422027   0.088373   0.563610  2.877182e+12  \n",
       "min                  16.540801   3.552531   0.000055   0.000009  7.400000e+12  \n",
       "25%                  18.362864   6.419224   0.058054   0.030563  9.312500e+12  \n",
       "50%                  19.346141   7.736303   0.063797   0.051476  1.250000e+13  \n",
       "75%                  20.299896   8.228189   0.069791   0.391764  1.462500e+13  \n",
       "max                  27.952466   8.458589   0.430889   1.815716  1.650000e+13  "
      ]
     },
     "execution_count": 146,
     "metadata": {},
     "output_type": "execute_result"
    }
   ],
   "source": [
    "df.describe()"
   ]
  },
  {
   "cell_type": "code",
   "execution_count": 147,
   "metadata": {
    "collapsed": false
   },
   "outputs": [
    {
     "data": {
      "text/plain": [
       "<matplotlib.text.Text at 0x11d2dcfd0>"
      ]
     },
     "execution_count": 147,
     "metadata": {},
     "output_type": "execute_result"
    },
    {
     "data": {
      "image/png": "[encoded data removed]",
      "text/plain": [
       "<matplotlib.figure.Figure at 0x11cb86d90>"
      ]
     },
     "metadata": {},
     "output_type": "display_data"
    }
   ],
   "source": [
    "ax = df[[ 'Natgas (dry production)', 'Coal', 'Crude Oil']].plot(label = 'Series', \n",
    "                                                                                           figsize = (8,8))\n",
    "ax.set_ylabel('Quadrillion BTUs')"
   ]
  },
  {
   "cell_type": "code",
   "execution_count": 148,
   "metadata": {
    "collapsed": false
   },
   "outputs": [
    {
     "data": {
      "text/plain": [
       "<matplotlib.text.Text at 0x11d39af50>"
      ]
     },
     "execution_count": 148,
     "metadata": {},
     "output_type": "execute_result"
    },
    {
     "data": {
      "image/png": "[encoded data removed]",
      "text/plain": [
       "<matplotlib.figure.Figure at 0x11d42f450>"
      ]
     },
     "metadata": {},
     "output_type": "display_data"
    }
   ],
   "source": [
    "ax = df[['Biomass', 'Geothermal', 'Nuclear', 'Solar', 'Wind']].plot(label = 'Series', \n",
    "                                                                                           figsize = (8,8))\n",
    "ax.set_ylabel('Quadrillion BTUs')"
   ]
  },
  {
   "cell_type": "code",
   "execution_count": 149,
   "metadata": {
    "collapsed": false
   },
   "outputs": [
    {
     "data": {
      "text/plain": [
       "<matplotlib.text.Text at 0x11c690150>"
      ]
     },
     "execution_count": 149,
     "metadata": {},
     "output_type": "execute_result"
    },
    {
     "data": {
      "image/png": "[encoded data removed]",
      "text/plain": [
       "<matplotlib.figure.Figure at 0x11d42ef50>"
      ]
     },
     "metadata": {},
     "output_type": "display_data"
    }
   ],
   "source": [
    "ax = df[['GDP']].plot(label = 'Series', \n",
    "                                                                                           figsize = (8,8))\n",
    "ax.set_ylabel('$ Trillion')"
   ]
  },
  {
   "cell_type": "markdown",
   "metadata": {},
   "source": [
    "train_df = df.sample(frac = .6, random_state = 0).sort_index()\n",
    "\n",
    "'Biomass', 'Coal', 'Crude Oil', 'Geothermal', 'Hydroelectric', 'Natgas (dry production)', 'Nuclear', 'Solar', 'Wind'"
   ]
  },
  {
   "cell_type": "code",
   "execution_count": 155,
   "metadata": {
    "collapsed": false
   },
   "outputs": [],
   "source": [
    "n = df.shape[0]\n",
    "m = int(.75 * n)\n",
    "\n",
    "train_df = df[: m]\n",
    "test_df = df[m :]\n",
    "\n",
    "#X = df.drop('Coal', axis = 1)\n",
    "#y = df.Coal\n",
    "\n",
    "train_X = train_df.drop('Coal', axis = 1)\n",
    "train_y = train_df.Coal\n",
    "\n",
    "test_X = test_df.drop('Coal', axis = 1)\n",
    "test_y = test_df.Coal"
   ]
  },
  {
   "cell_type": "code",
   "execution_count": 156,
   "metadata": {
    "collapsed": false
   },
   "outputs": [
    {
     "name": "stderr",
     "output_type": "stream",
     "text": [
      "//anaconda/lib/python2.7/site-packages/statsmodels/base/model.py:466: ConvergenceWarning: Maximum Likelihood optimization failed to converge. Check mle_retvals\n",
      "  \"Check mle_retvals\", ConvergenceWarning)\n"
     ]
    }
   ],
   "source": [
    "model = arima_model.ARIMA(train_y, (1, 0, 0), train_X).fit()\n",
    "\n"
   ]
  },
  {
   "cell_type": "code",
   "execution_count": 157,
   "metadata": {
    "collapsed": false
   },
   "outputs": [
    {
     "data": {
      "text/html": [
       "<table class=\"simpletable\">\n",
       "<caption>ARMA Model Results</caption>\n",
       "<tr>\n",
       "  <th>Dep. Variable:</th>       <td>Coal</td>       <th>  No. Observations:  </th>   <td>24</td>   \n",
       "</tr>\n",
       "<tr>\n",
       "  <th>Model:</th>            <td>ARMA(1, 0)</td>    <th>  Log Likelihood     </th> <td>-19.790</td>\n",
       "</tr>\n",
       "<tr>\n",
       "  <th>Method:</th>             <td>css-mle</td>     <th>  S.D. of innovations</th>  <td>1.229</td> \n",
       "</tr>\n",
       "<tr>\n",
       "  <th>Date:</th>          <td>Tue, 15 Nov 2016</td> <th>  AIC                </th> <td>63.580</td> \n",
       "</tr>\n",
       "<tr>\n",
       "  <th>Time:</th>              <td>17:50:58</td>     <th>  BIC                </th> <td>77.717</td> \n",
       "</tr>\n",
       "<tr>\n",
       "  <th>Sample:</th>           <td>01-01-1984</td>    <th>  HQIC               </th> <td>67.331</td> \n",
       "</tr>\n",
       "<tr>\n",
       "  <th></th>                 <td>- 01-01-2007</td>   <th>                     </th>    <td> </td>   \n",
       "</tr>\n",
       "</table>\n",
       "<table class=\"simpletable\">\n",
       "<tr>\n",
       "             <td></td>                <th>coef</th>     <th>std err</th>      <th>z</th>      <th>P>|z|</th> <th>[95.0% Conf. Int.]</th> \n",
       "</tr>\n",
       "<tr>\n",
       "  <th>const</th>                   <td>    2.5325</td> <td>   17.618</td> <td>    0.144</td> <td> 0.888</td> <td>  -31.999    37.064</td>\n",
       "</tr>\n",
       "<tr>\n",
       "  <th>Biomass</th>                 <td>    0.3167</td> <td>    1.126</td> <td>    0.281</td> <td> 0.783</td> <td>   -1.891     2.525</td>\n",
       "</tr>\n",
       "<tr>\n",
       "  <th>Crude Oil</th>               <td>    0.1419</td> <td>    0.362</td> <td>    0.392</td> <td> 0.701</td> <td>   -0.568     0.851</td>\n",
       "</tr>\n",
       "<tr>\n",
       "  <th>Geothermal</th>              <td>    5.3166</td> <td>   24.217</td> <td>    0.220</td> <td> 0.830</td> <td>  -42.148    52.781</td>\n",
       "</tr>\n",
       "<tr>\n",
       "  <th>Hydroelectric</th>           <td>    0.6013</td> <td>    0.658</td> <td>    0.914</td> <td> 0.377</td> <td>   -0.688     1.890</td>\n",
       "</tr>\n",
       "<tr>\n",
       "  <th>Natgas (dry production)</th> <td>    0.4532</td> <td>    0.403</td> <td>    1.125</td> <td> 0.281</td> <td>   -0.336     1.242</td>\n",
       "</tr>\n",
       "<tr>\n",
       "  <th>Nuclear</th>                 <td>    0.4572</td> <td>    0.582</td> <td>    0.786</td> <td> 0.446</td> <td>   -0.683     1.598</td>\n",
       "</tr>\n",
       "<tr>\n",
       "  <th>Solar</th>                   <td>    2.6682</td> <td>   32.752</td> <td>    0.081</td> <td> 0.936</td> <td>  -61.525    66.862</td>\n",
       "</tr>\n",
       "<tr>\n",
       "  <th>Wind</th>                    <td>   -0.7633</td> <td>    3.716</td> <td>   -0.205</td> <td> 0.840</td> <td>   -8.046     6.519</td>\n",
       "</tr>\n",
       "<tr>\n",
       "  <th>GDP</th>                     <td> 2.148e-13</td> <td> 1.39e-07</td> <td> 1.54e-06</td> <td> 1.000</td> <td>-2.73e-07  2.73e-07</td>\n",
       "</tr>\n",
       "<tr>\n",
       "  <th>ar.L1.Coal</th>              <td>    0.1694</td> <td>    0.268</td> <td>    0.632</td> <td> 0.539</td> <td>   -0.356     0.695</td>\n",
       "</tr>\n",
       "</table>\n",
       "<table class=\"simpletable\">\n",
       "<caption>Roots</caption>\n",
       "<tr>\n",
       "    <td></td>   <th>           Real</th> <th>         Imaginary</th> <th>         Modulus</th> <th>        Frequency</th>\n",
       "</tr>\n",
       "<tr>\n",
       "  <th>AR.1</th>               5.9034                    +0.0000j                    5.9034                    0.0000     \n",
       "</tr>\n",
       "</table>"
      ],
      "text/plain": [
       "<class 'statsmodels.iolib.summary.Summary'>\n",
       "\"\"\"\n",
       "                              ARMA Model Results                              \n",
       "==============================================================================\n",
       "Dep. Variable:                   Coal   No. Observations:                   24\n",
       "Model:                     ARMA(1, 0)   Log Likelihood                 -19.790\n",
       "Method:                       css-mle   S.D. of innovations              1.229\n",
       "Date:                Tue, 15 Nov 2016   AIC                             63.580\n",
       "Time:                        17:50:58   BIC                             77.717\n",
       "Sample:                    01-01-1984   HQIC                            67.331\n",
       "                         - 01-01-2007                                         \n",
       "===========================================================================================\n",
       "                              coef    std err          z      P>|z|      [95.0% Conf. Int.]\n",
       "-------------------------------------------------------------------------------------------\n",
       "const                       2.5325     17.618      0.144      0.888       -31.999    37.064\n",
       "Biomass                     0.3167      1.126      0.281      0.783        -1.891     2.525\n",
       "Crude Oil                   0.1419      0.362      0.392      0.701        -0.568     0.851\n",
       "Geothermal                  5.3166     24.217      0.220      0.830       -42.148    52.781\n",
       "Hydroelectric               0.6013      0.658      0.914      0.377        -0.688     1.890\n",
       "Natgas (dry production)     0.4532      0.403      1.125      0.281        -0.336     1.242\n",
       "Nuclear                     0.4572      0.582      0.786      0.446        -0.683     1.598\n",
       "Solar                       2.6682     32.752      0.081      0.936       -61.525    66.862\n",
       "Wind                       -0.7633      3.716     -0.205      0.840        -8.046     6.519\n",
       "GDP                      2.148e-13   1.39e-07   1.54e-06      1.000     -2.73e-07  2.73e-07\n",
       "ar.L1.Coal                  0.1694      0.268      0.632      0.539        -0.356     0.695\n",
       "                                    Roots                                    \n",
       "=============================================================================\n",
       "                 Real           Imaginary           Modulus         Frequency\n",
       "-----------------------------------------------------------------------------\n",
       "AR.1            5.9034           +0.0000j            5.9034            0.0000\n",
       "-----------------------------------------------------------------------------\n",
       "\"\"\""
      ]
     },
     "execution_count": 157,
     "metadata": {},
     "output_type": "execute_result"
    }
   ],
   "source": [
    "model.summary()"
   ]
  },
  {
   "cell_type": "code",
   "execution_count": 158,
   "metadata": {
    "collapsed": false
   },
   "outputs": [
    {
     "data": {
      "image/png": "[encoded data removed]",
      "text/plain": [
       "<matplotlib.figure.Figure at 0x11dc71d50>"
      ]
     },
     "metadata": {},
     "output_type": "display_data"
    }
   ],
   "source": [
    "model.plot_predict(0, m - 1)\n",
    "\n",
    "pass"
   ]
  },
  {
   "cell_type": "code",
   "execution_count": 160,
   "metadata": {
    "collapsed": true
   },
   "outputs": [],
   "source": [
    "n = df.shape[0]\n",
    "m = int(.75 * n)\n",
    "\n",
    "train_df = df[: m]\n",
    "test_df = df[m :]\n",
    "\n",
    "#X = df.drop('GDP', axis = 1)\n",
    "#y = df.GDP\n",
    "\n",
    "train_X = train_df.drop('GDP', axis = 1)\n",
    "train_y = train_df.GDP\n",
    "\n",
    "test_X = test_df.drop('GDP', axis = 1)\n",
    "test_y = test_df.GDP"
   ]
  },
  {
   "cell_type": "code",
   "execution_count": 161,
   "metadata": {
    "collapsed": true
   },
   "outputs": [],
   "source": [
    "model = arima_model.ARIMA(train_y, (1, 0, 0), train_X).fit()"
   ]
  },
  {
   "cell_type": "code",
   "execution_count": 162,
   "metadata": {
    "collapsed": false
   },
   "outputs": [
    {
     "data": {
      "text/html": [
       "<table class=\"simpletable\">\n",
       "<caption>ARMA Model Results</caption>\n",
       "<tr>\n",
       "  <th>Dep. Variable:</th>        <td>GDP</td>       <th>  No. Observations:  </th>        <td>24</td>       \n",
       "</tr>\n",
       "<tr>\n",
       "  <th>Model:</th>            <td>ARMA(1, 0)</td>    <th>  Log Likelihood     </th>     <td>-662.772</td>    \n",
       "</tr>\n",
       "<tr>\n",
       "  <th>Method:</th>             <td>css-mle</td>     <th>  S.D. of innovations</th> <td>238248681729.066</td>\n",
       "</tr>\n",
       "<tr>\n",
       "  <th>Date:</th>          <td>Tue, 15 Nov 2016</td> <th>  AIC                </th>     <td>1349.545</td>    \n",
       "</tr>\n",
       "<tr>\n",
       "  <th>Time:</th>              <td>17:53:28</td>     <th>  BIC                </th>     <td>1363.682</td>    \n",
       "</tr>\n",
       "<tr>\n",
       "  <th>Sample:</th>           <td>01-01-1984</td>    <th>  HQIC               </th>     <td>1353.295</td>    \n",
       "</tr>\n",
       "<tr>\n",
       "  <th></th>                 <td>- 01-01-2007</td>   <th>                     </th>         <td> </td>       \n",
       "</tr>\n",
       "</table>\n",
       "<table class=\"simpletable\">\n",
       "<tr>\n",
       "             <td></td>                <th>coef</th>     <th>std err</th>      <th>z</th>      <th>P>|z|</th> <th>[95.0% Conf. Int.]</th> \n",
       "</tr>\n",
       "<tr>\n",
       "  <th>const</th>                   <td> 2.363e+13</td> <td> 7.33e+12</td> <td>    3.224</td> <td> 0.007</td> <td> 9.26e+12   3.8e+13</td>\n",
       "</tr>\n",
       "<tr>\n",
       "  <th>Biomass</th>                 <td>-2.412e+11</td> <td>      nan</td> <td>      nan</td> <td>   nan</td> <td>      nan       nan</td>\n",
       "</tr>\n",
       "<tr>\n",
       "  <th>Coal</th>                    <td> 5.769e+10</td> <td> 8.41e+10</td> <td>    0.686</td> <td> 0.505</td> <td>-1.07e+11  2.23e+11</td>\n",
       "</tr>\n",
       "<tr>\n",
       "  <th>Crude Oil</th>               <td>-1.024e+12</td> <td> 1.53e+11</td> <td>   -6.713</td> <td> 0.000</td> <td>-1.32e+12 -7.25e+11</td>\n",
       "</tr>\n",
       "<tr>\n",
       "  <th>Geothermal</th>              <td> 2.641e+12</td> <td> 9.18e+12</td> <td>    0.288</td> <td> 0.778</td> <td>-1.54e+13  2.06e+13</td>\n",
       "</tr>\n",
       "<tr>\n",
       "  <th>Hydroelectric</th>           <td> 2.951e+11</td> <td>      nan</td> <td>      nan</td> <td>   nan</td> <td>      nan       nan</td>\n",
       "</tr>\n",
       "<tr>\n",
       "  <th>Natgas (dry production)</th> <td>  8.33e+10</td> <td> 1.58e+11</td> <td>    0.528</td> <td> 0.606</td> <td>-2.26e+11  3.92e+11</td>\n",
       "</tr>\n",
       "<tr>\n",
       "  <th>Nuclear</th>                 <td> 1.591e+10</td> <td> 2.46e+11</td> <td>    0.065</td> <td> 0.949</td> <td>-4.66e+11  4.98e+11</td>\n",
       "</tr>\n",
       "<tr>\n",
       "  <th>Solar</th>                   <td>  -3.7e+13</td> <td> 7.84e+12</td> <td>   -4.722</td> <td> 0.000</td> <td>-5.24e+13 -2.16e+13</td>\n",
       "</tr>\n",
       "<tr>\n",
       "  <th>Wind</th>                    <td> 3.541e+12</td> <td> 1.31e+12</td> <td>    2.712</td> <td> 0.018</td> <td> 9.82e+11   6.1e+12</td>\n",
       "</tr>\n",
       "<tr>\n",
       "  <th>ar.L1.GDP</th>               <td>   -0.0017</td> <td>      nan</td> <td>      nan</td> <td>   nan</td> <td>      nan       nan</td>\n",
       "</tr>\n",
       "</table>\n",
       "<table class=\"simpletable\">\n",
       "<caption>Roots</caption>\n",
       "<tr>\n",
       "    <td></td>   <th>           Real</th> <th>         Imaginary</th> <th>         Modulus</th> <th>        Frequency</th>\n",
       "</tr>\n",
       "<tr>\n",
       "  <th>AR.1</th>            -602.0911                    +0.0000j                  602.0911                    0.5000     \n",
       "</tr>\n",
       "</table>"
      ],
      "text/plain": [
       "<class 'statsmodels.iolib.summary.Summary'>\n",
       "\"\"\"\n",
       "                              ARMA Model Results                              \n",
       "==============================================================================\n",
       "Dep. Variable:                    GDP   No. Observations:                   24\n",
       "Model:                     ARMA(1, 0)   Log Likelihood                -662.772\n",
       "Method:                       css-mle   S.D. of innovations   238248681729.066\n",
       "Date:                Tue, 15 Nov 2016   AIC                           1349.545\n",
       "Time:                        17:53:28   BIC                           1363.682\n",
       "Sample:                    01-01-1984   HQIC                          1353.295\n",
       "                         - 01-01-2007                                         \n",
       "===========================================================================================\n",
       "                              coef    std err          z      P>|z|      [95.0% Conf. Int.]\n",
       "-------------------------------------------------------------------------------------------\n",
       "const                    2.363e+13   7.33e+12      3.224      0.007      9.26e+12   3.8e+13\n",
       "Biomass                 -2.412e+11        nan        nan        nan           nan       nan\n",
       "Coal                     5.769e+10   8.41e+10      0.686      0.505     -1.07e+11  2.23e+11\n",
       "Crude Oil               -1.024e+12   1.53e+11     -6.713      0.000     -1.32e+12 -7.25e+11\n",
       "Geothermal               2.641e+12   9.18e+12      0.288      0.778     -1.54e+13  2.06e+13\n",
       "Hydroelectric            2.951e+11        nan        nan        nan           nan       nan\n",
       "Natgas (dry production)   8.33e+10   1.58e+11      0.528      0.606     -2.26e+11  3.92e+11\n",
       "Nuclear                  1.591e+10   2.46e+11      0.065      0.949     -4.66e+11  4.98e+11\n",
       "Solar                     -3.7e+13   7.84e+12     -4.722      0.000     -5.24e+13 -2.16e+13\n",
       "Wind                     3.541e+12   1.31e+12      2.712      0.018      9.82e+11   6.1e+12\n",
       "ar.L1.GDP                  -0.0017        nan        nan        nan           nan       nan\n",
       "                                    Roots                                    \n",
       "=============================================================================\n",
       "                 Real           Imaginary           Modulus         Frequency\n",
       "-----------------------------------------------------------------------------\n",
       "AR.1         -602.0911           +0.0000j          602.0911            0.5000\n",
       "-----------------------------------------------------------------------------\n",
       "\"\"\""
      ]
     },
     "execution_count": 162,
     "metadata": {},
     "output_type": "execute_result"
    }
   ],
   "source": [
    "model.summary()"
   ]
  },
  {
   "cell_type": "code",
   "execution_count": 163,
   "metadata": {
    "collapsed": false
   },
   "outputs": [
    {
     "data": {
      "image/png": "[encoded data removed]",
      "text/plain": [
       "<matplotlib.figure.Figure at 0x11e177f10>"
      ]
     },
     "metadata": {},
     "output_type": "display_data"
    }
   ],
   "source": [
    "model.plot_predict(0, m - 1)\n",
    "\n",
    "pass"
   ]
  },
  {
   "cell_type": "code",
   "execution_count": 184,
   "metadata": {
    "collapsed": true
   },
   "outputs": [],
   "source": [
    "n = df.shape[0]\n",
    "m = int(.75 * n)\n",
    "\n",
    "train_df = df[: m]\n",
    "test_df = df[m :]\n",
    "\n",
    "#X = df.drop('GDP', axis = 1)\n",
    "#y = df.GDP\n",
    "\n",
    "train_X = train_df.drop('GDP', axis = 1)\n",
    "train_y = train_df.GDP\n",
    "\n",
    "test_X = test_df.drop('GDP', axis = 1)\n",
    "test_y = test_df.GDP"
   ]
  },
  {
   "cell_type": "code",
   "execution_count": 185,
   "metadata": {
    "collapsed": false
   },
   "outputs": [],
   "source": [
    "model = arima_model.ARIMA(train_y, (1, 1, 0), train_X).fit()"
   ]
  },
  {
   "cell_type": "code",
   "execution_count": 186,
   "metadata": {
    "collapsed": false
   },
   "outputs": [
    {
     "data": {
      "text/html": [
       "<table class=\"simpletable\">\n",
       "<caption>ARIMA Model Results</caption>\n",
       "<tr>\n",
       "  <th>Dep. Variable:</th>       <td>D.GDP</td>      <th>  No. Observations:  </th>       <td>23</td>       \n",
       "</tr>\n",
       "<tr>\n",
       "  <th>Model:</th>          <td>ARIMA(1, 1, 0)</td>  <th>  Log Likelihood     </th>    <td>-610.560</td>    \n",
       "</tr>\n",
       "<tr>\n",
       "  <th>Method:</th>             <td>css-mle</td>     <th>  S.D. of innovations</th> <td>81662244008.340</td>\n",
       "</tr>\n",
       "<tr>\n",
       "  <th>Date:</th>          <td>Tue, 15 Nov 2016</td> <th>  AIC                </th>    <td>1245.121</td>    \n",
       "</tr>\n",
       "<tr>\n",
       "  <th>Time:</th>              <td>18:09:21</td>     <th>  BIC                </th>    <td>1258.746</td>    \n",
       "</tr>\n",
       "<tr>\n",
       "  <th>Sample:</th>           <td>01-01-1985</td>    <th>  HQIC               </th>    <td>1248.547</td>    \n",
       "</tr>\n",
       "<tr>\n",
       "  <th></th>                 <td>- 01-01-2007</td>   <th>                     </th>        <td> </td>       \n",
       "</tr>\n",
       "</table>\n",
       "<table class=\"simpletable\">\n",
       "<tr>\n",
       "             <td></td>                <th>coef</th>     <th>std err</th>      <th>z</th>      <th>P>|z|</th> <th>[95.0% Conf. Int.]</th> \n",
       "</tr>\n",
       "<tr>\n",
       "  <th>const</th>                   <td>-4.882e+12</td> <td> 2.65e+12</td> <td>   -1.846</td> <td> 0.090</td> <td>-1.01e+13  3.02e+11</td>\n",
       "</tr>\n",
       "<tr>\n",
       "  <th>Biomass</th>                 <td> 6.732e+11</td> <td> 1.71e+11</td> <td>    3.934</td> <td> 0.002</td> <td> 3.38e+11  1.01e+12</td>\n",
       "</tr>\n",
       "<tr>\n",
       "  <th>Coal</th>                    <td>  2.85e+09</td> <td> 5.23e+10</td> <td>    0.055</td> <td> 0.957</td> <td>-9.96e+10  1.05e+11</td>\n",
       "</tr>\n",
       "<tr>\n",
       "  <th>Crude Oil</th>               <td>-7.571e+10</td> <td> 5.45e+10</td> <td>   -1.389</td> <td> 0.190</td> <td>-1.83e+11  3.11e+10</td>\n",
       "</tr>\n",
       "<tr>\n",
       "  <th>Geothermal</th>              <td> 1.303e+13</td> <td> 4.26e+12</td> <td>    3.061</td> <td> 0.010</td> <td> 4.68e+12  2.14e+13</td>\n",
       "</tr>\n",
       "<tr>\n",
       "  <th>Hydroelectric</th>           <td> 1.953e+11</td> <td> 1.51e+11</td> <td>    1.292</td> <td> 0.221</td> <td>-1.01e+11  4.91e+11</td>\n",
       "</tr>\n",
       "<tr>\n",
       "  <th>Natgas (dry production)</th> <td> 1.577e+11</td> <td> 7.11e+10</td> <td>    2.219</td> <td> 0.047</td> <td> 1.84e+10  2.97e+11</td>\n",
       "</tr>\n",
       "<tr>\n",
       "  <th>Nuclear</th>                 <td>-2.115e+10</td> <td> 1.03e+11</td> <td>   -0.206</td> <td> 0.840</td> <td>-2.22e+11   1.8e+11</td>\n",
       "</tr>\n",
       "<tr>\n",
       "  <th>Solar</th>                   <td>-2.068e+13</td> <td> 5.84e+12</td> <td>   -3.540</td> <td> 0.004</td> <td>-3.21e+13 -9.23e+12</td>\n",
       "</tr>\n",
       "<tr>\n",
       "  <th>Wind</th>                    <td> -2.65e+12</td> <td> 5.26e+11</td> <td>   -5.041</td> <td> 0.000</td> <td>-3.68e+12 -1.62e+12</td>\n",
       "</tr>\n",
       "<tr>\n",
       "  <th>ar.L1.D.GDP</th>             <td>   -0.2411</td> <td>    0.507</td> <td>   -0.475</td> <td> 0.643</td> <td>   -1.235     0.753</td>\n",
       "</tr>\n",
       "</table>\n",
       "<table class=\"simpletable\">\n",
       "<caption>Roots</caption>\n",
       "<tr>\n",
       "    <td></td>   <th>           Real</th> <th>         Imaginary</th> <th>         Modulus</th> <th>        Frequency</th>\n",
       "</tr>\n",
       "<tr>\n",
       "  <th>AR.1</th>              -4.1469                    +0.0000j                    4.1469                    0.5000     \n",
       "</tr>\n",
       "</table>"
      ],
      "text/plain": [
       "<class 'statsmodels.iolib.summary.Summary'>\n",
       "\"\"\"\n",
       "                             ARIMA Model Results                              \n",
       "==============================================================================\n",
       "Dep. Variable:                  D.GDP   No. Observations:                   23\n",
       "Model:                 ARIMA(1, 1, 0)   Log Likelihood                -610.560\n",
       "Method:                       css-mle   S.D. of innovations    81662244008.340\n",
       "Date:                Tue, 15 Nov 2016   AIC                           1245.121\n",
       "Time:                        18:09:21   BIC                           1258.746\n",
       "Sample:                    01-01-1985   HQIC                          1248.547\n",
       "                         - 01-01-2007                                         \n",
       "===========================================================================================\n",
       "                              coef    std err          z      P>|z|      [95.0% Conf. Int.]\n",
       "-------------------------------------------------------------------------------------------\n",
       "const                   -4.882e+12   2.65e+12     -1.846      0.090     -1.01e+13  3.02e+11\n",
       "Biomass                  6.732e+11   1.71e+11      3.934      0.002      3.38e+11  1.01e+12\n",
       "Coal                      2.85e+09   5.23e+10      0.055      0.957     -9.96e+10  1.05e+11\n",
       "Crude Oil               -7.571e+10   5.45e+10     -1.389      0.190     -1.83e+11  3.11e+10\n",
       "Geothermal               1.303e+13   4.26e+12      3.061      0.010      4.68e+12  2.14e+13\n",
       "Hydroelectric            1.953e+11   1.51e+11      1.292      0.221     -1.01e+11  4.91e+11\n",
       "Natgas (dry production)  1.577e+11   7.11e+10      2.219      0.047      1.84e+10  2.97e+11\n",
       "Nuclear                 -2.115e+10   1.03e+11     -0.206      0.840     -2.22e+11   1.8e+11\n",
       "Solar                   -2.068e+13   5.84e+12     -3.540      0.004     -3.21e+13 -9.23e+12\n",
       "Wind                     -2.65e+12   5.26e+11     -5.041      0.000     -3.68e+12 -1.62e+12\n",
       "ar.L1.D.GDP                -0.2411      0.507     -0.475      0.643        -1.235     0.753\n",
       "                                    Roots                                    \n",
       "=============================================================================\n",
       "                 Real           Imaginary           Modulus         Frequency\n",
       "-----------------------------------------------------------------------------\n",
       "AR.1           -4.1469           +0.0000j            4.1469            0.5000\n",
       "-----------------------------------------------------------------------------\n",
       "\"\"\""
      ]
     },
     "execution_count": 186,
     "metadata": {},
     "output_type": "execute_result"
    }
   ],
   "source": [
    "model.summary()"
   ]
  },
  {
   "cell_type": "code",
   "execution_count": 171,
   "metadata": {
    "collapsed": false
   },
   "outputs": [],
   "source": [
    "n = df.shape[0]\n",
    "m = int(.75 * n)\n",
    "\n",
    "train_df = df[: m]\n",
    "test_df = df[m :]\n",
    "\n",
    "#X = df.drop('Crude Oil', axis = 1)\n",
    "#y = df.Crude Oil\n",
    "\n",
    "train_X = train_df.drop('Crude Oil', axis = 1)\n",
    "train_y = train_df['Crude Oil']\n",
    "\n",
    "test_X = test_df.drop('Crude Oil', axis = 1)\n",
    "test_y = test_df['Crude Oil']"
   ]
  },
  {
   "cell_type": "code",
   "execution_count": 172,
   "metadata": {
    "collapsed": false
   },
   "outputs": [
    {
     "name": "stderr",
     "output_type": "stream",
     "text": [
      "//anaconda/lib/python2.7/site-packages/statsmodels/base/model.py:466: ConvergenceWarning: Maximum Likelihood optimization failed to converge. Check mle_retvals\n",
      "  \"Check mle_retvals\", ConvergenceWarning)\n"
     ]
    }
   ],
   "source": [
    "model = arima_model.ARIMA(train_y, (1, 0, 0), train_X).fit()"
   ]
  },
  {
   "cell_type": "code",
   "execution_count": 173,
   "metadata": {
    "collapsed": false
   },
   "outputs": [
    {
     "data": {
      "text/html": [
       "<table class=\"simpletable\">\n",
       "<caption>ARMA Model Results</caption>\n",
       "<tr>\n",
       "  <th>Dep. Variable:</th>     <td>Crude Oil</td>    <th>  No. Observations:  </th>   <td>24</td>  \n",
       "</tr>\n",
       "<tr>\n",
       "  <th>Model:</th>            <td>ARMA(1, 0)</td>    <th>  Log Likelihood     </th>  <td>6.020</td>\n",
       "</tr>\n",
       "<tr>\n",
       "  <th>Method:</th>             <td>css-mle</td>     <th>  S.D. of innovations</th>  <td>1.262</td>\n",
       "</tr>\n",
       "<tr>\n",
       "  <th>Date:</th>          <td>Tue, 15 Nov 2016</td> <th>  AIC                </th> <td>11.960</td>\n",
       "</tr>\n",
       "<tr>\n",
       "  <th>Time:</th>              <td>17:57:24</td>     <th>  BIC                </th> <td>26.097</td>\n",
       "</tr>\n",
       "<tr>\n",
       "  <th>Sample:</th>           <td>01-01-1984</td>    <th>  HQIC               </th> <td>15.711</td>\n",
       "</tr>\n",
       "<tr>\n",
       "  <th></th>                 <td>- 01-01-2007</td>   <th>                     </th>    <td> </td>  \n",
       "</tr>\n",
       "</table>\n",
       "<table class=\"simpletable\">\n",
       "<tr>\n",
       "             <td></td>                <th>coef</th>     <th>std err</th>      <th>z</th>      <th>P>|z|</th> <th>[95.0% Conf. Int.]</th> \n",
       "</tr>\n",
       "<tr>\n",
       "  <th>const</th>                   <td>   29.2996</td> <td>    3.407</td> <td>    8.601</td> <td> 0.000</td> <td>   22.623    35.976</td>\n",
       "</tr>\n",
       "<tr>\n",
       "  <th>Biomass</th>                 <td>   -0.3307</td> <td>    0.620</td> <td>   -0.533</td> <td> 0.603</td> <td>   -1.546     0.885</td>\n",
       "</tr>\n",
       "<tr>\n",
       "  <th>Coal</th>                    <td>    0.0201</td> <td>    0.075</td> <td>    0.268</td> <td> 0.793</td> <td>   -0.127     0.168</td>\n",
       "</tr>\n",
       "<tr>\n",
       "  <th>Geothermal</th>              <td>   -6.1851</td> <td>    7.429</td> <td>   -0.833</td> <td> 0.420</td> <td>  -20.746     8.375</td>\n",
       "</tr>\n",
       "<tr>\n",
       "  <th>Hydroelectric</th>           <td>   -0.1124</td> <td>    0.224</td> <td>   -0.502</td> <td> 0.624</td> <td>   -0.551     0.326</td>\n",
       "</tr>\n",
       "<tr>\n",
       "  <th>Natgas (dry production)</th> <td>   -0.1343</td> <td>    0.129</td> <td>   -1.039</td> <td> 0.318</td> <td>   -0.388     0.119</td>\n",
       "</tr>\n",
       "<tr>\n",
       "  <th>Nuclear</th>                 <td>   -0.4835</td> <td>    0.107</td> <td>   -4.518</td> <td> 0.001</td> <td>   -0.693    -0.274</td>\n",
       "</tr>\n",
       "<tr>\n",
       "  <th>Solar</th>                   <td>  -12.5311</td> <td>   10.258</td> <td>   -1.222</td> <td> 0.244</td> <td>  -32.636     7.574</td>\n",
       "</tr>\n",
       "<tr>\n",
       "  <th>Wind</th>                    <td>    1.1394</td> <td>    1.361</td> <td>    0.837</td> <td> 0.418</td> <td>   -1.528     3.807</td>\n",
       "</tr>\n",
       "<tr>\n",
       "  <th>GDP</th>                     <td>-6.327e-13</td> <td> 1.39e-07</td> <td>-4.54e-06</td> <td> 1.000</td> <td>-2.73e-07  2.73e-07</td>\n",
       "</tr>\n",
       "<tr>\n",
       "  <th>ar.L1.Crude Oil</th>         <td>   -0.0043</td> <td>    0.492</td> <td>   -0.009</td> <td> 0.993</td> <td>   -0.968     0.960</td>\n",
       "</tr>\n",
       "</table>\n",
       "<table class=\"simpletable\">\n",
       "<caption>Roots</caption>\n",
       "<tr>\n",
       "    <td></td>   <th>           Real</th> <th>         Imaginary</th> <th>         Modulus</th> <th>        Frequency</th>\n",
       "</tr>\n",
       "<tr>\n",
       "  <th>AR.1</th>            -233.5831                    +0.0000j                  233.5831                    0.5000     \n",
       "</tr>\n",
       "</table>"
      ],
      "text/plain": [
       "<class 'statsmodels.iolib.summary.Summary'>\n",
       "\"\"\"\n",
       "                              ARMA Model Results                              \n",
       "==============================================================================\n",
       "Dep. Variable:              Crude Oil   No. Observations:                   24\n",
       "Model:                     ARMA(1, 0)   Log Likelihood                   6.020\n",
       "Method:                       css-mle   S.D. of innovations              1.262\n",
       "Date:                Tue, 15 Nov 2016   AIC                             11.960\n",
       "Time:                        17:57:24   BIC                             26.097\n",
       "Sample:                    01-01-1984   HQIC                            15.711\n",
       "                         - 01-01-2007                                         \n",
       "===========================================================================================\n",
       "                              coef    std err          z      P>|z|      [95.0% Conf. Int.]\n",
       "-------------------------------------------------------------------------------------------\n",
       "const                      29.2996      3.407      8.601      0.000        22.623    35.976\n",
       "Biomass                    -0.3307      0.620     -0.533      0.603        -1.546     0.885\n",
       "Coal                        0.0201      0.075      0.268      0.793        -0.127     0.168\n",
       "Geothermal                 -6.1851      7.429     -0.833      0.420       -20.746     8.375\n",
       "Hydroelectric              -0.1124      0.224     -0.502      0.624        -0.551     0.326\n",
       "Natgas (dry production)    -0.1343      0.129     -1.039      0.318        -0.388     0.119\n",
       "Nuclear                    -0.4835      0.107     -4.518      0.001        -0.693    -0.274\n",
       "Solar                     -12.5311     10.258     -1.222      0.244       -32.636     7.574\n",
       "Wind                        1.1394      1.361      0.837      0.418        -1.528     3.807\n",
       "GDP                     -6.327e-13   1.39e-07  -4.54e-06      1.000     -2.73e-07  2.73e-07\n",
       "ar.L1.Crude Oil            -0.0043      0.492     -0.009      0.993        -0.968     0.960\n",
       "                                    Roots                                    \n",
       "=============================================================================\n",
       "                 Real           Imaginary           Modulus         Frequency\n",
       "-----------------------------------------------------------------------------\n",
       "AR.1         -233.5831           +0.0000j          233.5831            0.5000\n",
       "-----------------------------------------------------------------------------\n",
       "\"\"\""
      ]
     },
     "execution_count": 173,
     "metadata": {},
     "output_type": "execute_result"
    }
   ],
   "source": [
    "model.summary()"
   ]
  },
  {
   "cell_type": "code",
   "execution_count": 174,
   "metadata": {
    "collapsed": false
   },
   "outputs": [
    {
     "data": {
      "image/png": "[encoded data removed]",
      "text/plain": [
       "<matplotlib.figure.Figure at 0x11de8e890>"
      ]
     },
     "metadata": {},
     "output_type": "display_data"
    }
   ],
   "source": [
    "model.plot_predict(0, m - 1)\n",
    "\n",
    "pass"
   ]
  },
  {
   "cell_type": "code",
   "execution_count": 175,
   "metadata": {
    "collapsed": true
   },
   "outputs": [],
   "source": [
    "n = df.shape[0]\n",
    "m = int(.75 * n)\n",
    "\n",
    "train_df = df[: m]\n",
    "test_df = df[m :]\n",
    "\n",
    "#X = df.drop('Natgas (dryproduction)', axis = 1)\n",
    "#y = df.Natgas (dryproduction)\n",
    "\n",
    "train_X = train_df.drop('Natgas (dry production)', axis = 1)\n",
    "train_y = train_df['Natgas (dry production)']\n",
    "\n",
    "test_X = test_df.drop('Natgas (dry production)', axis = 1)\n",
    "test_y = test_df['Natgas (dry production)']"
   ]
  },
  {
   "cell_type": "code",
   "execution_count": 179,
   "metadata": {
    "collapsed": false
   },
   "outputs": [
    {
     "name": "stderr",
     "output_type": "stream",
     "text": [
      "//anaconda/lib/python2.7/site-packages/statsmodels/base/model.py:466: ConvergenceWarning: Maximum Likelihood optimization failed to converge. Check mle_retvals\n",
      "  \"Check mle_retvals\", ConvergenceWarning)\n"
     ]
    }
   ],
   "source": [
    "model = arima_model.ARIMA(train_y, (1, 0, 0), train_X).fit()"
   ]
  },
  {
   "cell_type": "code",
   "execution_count": 180,
   "metadata": {
    "collapsed": false
   },
   "outputs": [
    {
     "data": {
      "text/html": [
       "<table class=\"simpletable\">\n",
       "<caption>ARMA Model Results</caption>\n",
       "<tr>\n",
       "  <th>Dep. Variable:</th> <td>Natgas (dry production)</td> <th>  No. Observations:  </th>   <td>24</td>   \n",
       "</tr>\n",
       "<tr>\n",
       "  <th>Model:</th>               <td>ARMA(1, 0)</td>        <th>  Log Likelihood     </th> <td>-14.081</td>\n",
       "</tr>\n",
       "<tr>\n",
       "  <th>Method:</th>                <td>css-mle</td>         <th>  S.D. of innovations</th>  <td>1.072</td> \n",
       "</tr>\n",
       "<tr>\n",
       "  <th>Date:</th>             <td>Tue, 15 Nov 2016</td>     <th>  AIC                </th> <td>52.163</td> \n",
       "</tr>\n",
       "<tr>\n",
       "  <th>Time:</th>                 <td>18:00:59</td>         <th>  BIC                </th> <td>66.299</td> \n",
       "</tr>\n",
       "<tr>\n",
       "  <th>Sample:</th>              <td>01-01-1984</td>        <th>  HQIC               </th> <td>55.913</td> \n",
       "</tr>\n",
       "<tr>\n",
       "  <th></th>                    <td>- 01-01-2007</td>       <th>                     </th>    <td> </td>   \n",
       "</tr>\n",
       "</table>\n",
       "<table class=\"simpletable\">\n",
       "<tr>\n",
       "                <td></td>                   <th>coef</th>     <th>std err</th>      <th>z</th>      <th>P>|z|</th> <th>[95.0% Conf. Int.]</th> \n",
       "</tr>\n",
       "<tr>\n",
       "  <th>const</th>                         <td>    2.9662</td> <td>      nan</td> <td>      nan</td> <td>   nan</td> <td>      nan       nan</td>\n",
       "</tr>\n",
       "<tr>\n",
       "  <th>Biomass</th>                       <td>    0.2613</td> <td>    0.327</td> <td>    0.800</td> <td> 0.438</td> <td>   -0.379     0.902</td>\n",
       "</tr>\n",
       "<tr>\n",
       "  <th>Coal</th>                          <td>    0.2989</td> <td>      nan</td> <td>      nan</td> <td>   nan</td> <td>      nan       nan</td>\n",
       "</tr>\n",
       "<tr>\n",
       "  <th>Crude Oil</th>                     <td>    0.1842</td> <td>    0.210</td> <td>    0.879</td> <td> 0.396</td> <td>   -0.227     0.595</td>\n",
       "</tr>\n",
       "<tr>\n",
       "  <th>Geothermal</th>                    <td>    4.7411</td> <td>      nan</td> <td>      nan</td> <td>   nan</td> <td>      nan       nan</td>\n",
       "</tr>\n",
       "<tr>\n",
       "  <th>Hydroelectric</th>                 <td>    0.1569</td> <td>    0.150</td> <td>    1.048</td> <td> 0.314</td> <td>   -0.136     0.450</td>\n",
       "</tr>\n",
       "<tr>\n",
       "  <th>Nuclear</th>                       <td>    0.2966</td> <td>    0.350</td> <td>    0.848</td> <td> 0.412</td> <td>   -0.389     0.982</td>\n",
       "</tr>\n",
       "<tr>\n",
       "  <th>Solar</th>                         <td>    2.7446</td> <td>      nan</td> <td>      nan</td> <td>   nan</td> <td>      nan       nan</td>\n",
       "</tr>\n",
       "<tr>\n",
       "  <th>Wind</th>                          <td>   -3.8901</td> <td>    1.615</td> <td>   -2.409</td> <td> 0.032</td> <td>   -7.056    -0.725</td>\n",
       "</tr>\n",
       "<tr>\n",
       "  <th>GDP</th>                           <td> 2.462e-13</td> <td> 1.39e-07</td> <td> 1.76e-06</td> <td> 1.000</td> <td>-2.73e-07  2.73e-07</td>\n",
       "</tr>\n",
       "<tr>\n",
       "  <th>ar.L1.Natgas (dry production)</th> <td>    0.2750</td> <td>    0.223</td> <td>    1.232</td> <td> 0.240</td> <td>   -0.163     0.713</td>\n",
       "</tr>\n",
       "</table>\n",
       "<table class=\"simpletable\">\n",
       "<caption>Roots</caption>\n",
       "<tr>\n",
       "    <td></td>   <th>           Real</th> <th>         Imaginary</th> <th>         Modulus</th> <th>        Frequency</th>\n",
       "</tr>\n",
       "<tr>\n",
       "  <th>AR.1</th>               3.6369                    +0.0000j                    3.6369                    0.0000     \n",
       "</tr>\n",
       "</table>"
      ],
      "text/plain": [
       "<class 'statsmodels.iolib.summary.Summary'>\n",
       "\"\"\"\n",
       "                                 ARMA Model Results                                \n",
       "===================================================================================\n",
       "Dep. Variable:     Natgas (dry production)   No. Observations:                   24\n",
       "Model:                          ARMA(1, 0)   Log Likelihood                 -14.081\n",
       "Method:                            css-mle   S.D. of innovations              1.072\n",
       "Date:                     Tue, 15 Nov 2016   AIC                             52.163\n",
       "Time:                             18:00:59   BIC                             66.299\n",
       "Sample:                         01-01-1984   HQIC                            55.913\n",
       "                              - 01-01-2007                                         \n",
       "=================================================================================================\n",
       "                                    coef    std err          z      P>|z|      [95.0% Conf. Int.]\n",
       "-------------------------------------------------------------------------------------------------\n",
       "const                             2.9662        nan        nan        nan           nan       nan\n",
       "Biomass                           0.2613      0.327      0.800      0.438        -0.379     0.902\n",
       "Coal                              0.2989        nan        nan        nan           nan       nan\n",
       "Crude Oil                         0.1842      0.210      0.879      0.396        -0.227     0.595\n",
       "Geothermal                        4.7411        nan        nan        nan           nan       nan\n",
       "Hydroelectric                     0.1569      0.150      1.048      0.314        -0.136     0.450\n",
       "Nuclear                           0.2966      0.350      0.848      0.412        -0.389     0.982\n",
       "Solar                             2.7446        nan        nan        nan           nan       nan\n",
       "Wind                             -3.8901      1.615     -2.409      0.032        -7.056    -0.725\n",
       "GDP                            2.462e-13   1.39e-07   1.76e-06      1.000     -2.73e-07  2.73e-07\n",
       "ar.L1.Natgas (dry production)     0.2750      0.223      1.232      0.240        -0.163     0.713\n",
       "                                    Roots                                    \n",
       "=============================================================================\n",
       "                 Real           Imaginary           Modulus         Frequency\n",
       "-----------------------------------------------------------------------------\n",
       "AR.1            3.6369           +0.0000j            3.6369            0.0000\n",
       "-----------------------------------------------------------------------------\n",
       "\"\"\""
      ]
     },
     "execution_count": 180,
     "metadata": {},
     "output_type": "execute_result"
    }
   ],
   "source": [
    "model.summary()"
   ]
  },
  {
   "cell_type": "code",
   "execution_count": 181,
   "metadata": {
    "collapsed": false
   },
   "outputs": [
    {
     "data": {
      "image/png": "[encoded data removed]",
      "text/plain": [
       "<matplotlib.figure.Figure at 0x11de6cad0>"
      ]
     },
     "metadata": {},
     "output_type": "display_data"
    }
   ],
   "source": [
    "model.plot_predict(0, m - 1)\n",
    "\n",
    "pass"
   ]
  },
  {
   "cell_type": "code",
   "execution_count": 159,
   "metadata": {
    "collapsed": false
   },
   "outputs": [
    {
     "data": {
      "image/png": "[encoded data removed]",
      "text/plain": [
       "<matplotlib.figure.Figure at 0x11decfcd0>"
      ]
     },
     "metadata": {},
     "output_type": "display_data"
    }
   ],
   "source": [
    "_, ax = plt.subplots()\n",
    "ax = df.GDP.plot(ax = ax)\n",
    "\n",
    "model.plot_predict(1, n, exog = test_X, ax = ax)\n",
    "\n",
    "pass"
   ]
  },
  {
   "cell_type": "code",
   "execution_count": null,
   "metadata": {
    "collapsed": true
   },
   "outputs": [],
   "source": [
    "model = arima_model.ARIMA(train_y, (1, 1, 0), train_X).fit()"
   ]
  },
  {
   "cell_type": "code",
   "execution_count": null,
   "metadata": {
    "collapsed": false
   },
   "outputs": [],
   "source": [
    "model.summary()"
   ]
  },
  {
   "cell_type": "code",
   "execution_count": null,
   "metadata": {
    "collapsed": false
   },
   "outputs": [],
   "source": [
    "model.resid.plot()"
   ]
  },
  {
   "cell_type": "code",
   "execution_count": null,
   "metadata": {
    "collapsed": true
   },
   "outputs": [],
   "source": []
  }
 ],
 "metadata": {
  "anaconda-cloud": {},
  "kernelspec": {
   "display_name": "Python [Root]",
   "language": "python",
   "name": "Python [Root]"
  },
  "language_info": {
   "codemirror_mode": {
    "name": "ipython",
    "version": 2
   },
   "file_extension": ".py",
   "mimetype": "text/x-python",
   "name": "python",
   "nbconvert_exporter": "python",
   "pygments_lexer": "ipython2",
   "version": "2.7.12"
  }
 },
 "nbformat": 4,
 "nbformat_minor": 0
}
